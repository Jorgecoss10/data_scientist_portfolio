{
 "cells": [
  {
   "cell_type": "markdown",
   "id": "f563665f",
   "metadata": {},
   "source": [
    "<b>¡Hola Jorge!</b>\n",
    "\n",
    "Mi nombre es Alejandro Abia y tengo el gusto de revisar tu proyecto.\n",
    "\n",
    "A continuación, encontrarás mis comentarios en celdas pintadas de tres colores (verde, amarillo y rojo), a manera de semáforo. Por favor, <b>no las borres ni muevas de posición</b> mientras dure el proceso de revisión.\n",
    "\n",
    "<div class=\"alert alert-block alert-success\">\n",
    "<b>Éxito</b> <a class=\"tocSkip\"></a>\n",
    "En celdas verdes encontrarás comentarios en relación a tus aciertos y fortalezas.\n",
    "</div>\n",
    "<div class=\"alert alert-block alert-warning\">\n",
    "<b>Antención</b> <a class=\"tocSkip\"></a>\n",
    "Utilizaré el color amarillo para llamar tu atención, expresar algo importante o compartirte alguna idea de valor.\n",
    "</div>\n",
    "<div class=\"alert alert-block alert-danger\">\n",
    "<b>A resolver</b> <a class=\"tocSkip\"></a>\n",
    "En rojo emitiré aquellos puntos que deberás atender para aprobar la revisión.\n",
    "</div>\n",
    "<div class=\"alert alert-block alert-info\">\n",
    "<b>Comentario estudiante</b><a class=\"tocSkip\"></a>\n",
    "Es factible que, a lo largo del proceso de revisión, quieras dejarme comentarios. Si es el caso, por favor realízalo dentro de celdas azules como esta.\n",
    "</div>\n",
    "Respecto del proceso de revisión, tu proyecto será aceptado una vez que los comentarios en rojo hayan sido atendidos.\n",
    "¡Empecemos!\n",
    "\n",
    "______________"
   ]
  },
  {
   "cell_type": "markdown",
   "id": "3Xg_RQfnafXz",
   "metadata": {
    "id": "3Xg_RQfnafXz"
   },
   "source": [
    "# ¡Llena ese carrito!"
   ]
  },
  {
   "cell_type": "markdown",
   "id": "mhIvmmkW414q",
   "metadata": {
    "id": "mhIvmmkW414q"
   },
   "source": [
    "# Introducción\n",
    "\n",
    "Instacart es una plataforma de entregas de comestibles donde la clientela puede registrar un pedido y hacer que se lo entreguen, similar a Uber Eats y Door Dash.\n",
    "El conjunto de datos que te hemos proporcionado tiene modificaciones del original. Redujimos el tamaño del conjunto para que tus cálculos se hicieran más rápido e introdujimos valores ausentes y duplicados. Tuvimos cuidado de conservar las distribuciones de los datos originales cuando hicimos los cambios.\n",
    "\n",
    "Debes completar tres pasos. Para cada uno de ellos, escribe una breve introducción que refleje con claridad cómo pretendes resolver cada paso, y escribe párrafos explicatorios que justifiquen tus decisiones al tiempo que avanzas en tu solución.  También escribe una conclusión que resuma tus hallazgos y elecciones.\n"
   ]
  },
  {
   "cell_type": "markdown",
   "id": "3MbyzpOQZ5Or",
   "metadata": {
    "id": "3MbyzpOQZ5Or"
   },
   "source": [
    "## Diccionario de datos\n",
    "\n",
    "Hay cinco tablas en el conjunto de datos, y tendrás que usarlas todas para hacer el preprocesamiento de datos y el análisis exploratorio de datos. A continuación se muestra un diccionario de datos que enumera las columnas de cada tabla y describe los datos que contienen.\n",
    "\n",
    "- `instacart_orders.csv`: cada fila corresponde a un pedido en la aplicación Instacart.\n",
    "    - `'order_id'`: número de ID que identifica de manera única cada pedido.\n",
    "    - `'user_id'`: número de ID que identifica de manera única la cuenta de cada cliente.\n",
    "    - `'order_number'`: el número de veces que este cliente ha hecho un pedido.\n",
    "    - `'order_dow'`: día de la semana en que se hizo el pedido (0 si es domingo).\n",
    "    - `'order_hour_of_day'`: hora del día en que se hizo el pedido.\n",
    "    - `'days_since_prior_order'`: número de días transcurridos desde que este cliente hizo su pedido anterior.\n",
    "- `products.csv`: cada fila corresponde a un producto único que pueden comprar los clientes.\n",
    "    - `'product_id'`: número ID que identifica de manera única cada producto.\n",
    "    - `'product_name'`: nombre del producto.\n",
    "    - `'aisle_id'`: número ID que identifica de manera única cada categoría de pasillo de víveres.\n",
    "    - `'department_id'`: número ID que identifica de manera única cada departamento de víveres.\n",
    "- `order_products.csv`: cada fila corresponde a un artículo pedido en un pedido.\n",
    "    - `'order_id'`: número de ID que identifica de manera única cada pedido.\n",
    "    - `'product_id'`: número ID que identifica de manera única cada producto.\n",
    "    - `'add_to_cart_order'`: el orden secuencial en el que se añadió cada artículo en el carrito.\n",
    "    - `'reordered'`: 0 si el cliente nunca ha pedido este producto antes, 1 si lo ha pedido.\n",
    "- `aisles.csv`\n",
    "    - `'aisle_id'`: número ID que identifica de manera única cada categoría de pasillo de víveres.\n",
    "    - `'aisle'`: nombre del pasillo.\n",
    "- `departments.csv`\n",
    "    - `'department_id'`: número ID que identifica de manera única cada departamento de víveres.\n",
    "    - `'department'`: nombre del departamento."
   ]
  },
  {
   "cell_type": "markdown",
   "id": "n3Ha_cNSZ8lK",
   "metadata": {
    "id": "n3Ha_cNSZ8lK"
   },
   "source": [
    "# Paso 1. Descripción de los datos\n",
    "\n",
    "Lee los archivos de datos (`/datasets/instacart_orders.csv`, `/datasets/products.csv`, `/datasets/aisles.csv`, `/datasets/departments.csv` y `/datasets/order_products.csv`) con `pd.read_csv()` usando los parámetros adecuados para leer los datos correctamente. Verifica la información para cada DataFrame creado.\n"
   ]
  },
  {
   "cell_type": "markdown",
   "id": "OmlQPLlyaAfR",
   "metadata": {
    "id": "OmlQPLlyaAfR"
   },
   "source": [
    "## Plan de solución\n",
    "\n",
    "Escribe aquí tu plan de solución para el Paso 1. Descripción de los datos."
   ]
  },
  {
   "cell_type": "code",
   "execution_count": 3,
   "id": "fbf1adab",
   "metadata": {
    "id": "fbf1adab"
   },
   "outputs": [],
   "source": [
    "import pandas as pd \n",
    "from matplotlib import pyplot as plt"
   ]
  },
  {
   "cell_type": "code",
   "execution_count": 4,
   "id": "ad36396d",
   "metadata": {
    "id": "ad36396d"
   },
   "outputs": [],
   "source": [
    "  ordenes = pd.read_csv('/datasets/instacart_orders.csv', sep=\";\")\n",
    "productos = pd.read_csv('/datasets/products.csv', sep=\";\")\n",
    "pasillos = pd.read_csv('/datasets/aisles.csv', sep=\";\")\n",
    "departamentos = pd.read_csv('/datasets/departments.csv', sep=\";\")\n",
    "orden_de_productos = pd.read_csv('/datasets/order_products.csv', sep=\";\")\n"
   ]
  },
  {
   "cell_type": "code",
   "execution_count": 5,
   "id": "ad6a1efa",
   "metadata": {
    "id": "ad6a1efa"
   },
   "outputs": [
    {
     "name": "stdout",
     "output_type": "stream",
     "text": [
      "<class 'pandas.core.frame.DataFrame'>\n",
      "RangeIndex: 478967 entries, 0 to 478966\n",
      "Data columns (total 6 columns):\n",
      " #   Column                  Non-Null Count   Dtype  \n",
      "---  ------                  --------------   -----  \n",
      " 0   order_id                478967 non-null  int64  \n",
      " 1   user_id                 478967 non-null  int64  \n",
      " 2   order_number            478967 non-null  int64  \n",
      " 3   order_dow               478967 non-null  int64  \n",
      " 4   order_hour_of_day       478967 non-null  int64  \n",
      " 5   days_since_prior_order  450148 non-null  float64\n",
      "dtypes: float64(1), int64(5)\n",
      "memory usage: 21.9 MB\n"
     ]
    }
   ],
   "source": [
    "ordenes.info()# mostrar información del DataFrame"
   ]
  },
  {
   "cell_type": "markdown",
   "id": "754b9afd",
   "metadata": {},
   "source": [
    "<div class=\"alert alert-block alert-success\"> <b>Éxito</b> <a class=\"tocSkip\"></a> Has leído los archivos correctamente utilizando `pd.read_csv()`, y es positivo que hayas utilizado el parámetro `sep=\";\"` para delimitar los datos, lo cual es crucial para evitar errores en la carga. Además, el uso de `.info()` es una excelente elección para revisar la estructura y tipos de datos.</div>"
   ]
  },
  {
   "cell_type": "code",
   "execution_count": 6,
   "id": "5130e05e",
   "metadata": {
    "id": "5130e05e"
   },
   "outputs": [
    {
     "name": "stdout",
     "output_type": "stream",
     "text": [
      "<class 'pandas.core.frame.DataFrame'>\n",
      "RangeIndex: 49694 entries, 0 to 49693\n",
      "Data columns (total 4 columns):\n",
      " #   Column         Non-Null Count  Dtype \n",
      "---  ------         --------------  ----- \n",
      " 0   product_id     49694 non-null  int64 \n",
      " 1   product_name   48436 non-null  object\n",
      " 2   aisle_id       49694 non-null  int64 \n",
      " 3   department_id  49694 non-null  int64 \n",
      "dtypes: int64(3), object(1)\n",
      "memory usage: 1.5+ MB\n"
     ]
    }
   ],
   "source": [
    "productos.info()# mostrar información del DataFrame"
   ]
  },
  {
   "cell_type": "code",
   "execution_count": 7,
   "id": "d8370c05",
   "metadata": {
    "id": "d8370c05"
   },
   "outputs": [
    {
     "name": "stdout",
     "output_type": "stream",
     "text": [
      "<class 'pandas.core.frame.DataFrame'>\n",
      "RangeIndex: 134 entries, 0 to 133\n",
      "Data columns (total 2 columns):\n",
      " #   Column    Non-Null Count  Dtype \n",
      "---  ------    --------------  ----- \n",
      " 0   aisle_id  134 non-null    int64 \n",
      " 1   aisle     134 non-null    object\n",
      "dtypes: int64(1), object(1)\n",
      "memory usage: 2.2+ KB\n"
     ]
    }
   ],
   "source": [
    "pasillos.info()# mostrar información del DataFrame"
   ]
  },
  {
   "cell_type": "code",
   "execution_count": 8,
   "id": "59e2090f",
   "metadata": {
    "id": "59e2090f"
   },
   "outputs": [
    {
     "name": "stdout",
     "output_type": "stream",
     "text": [
      "<class 'pandas.core.frame.DataFrame'>\n",
      "RangeIndex: 21 entries, 0 to 20\n",
      "Data columns (total 2 columns):\n",
      " #   Column         Non-Null Count  Dtype \n",
      "---  ------         --------------  ----- \n",
      " 0   department_id  21 non-null     int64 \n",
      " 1   department     21 non-null     object\n",
      "dtypes: int64(1), object(1)\n",
      "memory usage: 464.0+ bytes\n"
     ]
    }
   ],
   "source": [
    "departamentos.info()# mostrar información del DataFrame"
   ]
  },
  {
   "cell_type": "code",
   "execution_count": 9,
   "id": "6fc81694",
   "metadata": {
    "id": "6fc81694",
    "scrolled": true
   },
   "outputs": [
    {
     "name": "stdout",
     "output_type": "stream",
     "text": [
      "<class 'pandas.core.frame.DataFrame'>\n",
      "RangeIndex: 4545007 entries, 0 to 4545006\n",
      "Data columns (total 4 columns):\n",
      " #   Column             Non-Null Count    Dtype  \n",
      "---  ------             --------------    -----  \n",
      " 0   order_id           4545007 non-null  int64  \n",
      " 1   product_id         4545007 non-null  int64  \n",
      " 2   add_to_cart_order  4544171 non-null  float64\n",
      " 3   reordered          4545007 non-null  int64  \n",
      "dtypes: float64(1), int64(3)\n",
      "memory usage: 138.7 MB\n"
     ]
    }
   ],
   "source": [
    "orden_de_productos.info(show_counts=True)# mostrar información del DataFrame"
   ]
  },
  {
   "cell_type": "markdown",
   "id": "t75BD19oaR5f",
   "metadata": {
    "id": "t75BD19oaR5f"
   },
   "source": [
    "## Conclusiones\n",
    "\n",
    "Mediante el primer analisis de los datos se puede detectar varios detalles acerca de como estan compuestas las tablas. \n",
    "1.\"Lo que primero pude detectar es que hay valores ausenten en algunas columnas\"\n",
    "2.\"El tipo de datos que contienen algunas columnas de tipo categorias estan en tipo int64 \"\n",
    "3.\"Se tuvo que delimitar correctamente las tablas con ; para poder leer la informacion correctamente\""
   ]
  },
  {
   "cell_type": "markdown",
   "id": "7e321c39",
   "metadata": {},
   "source": [
    "<div class=\"alert alert-block alert-success\"> <b>Éxito</b> <a class=\"tocSkip\"></a> Has detectado correctamente que existen valores ausentes y algunas columnas categóricas que están almacenadas como `int64`. Además, mencionas que el delimitador `;` fue necesario, lo que demuestra que comprendiste las peculiaridades de los datos.</div>"
   ]
  },
  {
   "cell_type": "markdown",
   "id": "8RJHqxVmaVsF",
   "metadata": {
    "id": "8RJHqxVmaVsF"
   },
   "source": [
    "# Paso 2. Preprocesamiento de los datos\n",
    "\n",
    "Preprocesa los datos de la siguiente manera:\n",
    "\n",
    "- Verifica y corrige los tipos de datos (por ejemplo, asegúrate de que las columnas de ID sean números enteros).\n",
    "- Identifica y completa los valores ausentes.\n",
    "- Identifica y elimina los valores duplicados.\n",
    "\n",
    "Asegúrate de explicar qué tipos de valores ausentes y duplicados encontraste, cómo los completaste o eliminaste y por qué usaste esos métodos. ¿Por qué crees que estos valores ausentes y duplicados pueden haber estado presentes en el conjunto de datos?"
   ]
  },
  {
   "cell_type": "markdown",
   "id": "p6poABZQaZYb",
   "metadata": {
    "id": "p6poABZQaZYb"
   },
   "source": [
    "## Plan de solución\n",
    "\n",
    "Escribe aquí tu plan para el Paso 2.\n",
    "\"1) Detectar todos los valores ausentes y duplicados con los metodos isna() y duplicated().\"\n",
    "\"2) Analizar detalladamente la razon por la cual estos valores estan dupliados o ausentes para no borrar informacion valiosa\"\n",
    "\"3) Teniendo ya las razones de de la falta de datos podremos tomar una descision para saber que hacer con ellos\""
   ]
  },
  {
   "cell_type": "markdown",
   "id": "07357848-dc64-4156-9cc3-01ff4365226d",
   "metadata": {
    "id": "07357848-dc64-4156-9cc3-01ff4365226d"
   },
   "source": [
    "## Encuentra y elimina los valores duplicados (y describe cómo tomaste tus decisiones)."
   ]
  },
  {
   "cell_type": "markdown",
   "id": "f179f0a9",
   "metadata": {
    "id": "f179f0a9"
   },
   "source": [
    "### `instacart_orders` data frame"
   ]
  },
  {
   "cell_type": "code",
   "execution_count": 10,
   "id": "b99297a5-405a-463d-8535-9adc3da4ad74",
   "metadata": {
    "id": "b99297a5-405a-463d-8535-9adc3da4ad74"
   },
   "outputs": [
    {
     "data": {
      "text/html": [
       "<div>\n",
       "<style scoped>\n",
       "    .dataframe tbody tr th:only-of-type {\n",
       "        vertical-align: middle;\n",
       "    }\n",
       "\n",
       "    .dataframe tbody tr th {\n",
       "        vertical-align: top;\n",
       "    }\n",
       "\n",
       "    .dataframe thead th {\n",
       "        text-align: right;\n",
       "    }\n",
       "</style>\n",
       "<table border=\"1\" class=\"dataframe\">\n",
       "  <thead>\n",
       "    <tr style=\"text-align: right;\">\n",
       "      <th></th>\n",
       "      <th>order_id</th>\n",
       "      <th>user_id</th>\n",
       "      <th>order_number</th>\n",
       "      <th>order_dow</th>\n",
       "      <th>order_hour_of_day</th>\n",
       "      <th>days_since_prior_order</th>\n",
       "    </tr>\n",
       "  </thead>\n",
       "  <tbody>\n",
       "    <tr>\n",
       "      <th>145574</th>\n",
       "      <td>794638</td>\n",
       "      <td>50898</td>\n",
       "      <td>24</td>\n",
       "      <td>3</td>\n",
       "      <td>2</td>\n",
       "      <td>2.0</td>\n",
       "    </tr>\n",
       "    <tr>\n",
       "      <th>223105</th>\n",
       "      <td>2160484</td>\n",
       "      <td>107525</td>\n",
       "      <td>16</td>\n",
       "      <td>3</td>\n",
       "      <td>2</td>\n",
       "      <td>30.0</td>\n",
       "    </tr>\n",
       "    <tr>\n",
       "      <th>230807</th>\n",
       "      <td>1918001</td>\n",
       "      <td>188546</td>\n",
       "      <td>14</td>\n",
       "      <td>3</td>\n",
       "      <td>2</td>\n",
       "      <td>16.0</td>\n",
       "    </tr>\n",
       "    <tr>\n",
       "      <th>266232</th>\n",
       "      <td>1782114</td>\n",
       "      <td>106752</td>\n",
       "      <td>1</td>\n",
       "      <td>3</td>\n",
       "      <td>2</td>\n",
       "      <td>NaN</td>\n",
       "    </tr>\n",
       "    <tr>\n",
       "      <th>273805</th>\n",
       "      <td>1112182</td>\n",
       "      <td>202304</td>\n",
       "      <td>84</td>\n",
       "      <td>3</td>\n",
       "      <td>2</td>\n",
       "      <td>6.0</td>\n",
       "    </tr>\n",
       "    <tr>\n",
       "      <th>284038</th>\n",
       "      <td>2845099</td>\n",
       "      <td>31189</td>\n",
       "      <td>11</td>\n",
       "      <td>3</td>\n",
       "      <td>2</td>\n",
       "      <td>7.0</td>\n",
       "    </tr>\n",
       "    <tr>\n",
       "      <th>311713</th>\n",
       "      <td>1021560</td>\n",
       "      <td>53767</td>\n",
       "      <td>3</td>\n",
       "      <td>3</td>\n",
       "      <td>2</td>\n",
       "      <td>9.0</td>\n",
       "    </tr>\n",
       "    <tr>\n",
       "      <th>321100</th>\n",
       "      <td>408114</td>\n",
       "      <td>68324</td>\n",
       "      <td>4</td>\n",
       "      <td>3</td>\n",
       "      <td>2</td>\n",
       "      <td>18.0</td>\n",
       "    </tr>\n",
       "    <tr>\n",
       "      <th>323900</th>\n",
       "      <td>1919531</td>\n",
       "      <td>191501</td>\n",
       "      <td>32</td>\n",
       "      <td>3</td>\n",
       "      <td>2</td>\n",
       "      <td>7.0</td>\n",
       "    </tr>\n",
       "    <tr>\n",
       "      <th>345917</th>\n",
       "      <td>2232988</td>\n",
       "      <td>82565</td>\n",
       "      <td>1</td>\n",
       "      <td>3</td>\n",
       "      <td>2</td>\n",
       "      <td>NaN</td>\n",
       "    </tr>\n",
       "    <tr>\n",
       "      <th>371905</th>\n",
       "      <td>391768</td>\n",
       "      <td>57671</td>\n",
       "      <td>19</td>\n",
       "      <td>3</td>\n",
       "      <td>2</td>\n",
       "      <td>10.0</td>\n",
       "    </tr>\n",
       "    <tr>\n",
       "      <th>394347</th>\n",
       "      <td>467134</td>\n",
       "      <td>63189</td>\n",
       "      <td>21</td>\n",
       "      <td>3</td>\n",
       "      <td>2</td>\n",
       "      <td>2.0</td>\n",
       "    </tr>\n",
       "    <tr>\n",
       "      <th>411408</th>\n",
       "      <td>1286742</td>\n",
       "      <td>183220</td>\n",
       "      <td>48</td>\n",
       "      <td>3</td>\n",
       "      <td>2</td>\n",
       "      <td>4.0</td>\n",
       "    </tr>\n",
       "    <tr>\n",
       "      <th>415163</th>\n",
       "      <td>2282673</td>\n",
       "      <td>86751</td>\n",
       "      <td>49</td>\n",
       "      <td>3</td>\n",
       "      <td>2</td>\n",
       "      <td>2.0</td>\n",
       "    </tr>\n",
       "    <tr>\n",
       "      <th>441599</th>\n",
       "      <td>2125197</td>\n",
       "      <td>14050</td>\n",
       "      <td>48</td>\n",
       "      <td>3</td>\n",
       "      <td>2</td>\n",
       "      <td>3.0</td>\n",
       "    </tr>\n",
       "  </tbody>\n",
       "</table>\n",
       "</div>"
      ],
      "text/plain": [
       "        order_id  user_id  order_number  order_dow  order_hour_of_day  \\\n",
       "145574    794638    50898            24          3                  2   \n",
       "223105   2160484   107525            16          3                  2   \n",
       "230807   1918001   188546            14          3                  2   \n",
       "266232   1782114   106752             1          3                  2   \n",
       "273805   1112182   202304            84          3                  2   \n",
       "284038   2845099    31189            11          3                  2   \n",
       "311713   1021560    53767             3          3                  2   \n",
       "321100    408114    68324             4          3                  2   \n",
       "323900   1919531   191501            32          3                  2   \n",
       "345917   2232988    82565             1          3                  2   \n",
       "371905    391768    57671            19          3                  2   \n",
       "394347    467134    63189            21          3                  2   \n",
       "411408   1286742   183220            48          3                  2   \n",
       "415163   2282673    86751            49          3                  2   \n",
       "441599   2125197    14050            48          3                  2   \n",
       "\n",
       "        days_since_prior_order  \n",
       "145574                     2.0  \n",
       "223105                    30.0  \n",
       "230807                    16.0  \n",
       "266232                     NaN  \n",
       "273805                     6.0  \n",
       "284038                     7.0  \n",
       "311713                     9.0  \n",
       "321100                    18.0  \n",
       "323900                     7.0  \n",
       "345917                     NaN  \n",
       "371905                    10.0  \n",
       "394347                     2.0  \n",
       "411408                     4.0  \n",
       "415163                     2.0  \n",
       "441599                     3.0  "
      ]
     },
     "execution_count": 10,
     "metadata": {},
     "output_type": "execute_result"
    }
   ],
   "source": [
    "# Revisa si hay pedidos duplicados\n",
    "ordenes[ordenes.duplicated()]\n",
    "\n"
   ]
  },
  {
   "cell_type": "code",
   "execution_count": 11,
   "id": "b095eb80",
   "metadata": {
    "scrolled": true
   },
   "outputs": [
    {
     "data": {
      "text/plain": [
       "15"
      ]
     },
     "execution_count": 11,
     "metadata": {},
     "output_type": "execute_result"
    }
   ],
   "source": [
    "ordenes.duplicated().sum()"
   ]
  },
  {
   "cell_type": "markdown",
   "id": "0d118bf2",
   "metadata": {},
   "source": [
    "<div class=\"alert alert-block alert-warning\"> <b>Atención</b> <a class=\"tocSkip\"></a> Al manejar los duplicados, notaste que varias órdenes estaban repetidas y todas se realizaron en miércoles a las 2 a.m. Aunque eliminaste las filas duplicadas, podrías haber explorado más la razón de este comportamiento, tal vez filtrando por IDs de usuario o verificando si es un patrón de compras automáticas. Esto podría dar lugar a un análisis interesante sobre el comportamiento del cliente en horas de la madrugada.</div>"
   ]
  },
  {
   "cell_type": "markdown",
   "id": "PEkwUX_gvt5A",
   "metadata": {
    "id": "PEkwUX_gvt5A"
   },
   "source": [
    "¿Tienes líneas duplicadas? Si sí, ¿qué tienen en común?\n",
    "Si, hay lineas duplicadas todas tienen en comun que se hicieron el miercoles a las 2 de la mañana. "
   ]
  },
  {
   "cell_type": "code",
   "execution_count": 12,
   "id": "0d44de5d",
   "metadata": {
    "id": "0d44de5d"
   },
   "outputs": [
    {
     "data": {
      "text/html": [
       "<div>\n",
       "<style scoped>\n",
       "    .dataframe tbody tr th:only-of-type {\n",
       "        vertical-align: middle;\n",
       "    }\n",
       "\n",
       "    .dataframe tbody tr th {\n",
       "        vertical-align: top;\n",
       "    }\n",
       "\n",
       "    .dataframe thead th {\n",
       "        text-align: right;\n",
       "    }\n",
       "</style>\n",
       "<table border=\"1\" class=\"dataframe\">\n",
       "  <thead>\n",
       "    <tr style=\"text-align: right;\">\n",
       "      <th></th>\n",
       "      <th>order_id</th>\n",
       "      <th>user_id</th>\n",
       "      <th>order_number</th>\n",
       "      <th>order_dow</th>\n",
       "      <th>order_hour_of_day</th>\n",
       "      <th>days_since_prior_order</th>\n",
       "    </tr>\n",
       "  </thead>\n",
       "  <tbody>\n",
       "    <tr>\n",
       "      <th>4838</th>\n",
       "      <td>2766110</td>\n",
       "      <td>162084</td>\n",
       "      <td>41</td>\n",
       "      <td>3</td>\n",
       "      <td>2</td>\n",
       "      <td>16.0</td>\n",
       "    </tr>\n",
       "    <tr>\n",
       "      <th>5156</th>\n",
       "      <td>2190225</td>\n",
       "      <td>138285</td>\n",
       "      <td>18</td>\n",
       "      <td>3</td>\n",
       "      <td>2</td>\n",
       "      <td>11.0</td>\n",
       "    </tr>\n",
       "    <tr>\n",
       "      <th>15506</th>\n",
       "      <td>553049</td>\n",
       "      <td>58599</td>\n",
       "      <td>13</td>\n",
       "      <td>3</td>\n",
       "      <td>2</td>\n",
       "      <td>7.0</td>\n",
       "    </tr>\n",
       "    <tr>\n",
       "      <th>18420</th>\n",
       "      <td>382357</td>\n",
       "      <td>120200</td>\n",
       "      <td>19</td>\n",
       "      <td>3</td>\n",
       "      <td>2</td>\n",
       "      <td>11.0</td>\n",
       "    </tr>\n",
       "    <tr>\n",
       "      <th>24691</th>\n",
       "      <td>690242</td>\n",
       "      <td>77357</td>\n",
       "      <td>2</td>\n",
       "      <td>3</td>\n",
       "      <td>2</td>\n",
       "      <td>9.0</td>\n",
       "    </tr>\n",
       "    <tr>\n",
       "      <th>...</th>\n",
       "      <td>...</td>\n",
       "      <td>...</td>\n",
       "      <td>...</td>\n",
       "      <td>...</td>\n",
       "      <td>...</td>\n",
       "      <td>...</td>\n",
       "    </tr>\n",
       "    <tr>\n",
       "      <th>457013</th>\n",
       "      <td>3384021</td>\n",
       "      <td>14881</td>\n",
       "      <td>6</td>\n",
       "      <td>3</td>\n",
       "      <td>2</td>\n",
       "      <td>30.0</td>\n",
       "    </tr>\n",
       "    <tr>\n",
       "      <th>458816</th>\n",
       "      <td>910166</td>\n",
       "      <td>164782</td>\n",
       "      <td>18</td>\n",
       "      <td>3</td>\n",
       "      <td>2</td>\n",
       "      <td>4.0</td>\n",
       "    </tr>\n",
       "    <tr>\n",
       "      <th>459635</th>\n",
       "      <td>1680532</td>\n",
       "      <td>106435</td>\n",
       "      <td>6</td>\n",
       "      <td>3</td>\n",
       "      <td>2</td>\n",
       "      <td>21.0</td>\n",
       "    </tr>\n",
       "    <tr>\n",
       "      <th>468324</th>\n",
       "      <td>222962</td>\n",
       "      <td>54979</td>\n",
       "      <td>59</td>\n",
       "      <td>3</td>\n",
       "      <td>2</td>\n",
       "      <td>3.0</td>\n",
       "    </tr>\n",
       "    <tr>\n",
       "      <th>477526</th>\n",
       "      <td>2592344</td>\n",
       "      <td>46860</td>\n",
       "      <td>38</td>\n",
       "      <td>3</td>\n",
       "      <td>2</td>\n",
       "      <td>3.0</td>\n",
       "    </tr>\n",
       "  </tbody>\n",
       "</table>\n",
       "<p>121 rows × 6 columns</p>\n",
       "</div>"
      ],
      "text/plain": [
       "        order_id  user_id  order_number  order_dow  order_hour_of_day  \\\n",
       "4838     2766110   162084            41          3                  2   \n",
       "5156     2190225   138285            18          3                  2   \n",
       "15506     553049    58599            13          3                  2   \n",
       "18420     382357   120200            19          3                  2   \n",
       "24691     690242    77357             2          3                  2   \n",
       "...          ...      ...           ...        ...                ...   \n",
       "457013   3384021    14881             6          3                  2   \n",
       "458816    910166   164782            18          3                  2   \n",
       "459635   1680532   106435             6          3                  2   \n",
       "468324    222962    54979            59          3                  2   \n",
       "477526   2592344    46860            38          3                  2   \n",
       "\n",
       "        days_since_prior_order  \n",
       "4838                      16.0  \n",
       "5156                      11.0  \n",
       "15506                      7.0  \n",
       "18420                     11.0  \n",
       "24691                      9.0  \n",
       "...                        ...  \n",
       "457013                    30.0  \n",
       "458816                     4.0  \n",
       "459635                    21.0  \n",
       "468324                     3.0  \n",
       "477526                     3.0  \n",
       "\n",
       "[121 rows x 6 columns]"
      ]
     },
     "execution_count": 12,
     "metadata": {},
     "output_type": "execute_result"
    }
   ],
   "source": [
    "# Basándote en tus hallazgos,\n",
    "# Verifica todos los pedidos que se hicieron el miércoles a las 2:00 a.m.\n",
    "ordenes[(ordenes[\"order_dow\"]== 3) & (ordenes[\"order_hour_of_day\"]== 2)]"
   ]
  },
  {
   "cell_type": "code",
   "execution_count": 13,
   "id": "95946ddb",
   "metadata": {},
   "outputs": [
    {
     "data": {
      "text/plain": [
       "12.396694214876034"
      ]
     },
     "execution_count": 13,
     "metadata": {},
     "output_type": "execute_result"
    }
   ],
   "source": [
    "(15/121)*100"
   ]
  },
  {
   "cell_type": "markdown",
   "id": "vu2OWyoqwOx5",
   "metadata": {
    "id": "vu2OWyoqwOx5"
   },
   "source": [
    "¿Qué sugiere este resultado?\n",
    "Esto nos indica que solo el 12% de las ordenes realizadas  el miercoles a las 2 am . "
   ]
  },
  {
   "cell_type": "code",
   "execution_count": 14,
   "id": "480563c7",
   "metadata": {
    "id": "480563c7"
   },
   "outputs": [],
   "source": [
    "# Elimina los pedidos duplicados\n",
    "ordenes= ordenes.drop_duplicates().reset_index(drop=True)"
   ]
  },
  {
   "cell_type": "code",
   "execution_count": 15,
   "id": "0b2396a2",
   "metadata": {
    "id": "0b2396a2"
   },
   "outputs": [
    {
     "data": {
      "text/plain": [
       "0"
      ]
     },
     "execution_count": 15,
     "metadata": {},
     "output_type": "execute_result"
    }
   ],
   "source": [
    "# Vuelve a verificar si hay filas duplicadas\n",
    "ordenes.duplicated().sum()\n"
   ]
  },
  {
   "cell_type": "code",
   "execution_count": 16,
   "id": "f6113ef1",
   "metadata": {
    "id": "f6113ef1"
   },
   "outputs": [
    {
     "data": {
      "text/plain": [
       "0"
      ]
     },
     "execution_count": 16,
     "metadata": {},
     "output_type": "execute_result"
    }
   ],
   "source": [
    "# Vuelve a verificar si hay IDs duplicados de pedidos\n",
    "ordenes.duplicated(subset=\"order_id\").sum()"
   ]
  },
  {
   "cell_type": "markdown",
   "id": "5e8905ae",
   "metadata": {
    "id": "5e8905ae"
   },
   "source": [
    "Mediante la limpieza de datos pude encontar que algunos valores se encontraban repetidos, analizando los valores repetidos detecte que estos datos eran de un mismo dia de la semana y misma hora de compra, esto me llevo a buscar entre todas las compras hechas ese dia y hora, descubirendo asi que solo el 12% de las compras hechas estaban repetidas. "
   ]
  },
  {
   "cell_type": "markdown",
   "id": "45e6bc46",
   "metadata": {
    "id": "45e6bc46"
   },
   "source": [
    "### `products` data frame"
   ]
  },
  {
   "cell_type": "code",
   "execution_count": 17,
   "id": "5f526b5b-8175-46fa-a0fd-441767d50e64",
   "metadata": {
    "id": "5f526b5b-8175-46fa-a0fd-441767d50e64"
   },
   "outputs": [
    {
     "name": "stdout",
     "output_type": "stream",
     "text": [
      "<class 'pandas.core.frame.DataFrame'>\n",
      "RangeIndex: 49694 entries, 0 to 49693\n",
      "Data columns (total 4 columns):\n",
      " #   Column         Non-Null Count  Dtype \n",
      "---  ------         --------------  ----- \n",
      " 0   product_id     49694 non-null  int64 \n",
      " 1   product_name   48436 non-null  object\n",
      " 2   aisle_id       49694 non-null  int64 \n",
      " 3   department_id  49694 non-null  int64 \n",
      "dtypes: int64(3), object(1)\n",
      "memory usage: 1.5+ MB\n",
      "\n"
     ]
    },
    {
     "data": {
      "text/plain": [
       "0"
      ]
     },
     "execution_count": 17,
     "metadata": {},
     "output_type": "execute_result"
    }
   ],
   "source": [
    "# Verifica si hay filas totalmente duplicadas\n",
    "productos.info()\n",
    "print()\n",
    "productos.duplicated().sum()"
   ]
  },
  {
   "cell_type": "code",
   "execution_count": 18,
   "id": "88daa4f4",
   "metadata": {
    "id": "88daa4f4"
   },
   "outputs": [
    {
     "data": {
      "text/plain": [
       "0"
      ]
     },
     "execution_count": 18,
     "metadata": {},
     "output_type": "execute_result"
    }
   ],
   "source": [
    "# Verifica si hay IDs duplicadas de productos\n",
    "productos.duplicated(subset=\"product_id\").sum()"
   ]
  },
  {
   "cell_type": "code",
   "execution_count": 19,
   "id": "c773f0bf",
   "metadata": {
    "id": "c773f0bf"
   },
   "outputs": [
    {
     "data": {
      "text/plain": [
       "1361"
      ]
     },
     "execution_count": 19,
     "metadata": {},
     "output_type": "execute_result"
    }
   ],
   "source": [
    "# Revisa si hay nombres duplicados de productos (convierte los nombres a letras mayúsculas para compararlos mejor)\n",
    "productos[\"product_name\"]= productos[\"product_name\"].str.upper()\n",
    "productos.duplicated(subset=\"product_name\").sum()"
   ]
  },
  {
   "cell_type": "code",
   "execution_count": 20,
   "id": "01efd02e",
   "metadata": {
    "id": "01efd02e"
   },
   "outputs": [
    {
     "data": {
      "text/html": [
       "<div>\n",
       "<style scoped>\n",
       "    .dataframe tbody tr th:only-of-type {\n",
       "        vertical-align: middle;\n",
       "    }\n",
       "\n",
       "    .dataframe tbody tr th {\n",
       "        vertical-align: top;\n",
       "    }\n",
       "\n",
       "    .dataframe thead th {\n",
       "        text-align: right;\n",
       "    }\n",
       "</style>\n",
       "<table border=\"1\" class=\"dataframe\">\n",
       "  <thead>\n",
       "    <tr style=\"text-align: right;\">\n",
       "      <th></th>\n",
       "      <th>product_id</th>\n",
       "      <th>product_name</th>\n",
       "      <th>aisle_id</th>\n",
       "      <th>department_id</th>\n",
       "    </tr>\n",
       "  </thead>\n",
       "  <tbody>\n",
       "    <tr>\n",
       "      <th>2058</th>\n",
       "      <td>2059</td>\n",
       "      <td>BIOTIN 1000 MCG</td>\n",
       "      <td>47</td>\n",
       "      <td>11</td>\n",
       "    </tr>\n",
       "    <tr>\n",
       "      <th>5455</th>\n",
       "      <td>5456</td>\n",
       "      <td>GREEN TEA WITH GINSENG AND HONEY</td>\n",
       "      <td>96</td>\n",
       "      <td>20</td>\n",
       "    </tr>\n",
       "    <tr>\n",
       "      <th>5558</th>\n",
       "      <td>5559</td>\n",
       "      <td>CREAM OF MUSHROOM SOUP</td>\n",
       "      <td>69</td>\n",
       "      <td>15</td>\n",
       "    </tr>\n",
       "    <tr>\n",
       "      <th>7558</th>\n",
       "      <td>7559</td>\n",
       "      <td>CINNAMON ROLLS WITH ICING</td>\n",
       "      <td>105</td>\n",
       "      <td>13</td>\n",
       "    </tr>\n",
       "    <tr>\n",
       "      <th>9037</th>\n",
       "      <td>9038</td>\n",
       "      <td>AMERICAN CHEESE SLICES</td>\n",
       "      <td>21</td>\n",
       "      <td>16</td>\n",
       "    </tr>\n",
       "    <tr>\n",
       "      <th>...</th>\n",
       "      <td>...</td>\n",
       "      <td>...</td>\n",
       "      <td>...</td>\n",
       "      <td>...</td>\n",
       "    </tr>\n",
       "    <tr>\n",
       "      <th>49689</th>\n",
       "      <td>49690</td>\n",
       "      <td>HIGH PERFORMANCE ENERGY DRINK</td>\n",
       "      <td>64</td>\n",
       "      <td>7</td>\n",
       "    </tr>\n",
       "    <tr>\n",
       "      <th>49690</th>\n",
       "      <td>49691</td>\n",
       "      <td>ORIGINAL PANCAKE &amp; WAFFLE MIX</td>\n",
       "      <td>130</td>\n",
       "      <td>14</td>\n",
       "    </tr>\n",
       "    <tr>\n",
       "      <th>49691</th>\n",
       "      <td>49692</td>\n",
       "      <td>ORGANIC INSTANT OATMEAL LIGHT MAPLE BROWN SUGAR</td>\n",
       "      <td>130</td>\n",
       "      <td>14</td>\n",
       "    </tr>\n",
       "    <tr>\n",
       "      <th>49692</th>\n",
       "      <td>49693</td>\n",
       "      <td>SPRING WATER BODY WASH</td>\n",
       "      <td>127</td>\n",
       "      <td>11</td>\n",
       "    </tr>\n",
       "    <tr>\n",
       "      <th>49693</th>\n",
       "      <td>49694</td>\n",
       "      <td>BURRITO- STEAK &amp; CHEESE</td>\n",
       "      <td>38</td>\n",
       "      <td>1</td>\n",
       "    </tr>\n",
       "  </tbody>\n",
       "</table>\n",
       "<p>104 rows × 4 columns</p>\n",
       "</div>"
      ],
      "text/plain": [
       "       product_id                                     product_name  aisle_id  \\\n",
       "2058         2059                                  BIOTIN 1000 MCG        47   \n",
       "5455         5456                 GREEN TEA WITH GINSENG AND HONEY        96   \n",
       "5558         5559                           CREAM OF MUSHROOM SOUP        69   \n",
       "7558         7559                        CINNAMON ROLLS WITH ICING       105   \n",
       "9037         9038                           AMERICAN CHEESE SLICES        21   \n",
       "...           ...                                              ...       ...   \n",
       "49689       49690                    HIGH PERFORMANCE ENERGY DRINK        64   \n",
       "49690       49691                    ORIGINAL PANCAKE & WAFFLE MIX       130   \n",
       "49691       49692  ORGANIC INSTANT OATMEAL LIGHT MAPLE BROWN SUGAR       130   \n",
       "49692       49693                           SPRING WATER BODY WASH       127   \n",
       "49693       49694                          BURRITO- STEAK & CHEESE        38   \n",
       "\n",
       "       department_id  \n",
       "2058              11  \n",
       "5455              20  \n",
       "5558              15  \n",
       "7558              13  \n",
       "9037              16  \n",
       "...              ...  \n",
       "49689              7  \n",
       "49690             14  \n",
       "49691             14  \n",
       "49692             11  \n",
       "49693              1  \n",
       "\n",
       "[104 rows x 4 columns]"
      ]
     },
     "execution_count": 20,
     "metadata": {},
     "output_type": "execute_result"
    }
   ],
   "source": [
    "# Revisa si hay nombres duplicados de productos no faltantes\n",
    "productos[(productos.duplicated(subset=\"product_name\"))& (~productos[\"product_name\"].isna())]"
   ]
  },
  {
   "cell_type": "markdown",
   "id": "9da8d293",
   "metadata": {
    "id": "9da8d293"
   },
   "source": [
    "Analizando los datos de la tabla productos pude encontrar que no habian productos duplicados a simple vista, se tuvo que convertir los nombres de los productos a mayusculas para encontrar los valures duplicados implicitos, analizando estos duplicados encontramos que cada uno tenia productos_id diferentes, en conclusion no son productos duplicados.  \n"
   ]
  },
  {
   "cell_type": "markdown",
   "id": "60f30db1",
   "metadata": {
    "id": "60f30db1"
   },
   "source": [
    "### `departments` data frame"
   ]
  },
  {
   "cell_type": "code",
   "execution_count": 21,
   "id": "fb410ad4-0fbf-4b80-bb09-23fdea79afe3",
   "metadata": {
    "id": "fb410ad4-0fbf-4b80-bb09-23fdea79afe3"
   },
   "outputs": [
    {
     "name": "stdout",
     "output_type": "stream",
     "text": [
      "<class 'pandas.core.frame.DataFrame'>\n",
      "RangeIndex: 21 entries, 0 to 20\n",
      "Data columns (total 2 columns):\n",
      " #   Column         Non-Null Count  Dtype \n",
      "---  ------         --------------  ----- \n",
      " 0   department_id  21 non-null     int64 \n",
      " 1   department     21 non-null     object\n",
      "dtypes: int64(1), object(1)\n",
      "memory usage: 464.0+ bytes\n"
     ]
    },
    {
     "data": {
      "text/plain": [
       "0"
      ]
     },
     "execution_count": 21,
     "metadata": {},
     "output_type": "execute_result"
    }
   ],
   "source": [
    "# Revisa si hay filas totalmente duplicadas\n",
    "departamentos.info()\n",
    "departamentos.duplicated().sum()"
   ]
  },
  {
   "cell_type": "code",
   "execution_count": 22,
   "id": "332b12bb",
   "metadata": {
    "id": "332b12bb"
   },
   "outputs": [
    {
     "data": {
      "text/plain": [
       "0"
      ]
     },
     "execution_count": 22,
     "metadata": {},
     "output_type": "execute_result"
    }
   ],
   "source": [
    "# Revisa si hay IDs duplicadas de productos\n",
    "departamentos.duplicated(subset=\"department_id\").sum()"
   ]
  },
  {
   "cell_type": "markdown",
   "id": "bd30d78e",
   "metadata": {
    "id": "bd30d78e"
   },
   "source": [
    "No hay valores duplicados en esta tabla. "
   ]
  },
  {
   "cell_type": "markdown",
   "id": "889349c1",
   "metadata": {
    "id": "889349c1"
   },
   "source": [
    "### `aisles` data frame"
   ]
  },
  {
   "cell_type": "code",
   "execution_count": 23,
   "id": "9da89fb9-4679-40f5-ad0d-c34df753a3f8",
   "metadata": {
    "id": "9da89fb9-4679-40f5-ad0d-c34df753a3f8"
   },
   "outputs": [
    {
     "name": "stdout",
     "output_type": "stream",
     "text": [
      "<class 'pandas.core.frame.DataFrame'>\n",
      "RangeIndex: 134 entries, 0 to 133\n",
      "Data columns (total 2 columns):\n",
      " #   Column    Non-Null Count  Dtype \n",
      "---  ------    --------------  ----- \n",
      " 0   aisle_id  134 non-null    int64 \n",
      " 1   aisle     134 non-null    object\n",
      "dtypes: int64(1), object(1)\n",
      "memory usage: 2.2+ KB\n"
     ]
    },
    {
     "data": {
      "text/plain": [
       "0"
      ]
     },
     "execution_count": 23,
     "metadata": {},
     "output_type": "execute_result"
    }
   ],
   "source": [
    "# Revisa si hay filas totalmente duplicadas\n",
    "pasillos.info()\n",
    "pasillos.duplicated().sum()"
   ]
  },
  {
   "cell_type": "code",
   "execution_count": 24,
   "id": "da7c2822",
   "metadata": {
    "id": "da7c2822"
   },
   "outputs": [
    {
     "name": "stdout",
     "output_type": "stream",
     "text": [
      "   aisle_id                       aisle\n",
      "0         1       prepared soups salads\n",
      "1         2           specialty cheeses\n",
      "2         3         energy granola bars\n",
      "3         4               instant foods\n",
      "4         5  marinades meat preparation\n"
     ]
    },
    {
     "data": {
      "text/plain": [
       "0"
      ]
     },
     "execution_count": 24,
     "metadata": {},
     "output_type": "execute_result"
    }
   ],
   "source": [
    "# Revisa si hay IDs duplicadas de productos\n",
    "print(pasillos.head())\n",
    "pasillos.duplicated(subset=\"aisle_id\").sum()"
   ]
  },
  {
   "cell_type": "markdown",
   "id": "ac63826f",
   "metadata": {
    "id": "ac63826f"
   },
   "source": [
    "No se encontro datos duplicados. "
   ]
  },
  {
   "cell_type": "markdown",
   "id": "274cd06a",
   "metadata": {
    "id": "274cd06a"
   },
   "source": [
    "### `order_products` data frame"
   ]
  },
  {
   "cell_type": "code",
   "execution_count": 25,
   "id": "52326689-84a8-4b8f-a881-7c68780f62c9",
   "metadata": {
    "id": "52326689-84a8-4b8f-a881-7c68780f62c9"
   },
   "outputs": [
    {
     "name": "stdout",
     "output_type": "stream",
     "text": [
      "<class 'pandas.core.frame.DataFrame'>\n",
      "RangeIndex: 4545007 entries, 0 to 4545006\n",
      "Data columns (total 4 columns):\n",
      " #   Column             Dtype  \n",
      "---  ------             -----  \n",
      " 0   order_id           int64  \n",
      " 1   product_id         int64  \n",
      " 2   add_to_cart_order  float64\n",
      " 3   reordered          int64  \n",
      "dtypes: float64(1), int64(3)\n",
      "memory usage: 138.7 MB\n"
     ]
    },
    {
     "data": {
      "text/plain": [
       "0"
      ]
     },
     "execution_count": 25,
     "metadata": {},
     "output_type": "execute_result"
    }
   ],
   "source": [
    "# Revisa si hay filas totalmente duplicadas\n",
    "orden_de_productos.info()\n",
    "orden_de_productos.duplicated().sum()"
   ]
  },
  {
   "cell_type": "code",
   "execution_count": 26,
   "id": "7b861391",
   "metadata": {
    "id": "7b861391"
   },
   "outputs": [
    {
     "data": {
      "text/plain": [
       "0"
      ]
     },
     "execution_count": 26,
     "metadata": {},
     "output_type": "execute_result"
    }
   ],
   "source": [
    "# Vuelve a verificar si hay cualquier otro duplicado engañoso\n",
    "orden_de_productos.duplicated(subset=[\"order_id\", 'product_id']).sum()"
   ]
  },
  {
   "cell_type": "markdown",
   "id": "0b890492",
   "metadata": {
    "id": "0b890492"
   },
   "source": [
    "No hay datos duplicados"
   ]
  },
  {
   "cell_type": "markdown",
   "id": "1e46de76",
   "metadata": {
    "id": "1e46de76"
   },
   "source": [
    "## Encuentra y elimina los valores ausentes\n",
    "\n",
    "Al trabajar con valores duplicados, pudimos observar que también nos falta investigar valores ausentes:\n",
    "\n",
    "* La columna `'product_name'` de la tabla products.\n",
    "* La columna `'days_since_prior_order'` de la tabla orders.\n",
    "* La columna `'add_to_cart_order'` de la tabla order_productos."
   ]
  },
  {
   "cell_type": "markdown",
   "id": "c0aebd78",
   "metadata": {
    "id": "c0aebd78"
   },
   "source": [
    "### `products` data frame"
   ]
  },
  {
   "cell_type": "code",
   "execution_count": 27,
   "id": "fe4a8b0f",
   "metadata": {
    "id": "fe4a8b0f"
   },
   "outputs": [
    {
     "data": {
      "text/html": [
       "<div>\n",
       "<style scoped>\n",
       "    .dataframe tbody tr th:only-of-type {\n",
       "        vertical-align: middle;\n",
       "    }\n",
       "\n",
       "    .dataframe tbody tr th {\n",
       "        vertical-align: top;\n",
       "    }\n",
       "\n",
       "    .dataframe thead th {\n",
       "        text-align: right;\n",
       "    }\n",
       "</style>\n",
       "<table border=\"1\" class=\"dataframe\">\n",
       "  <thead>\n",
       "    <tr style=\"text-align: right;\">\n",
       "      <th></th>\n",
       "      <th>product_id</th>\n",
       "      <th>product_name</th>\n",
       "      <th>aisle_id</th>\n",
       "      <th>department_id</th>\n",
       "    </tr>\n",
       "  </thead>\n",
       "  <tbody>\n",
       "    <tr>\n",
       "      <th>37</th>\n",
       "      <td>38</td>\n",
       "      <td>NaN</td>\n",
       "      <td>100</td>\n",
       "      <td>21</td>\n",
       "    </tr>\n",
       "    <tr>\n",
       "      <th>71</th>\n",
       "      <td>72</td>\n",
       "      <td>NaN</td>\n",
       "      <td>100</td>\n",
       "      <td>21</td>\n",
       "    </tr>\n",
       "    <tr>\n",
       "      <th>109</th>\n",
       "      <td>110</td>\n",
       "      <td>NaN</td>\n",
       "      <td>100</td>\n",
       "      <td>21</td>\n",
       "    </tr>\n",
       "    <tr>\n",
       "      <th>296</th>\n",
       "      <td>297</td>\n",
       "      <td>NaN</td>\n",
       "      <td>100</td>\n",
       "      <td>21</td>\n",
       "    </tr>\n",
       "    <tr>\n",
       "      <th>416</th>\n",
       "      <td>417</td>\n",
       "      <td>NaN</td>\n",
       "      <td>100</td>\n",
       "      <td>21</td>\n",
       "    </tr>\n",
       "    <tr>\n",
       "      <th>...</th>\n",
       "      <td>...</td>\n",
       "      <td>...</td>\n",
       "      <td>...</td>\n",
       "      <td>...</td>\n",
       "    </tr>\n",
       "    <tr>\n",
       "      <th>49552</th>\n",
       "      <td>49553</td>\n",
       "      <td>NaN</td>\n",
       "      <td>100</td>\n",
       "      <td>21</td>\n",
       "    </tr>\n",
       "    <tr>\n",
       "      <th>49574</th>\n",
       "      <td>49575</td>\n",
       "      <td>NaN</td>\n",
       "      <td>100</td>\n",
       "      <td>21</td>\n",
       "    </tr>\n",
       "    <tr>\n",
       "      <th>49640</th>\n",
       "      <td>49641</td>\n",
       "      <td>NaN</td>\n",
       "      <td>100</td>\n",
       "      <td>21</td>\n",
       "    </tr>\n",
       "    <tr>\n",
       "      <th>49663</th>\n",
       "      <td>49664</td>\n",
       "      <td>NaN</td>\n",
       "      <td>100</td>\n",
       "      <td>21</td>\n",
       "    </tr>\n",
       "    <tr>\n",
       "      <th>49668</th>\n",
       "      <td>49669</td>\n",
       "      <td>NaN</td>\n",
       "      <td>100</td>\n",
       "      <td>21</td>\n",
       "    </tr>\n",
       "  </tbody>\n",
       "</table>\n",
       "<p>1258 rows × 4 columns</p>\n",
       "</div>"
      ],
      "text/plain": [
       "       product_id product_name  aisle_id  department_id\n",
       "37             38          NaN       100             21\n",
       "71             72          NaN       100             21\n",
       "109           110          NaN       100             21\n",
       "296           297          NaN       100             21\n",
       "416           417          NaN       100             21\n",
       "...           ...          ...       ...            ...\n",
       "49552       49553          NaN       100             21\n",
       "49574       49575          NaN       100             21\n",
       "49640       49641          NaN       100             21\n",
       "49663       49664          NaN       100             21\n",
       "49668       49669          NaN       100             21\n",
       "\n",
       "[1258 rows x 4 columns]"
      ]
     },
     "execution_count": 27,
     "metadata": {},
     "output_type": "execute_result"
    }
   ],
   "source": [
    "# Encuentra los valores ausentes en la columna 'product_name'\n",
    "productos[productos[\"product_name\"].isna()]"
   ]
  },
  {
   "cell_type": "markdown",
   "id": "-A6x1AbJhjkp",
   "metadata": {
    "id": "-A6x1AbJhjkp"
   },
   "source": [
    "Analizando la tabla de productos se encontro que hay una cantidad de 1,258 valores ausentes."
   ]
  },
  {
   "cell_type": "code",
   "execution_count": 28,
   "id": "e96167bc",
   "metadata": {
    "id": "e96167bc"
   },
   "outputs": [
    {
     "data": {
      "text/html": [
       "<div>\n",
       "<style scoped>\n",
       "    .dataframe tbody tr th:only-of-type {\n",
       "        vertical-align: middle;\n",
       "    }\n",
       "\n",
       "    .dataframe tbody tr th {\n",
       "        vertical-align: top;\n",
       "    }\n",
       "\n",
       "    .dataframe thead th {\n",
       "        text-align: right;\n",
       "    }\n",
       "</style>\n",
       "<table border=\"1\" class=\"dataframe\">\n",
       "  <thead>\n",
       "    <tr style=\"text-align: right;\">\n",
       "      <th></th>\n",
       "      <th>product_id</th>\n",
       "      <th>product_name</th>\n",
       "      <th>aisle_id</th>\n",
       "      <th>department_id</th>\n",
       "    </tr>\n",
       "  </thead>\n",
       "  <tbody>\n",
       "  </tbody>\n",
       "</table>\n",
       "</div>"
      ],
      "text/plain": [
       "Empty DataFrame\n",
       "Columns: [product_id, product_name, aisle_id, department_id]\n",
       "Index: []"
      ]
     },
     "execution_count": 28,
     "metadata": {},
     "output_type": "execute_result"
    }
   ],
   "source": [
    "#  ¿Todos los nombres de productos ausentes están relacionados con el pasillo con ID 100?\n",
    "productos[(productos[\"product_name\"].isna())& (productos[\"aisle_id\"]!= 100)]\n"
   ]
  },
  {
   "cell_type": "markdown",
   "id": "WRpIfXRphpSL",
   "metadata": {
    "id": "WRpIfXRphpSL"
   },
   "source": [
    "Si, todos los nombres de productos ausentes vienen del paillo numero 100."
   ]
  },
  {
   "cell_type": "code",
   "execution_count": 29,
   "id": "8fd0a541",
   "metadata": {
    "id": "8fd0a541"
   },
   "outputs": [
    {
     "data": {
      "text/html": [
       "<div>\n",
       "<style scoped>\n",
       "    .dataframe tbody tr th:only-of-type {\n",
       "        vertical-align: middle;\n",
       "    }\n",
       "\n",
       "    .dataframe tbody tr th {\n",
       "        vertical-align: top;\n",
       "    }\n",
       "\n",
       "    .dataframe thead th {\n",
       "        text-align: right;\n",
       "    }\n",
       "</style>\n",
       "<table border=\"1\" class=\"dataframe\">\n",
       "  <thead>\n",
       "    <tr style=\"text-align: right;\">\n",
       "      <th></th>\n",
       "      <th>product_id</th>\n",
       "      <th>product_name</th>\n",
       "      <th>aisle_id</th>\n",
       "      <th>department_id</th>\n",
       "    </tr>\n",
       "  </thead>\n",
       "  <tbody>\n",
       "  </tbody>\n",
       "</table>\n",
       "</div>"
      ],
      "text/plain": [
       "Empty DataFrame\n",
       "Columns: [product_id, product_name, aisle_id, department_id]\n",
       "Index: []"
      ]
     },
     "execution_count": 29,
     "metadata": {},
     "output_type": "execute_result"
    }
   ],
   "source": [
    "# ¿Todos los nombres de productos ausentes están relacionados con el departamento con ID 21?\n",
    "productos[(productos[\"product_name\"].isna())& (productos[\"department_id\"]!=21)]\n"
   ]
  },
  {
   "cell_type": "markdown",
   "id": "qDpdYn1Fht_I",
   "metadata": {
    "id": "qDpdYn1Fht_I"
   },
   "source": [
    "Si, todos los nombres de productos ausentes vienen del departamento 21."
   ]
  },
  {
   "cell_type": "code",
   "execution_count": 30,
   "id": "325c3464",
   "metadata": {
    "id": "325c3464"
   },
   "outputs": [
    {
     "data": {
      "text/html": [
       "<div>\n",
       "<style scoped>\n",
       "    .dataframe tbody tr th:only-of-type {\n",
       "        vertical-align: middle;\n",
       "    }\n",
       "\n",
       "    .dataframe tbody tr th {\n",
       "        vertical-align: top;\n",
       "    }\n",
       "\n",
       "    .dataframe thead th {\n",
       "        text-align: right;\n",
       "    }\n",
       "</style>\n",
       "<table border=\"1\" class=\"dataframe\">\n",
       "  <thead>\n",
       "    <tr style=\"text-align: right;\">\n",
       "      <th></th>\n",
       "      <th>department_id</th>\n",
       "      <th>department</th>\n",
       "    </tr>\n",
       "  </thead>\n",
       "  <tbody>\n",
       "    <tr>\n",
       "      <th>20</th>\n",
       "      <td>21</td>\n",
       "      <td>missing</td>\n",
       "    </tr>\n",
       "  </tbody>\n",
       "</table>\n",
       "</div>"
      ],
      "text/plain": [
       "    department_id department\n",
       "20             21    missing"
      ]
     },
     "execution_count": 30,
     "metadata": {},
     "output_type": "execute_result"
    }
   ],
   "source": [
    "# Usa las tablas department y aisle para revisar los datos del pasillo con ID 100 y el departamento con ID 21.\n",
    "departamentos[departamentos[\"department_id\"]== 21]\n"
   ]
  },
  {
   "cell_type": "code",
   "execution_count": 31,
   "id": "372573c4",
   "metadata": {
    "id": "nqhSTUPhhvEJ"
   },
   "outputs": [
    {
     "data": {
      "text/html": [
       "<div>\n",
       "<style scoped>\n",
       "    .dataframe tbody tr th:only-of-type {\n",
       "        vertical-align: middle;\n",
       "    }\n",
       "\n",
       "    .dataframe tbody tr th {\n",
       "        vertical-align: top;\n",
       "    }\n",
       "\n",
       "    .dataframe thead th {\n",
       "        text-align: right;\n",
       "    }\n",
       "</style>\n",
       "<table border=\"1\" class=\"dataframe\">\n",
       "  <thead>\n",
       "    <tr style=\"text-align: right;\">\n",
       "      <th></th>\n",
       "      <th>aisle_id</th>\n",
       "      <th>aisle</th>\n",
       "    </tr>\n",
       "  </thead>\n",
       "  <tbody>\n",
       "    <tr>\n",
       "      <th>99</th>\n",
       "      <td>100</td>\n",
       "      <td>missing</td>\n",
       "    </tr>\n",
       "  </tbody>\n",
       "</table>\n",
       "</div>"
      ],
      "text/plain": [
       "    aisle_id    aisle\n",
       "99       100  missing"
      ]
     },
     "execution_count": 31,
     "metadata": {},
     "output_type": "execute_result"
    }
   ],
   "source": [
    "pasillos[pasillos[\"aisle_id\"]==100]"
   ]
  },
  {
   "cell_type": "markdown",
   "id": "9d0659af",
   "metadata": {},
   "source": [
    "Al revisar las dos tablas encontramos que tanto el pasillo 100 y el departamento 21 no cuentan con datos. "
   ]
  },
  {
   "cell_type": "code",
   "execution_count": 32,
   "id": "6b295120",
   "metadata": {
    "id": "6b295120"
   },
   "outputs": [],
   "source": [
    "# Completa los nombres de productos ausentes con 'Unknown'\n",
    "productos[\"product_name\"]= productos[\"product_name\"].fillna(\"Unknown\")"
   ]
  },
  {
   "cell_type": "code",
   "execution_count": 33,
   "id": "07ef5e61",
   "metadata": {
    "scrolled": true
   },
   "outputs": [
    {
     "data": {
      "text/plain": [
       "0"
      ]
     },
     "execution_count": 33,
     "metadata": {},
     "output_type": "execute_result"
    }
   ],
   "source": [
    "productos[\"product_name\"].isna().sum()"
   ]
  },
  {
   "cell_type": "markdown",
   "id": "fc70e5ad",
   "metadata": {
    "id": "fc70e5ad"
   },
   "source": [
    "Investigando los valores ausentes en el pasillo 100 y departamento 21 encontre que la informacion de estos dos era nula debido a esto se completo los nombres de los valores ausentes por desconocido para de esta manera no afectar a la investigacion. \n",
    "Mediante el metodo fillna() se sustituyo los valores NaN."
   ]
  },
  {
   "cell_type": "markdown",
   "id": "837d13f3",
   "metadata": {},
   "source": [
    "<div class=\"alert alert-block alert-success\"> <b>Éxito</b> <a class=\"tocSkip\"></a> Has abordado correctamente los valores ausentes en el DataFrame de productos. La decisión de rellenar los nombres de productos faltantes con \"Unknown\" es una solución práctica para evitar la eliminación de filas. Además, es positivo que hayas identificado que todos pertenecen al departamento y pasillo \"missing\", lo que valida que esos productos carecían de información.</div>"
   ]
  },
  {
   "cell_type": "markdown",
   "id": "7eb45c86",
   "metadata": {
    "id": "7eb45c86"
   },
   "source": [
    "### `orders` data frame"
   ]
  },
  {
   "cell_type": "code",
   "execution_count": 34,
   "id": "20ce2829",
   "metadata": {},
   "outputs": [
    {
     "data": {
      "text/html": [
       "<div>\n",
       "<style scoped>\n",
       "    .dataframe tbody tr th:only-of-type {\n",
       "        vertical-align: middle;\n",
       "    }\n",
       "\n",
       "    .dataframe tbody tr th {\n",
       "        vertical-align: top;\n",
       "    }\n",
       "\n",
       "    .dataframe thead th {\n",
       "        text-align: right;\n",
       "    }\n",
       "</style>\n",
       "<table border=\"1\" class=\"dataframe\">\n",
       "  <thead>\n",
       "    <tr style=\"text-align: right;\">\n",
       "      <th></th>\n",
       "      <th>order_id</th>\n",
       "      <th>user_id</th>\n",
       "      <th>order_number</th>\n",
       "      <th>order_dow</th>\n",
       "      <th>order_hour_of_day</th>\n",
       "      <th>days_since_prior_order</th>\n",
       "    </tr>\n",
       "  </thead>\n",
       "  <tbody>\n",
       "    <tr>\n",
       "      <th>0</th>\n",
       "      <td>1515936</td>\n",
       "      <td>183418</td>\n",
       "      <td>11</td>\n",
       "      <td>6</td>\n",
       "      <td>13</td>\n",
       "      <td>30.0</td>\n",
       "    </tr>\n",
       "    <tr>\n",
       "      <th>1</th>\n",
       "      <td>1690866</td>\n",
       "      <td>163593</td>\n",
       "      <td>5</td>\n",
       "      <td>5</td>\n",
       "      <td>12</td>\n",
       "      <td>9.0</td>\n",
       "    </tr>\n",
       "    <tr>\n",
       "      <th>2</th>\n",
       "      <td>1454967</td>\n",
       "      <td>39980</td>\n",
       "      <td>4</td>\n",
       "      <td>5</td>\n",
       "      <td>19</td>\n",
       "      <td>2.0</td>\n",
       "    </tr>\n",
       "    <tr>\n",
       "      <th>3</th>\n",
       "      <td>1768857</td>\n",
       "      <td>82516</td>\n",
       "      <td>56</td>\n",
       "      <td>0</td>\n",
       "      <td>20</td>\n",
       "      <td>10.0</td>\n",
       "    </tr>\n",
       "    <tr>\n",
       "      <th>4</th>\n",
       "      <td>3007858</td>\n",
       "      <td>196724</td>\n",
       "      <td>2</td>\n",
       "      <td>4</td>\n",
       "      <td>12</td>\n",
       "      <td>17.0</td>\n",
       "    </tr>\n",
       "  </tbody>\n",
       "</table>\n",
       "</div>"
      ],
      "text/plain": [
       "   order_id  user_id  order_number  order_dow  order_hour_of_day  \\\n",
       "0   1515936   183418            11          6                 13   \n",
       "1   1690866   163593             5          5                 12   \n",
       "2   1454967    39980             4          5                 19   \n",
       "3   1768857    82516            56          0                 20   \n",
       "4   3007858   196724             2          4                 12   \n",
       "\n",
       "   days_since_prior_order  \n",
       "0                    30.0  \n",
       "1                     9.0  \n",
       "2                     2.0  \n",
       "3                    10.0  \n",
       "4                    17.0  "
      ]
     },
     "execution_count": 34,
     "metadata": {},
     "output_type": "execute_result"
    }
   ],
   "source": [
    "ordenes.head()"
   ]
  },
  {
   "cell_type": "code",
   "execution_count": 35,
   "id": "93e41d96",
   "metadata": {
    "id": "93e41d96"
   },
   "outputs": [
    {
     "data": {
      "text/plain": [
       "order_id                      0\n",
       "user_id                       0\n",
       "order_number                  0\n",
       "order_dow                     0\n",
       "order_hour_of_day             0\n",
       "days_since_prior_order    28817\n",
       "dtype: int64"
      ]
     },
     "execution_count": 35,
     "metadata": {},
     "output_type": "execute_result"
    }
   ],
   "source": [
    "# Encuentra los valores ausentes\n",
    "ordenes.isna().sum()"
   ]
  },
  {
   "cell_type": "code",
   "execution_count": 36,
   "id": "166e5a86",
   "metadata": {
    "id": "166e5a86"
   },
   "outputs": [
    {
     "data": {
      "text/html": [
       "<div>\n",
       "<style scoped>\n",
       "    .dataframe tbody tr th:only-of-type {\n",
       "        vertical-align: middle;\n",
       "    }\n",
       "\n",
       "    .dataframe tbody tr th {\n",
       "        vertical-align: top;\n",
       "    }\n",
       "\n",
       "    .dataframe thead th {\n",
       "        text-align: right;\n",
       "    }\n",
       "</style>\n",
       "<table border=\"1\" class=\"dataframe\">\n",
       "  <thead>\n",
       "    <tr style=\"text-align: right;\">\n",
       "      <th></th>\n",
       "      <th>order_id</th>\n",
       "      <th>user_id</th>\n",
       "      <th>order_number</th>\n",
       "      <th>order_dow</th>\n",
       "      <th>order_hour_of_day</th>\n",
       "      <th>days_since_prior_order</th>\n",
       "    </tr>\n",
       "  </thead>\n",
       "  <tbody>\n",
       "    <tr>\n",
       "      <th>28</th>\n",
       "      <td>133707</td>\n",
       "      <td>182261</td>\n",
       "      <td>1</td>\n",
       "      <td>3</td>\n",
       "      <td>10</td>\n",
       "      <td>NaN</td>\n",
       "    </tr>\n",
       "    <tr>\n",
       "      <th>96</th>\n",
       "      <td>787445</td>\n",
       "      <td>25685</td>\n",
       "      <td>1</td>\n",
       "      <td>6</td>\n",
       "      <td>18</td>\n",
       "      <td>NaN</td>\n",
       "    </tr>\n",
       "    <tr>\n",
       "      <th>100</th>\n",
       "      <td>294410</td>\n",
       "      <td>111449</td>\n",
       "      <td>1</td>\n",
       "      <td>0</td>\n",
       "      <td>19</td>\n",
       "      <td>NaN</td>\n",
       "    </tr>\n",
       "    <tr>\n",
       "      <th>103</th>\n",
       "      <td>2869915</td>\n",
       "      <td>123958</td>\n",
       "      <td>1</td>\n",
       "      <td>4</td>\n",
       "      <td>16</td>\n",
       "      <td>NaN</td>\n",
       "    </tr>\n",
       "    <tr>\n",
       "      <th>104</th>\n",
       "      <td>2521921</td>\n",
       "      <td>42286</td>\n",
       "      <td>1</td>\n",
       "      <td>3</td>\n",
       "      <td>18</td>\n",
       "      <td>NaN</td>\n",
       "    </tr>\n",
       "    <tr>\n",
       "      <th>...</th>\n",
       "      <td>...</td>\n",
       "      <td>...</td>\n",
       "      <td>...</td>\n",
       "      <td>...</td>\n",
       "      <td>...</td>\n",
       "      <td>...</td>\n",
       "    </tr>\n",
       "    <tr>\n",
       "      <th>478880</th>\n",
       "      <td>2589657</td>\n",
       "      <td>205028</td>\n",
       "      <td>1</td>\n",
       "      <td>0</td>\n",
       "      <td>16</td>\n",
       "      <td>NaN</td>\n",
       "    </tr>\n",
       "    <tr>\n",
       "      <th>478881</th>\n",
       "      <td>2222353</td>\n",
       "      <td>141211</td>\n",
       "      <td>1</td>\n",
       "      <td>2</td>\n",
       "      <td>13</td>\n",
       "      <td>NaN</td>\n",
       "    </tr>\n",
       "    <tr>\n",
       "      <th>478907</th>\n",
       "      <td>2272807</td>\n",
       "      <td>204154</td>\n",
       "      <td>1</td>\n",
       "      <td>1</td>\n",
       "      <td>15</td>\n",
       "      <td>NaN</td>\n",
       "    </tr>\n",
       "    <tr>\n",
       "      <th>478911</th>\n",
       "      <td>2499542</td>\n",
       "      <td>68810</td>\n",
       "      <td>1</td>\n",
       "      <td>4</td>\n",
       "      <td>19</td>\n",
       "      <td>NaN</td>\n",
       "    </tr>\n",
       "    <tr>\n",
       "      <th>478930</th>\n",
       "      <td>1387033</td>\n",
       "      <td>22496</td>\n",
       "      <td>1</td>\n",
       "      <td>5</td>\n",
       "      <td>14</td>\n",
       "      <td>NaN</td>\n",
       "    </tr>\n",
       "  </tbody>\n",
       "</table>\n",
       "<p>28817 rows × 6 columns</p>\n",
       "</div>"
      ],
      "text/plain": [
       "        order_id  user_id  order_number  order_dow  order_hour_of_day  \\\n",
       "28        133707   182261             1          3                 10   \n",
       "96        787445    25685             1          6                 18   \n",
       "100       294410   111449             1          0                 19   \n",
       "103      2869915   123958             1          4                 16   \n",
       "104      2521921    42286             1          3                 18   \n",
       "...          ...      ...           ...        ...                ...   \n",
       "478880   2589657   205028             1          0                 16   \n",
       "478881   2222353   141211             1          2                 13   \n",
       "478907   2272807   204154             1          1                 15   \n",
       "478911   2499542    68810             1          4                 19   \n",
       "478930   1387033    22496             1          5                 14   \n",
       "\n",
       "        days_since_prior_order  \n",
       "28                         NaN  \n",
       "96                         NaN  \n",
       "100                        NaN  \n",
       "103                        NaN  \n",
       "104                        NaN  \n",
       "...                        ...  \n",
       "478880                     NaN  \n",
       "478881                     NaN  \n",
       "478907                     NaN  \n",
       "478911                     NaN  \n",
       "478930                     NaN  \n",
       "\n",
       "[28817 rows x 6 columns]"
      ]
     },
     "execution_count": 36,
     "metadata": {},
     "output_type": "execute_result"
    }
   ],
   "source": [
    "# ¿Hay algún valor ausente que no sea el primer pedido del cliente?\n",
    "ordenes[ordenes[\"order_number\"]== 1]"
   ]
  },
  {
   "cell_type": "markdown",
   "id": "4e23d089",
   "metadata": {
    "id": "4e23d089"
   },
   "source": [
    "Al analizar los datos de la tabla ordenes encontramos 28,817 valores ausentes de los cuales todos pertenecian al primer pedidio del cliente.\n",
    "Tuve que filtrar los datos de el primer pedido del cliente para saber si los valores ausentes se debian a que el cliente era nuevo. "
   ]
  },
  {
   "cell_type": "markdown",
   "id": "69dc9ca4",
   "metadata": {
    "id": "69dc9ca4"
   },
   "source": [
    "### `order_products` data frame"
   ]
  },
  {
   "cell_type": "code",
   "execution_count": 37,
   "id": "b8240253",
   "metadata": {
    "id": "b8240253"
   },
   "outputs": [
    {
     "data": {
      "text/plain": [
       "order_id               0\n",
       "product_id             0\n",
       "add_to_cart_order    836\n",
       "reordered              0\n",
       "dtype: int64"
      ]
     },
     "execution_count": 37,
     "metadata": {},
     "output_type": "execute_result"
    }
   ],
   "source": [
    "# Encuentra los valores ausentes\n",
    "orden_de_productos.isna().sum()"
   ]
  },
  {
   "cell_type": "code",
   "execution_count": 38,
   "id": "9a78e5ee",
   "metadata": {
    "id": "9a78e5ee"
   },
   "outputs": [
    {
     "name": "stdout",
     "output_type": "stream",
     "text": [
      "1.0\n",
      "64.0\n"
     ]
    }
   ],
   "source": [
    "# ¿Cuáles son los valores mínimos y máximos en esta columna?\n",
    "\n",
    "minimo = orden_de_productos[\"add_to_cart_order\"].min()\n",
    "maximo = orden_de_productos[\"add_to_cart_order\"].max()\n",
    "print(minimo)\n",
    "print(maximo)"
   ]
  },
  {
   "cell_type": "markdown",
   "id": "-Z2Ja215jW78",
   "metadata": {
    "id": "-Z2Ja215jW78"
   },
   "source": [
    "Investigando acerca de los valores ausentes en la tabla de orden de productos se encontro que solo la columna de del orden en que se agregaron al carrito tenia valores ausentes. "
   ]
  },
  {
   "cell_type": "code",
   "execution_count": 39,
   "id": "2c7c7900",
   "metadata": {},
   "outputs": [
    {
     "data": {
      "text/html": [
       "<div>\n",
       "<style scoped>\n",
       "    .dataframe tbody tr th:only-of-type {\n",
       "        vertical-align: middle;\n",
       "    }\n",
       "\n",
       "    .dataframe tbody tr th {\n",
       "        vertical-align: top;\n",
       "    }\n",
       "\n",
       "    .dataframe thead th {\n",
       "        text-align: right;\n",
       "    }\n",
       "</style>\n",
       "<table border=\"1\" class=\"dataframe\">\n",
       "  <thead>\n",
       "    <tr style=\"text-align: right;\">\n",
       "      <th></th>\n",
       "      <th>order_id</th>\n",
       "      <th>product_id</th>\n",
       "      <th>add_to_cart_order</th>\n",
       "      <th>reordered</th>\n",
       "    </tr>\n",
       "  </thead>\n",
       "  <tbody>\n",
       "    <tr>\n",
       "      <th>737</th>\n",
       "      <td>2449164</td>\n",
       "      <td>5068</td>\n",
       "      <td>NaN</td>\n",
       "      <td>0</td>\n",
       "    </tr>\n",
       "    <tr>\n",
       "      <th>9926</th>\n",
       "      <td>1968313</td>\n",
       "      <td>43867</td>\n",
       "      <td>NaN</td>\n",
       "      <td>0</td>\n",
       "    </tr>\n",
       "    <tr>\n",
       "      <th>14394</th>\n",
       "      <td>2926893</td>\n",
       "      <td>11688</td>\n",
       "      <td>NaN</td>\n",
       "      <td>0</td>\n",
       "    </tr>\n",
       "    <tr>\n",
       "      <th>16418</th>\n",
       "      <td>1717990</td>\n",
       "      <td>4142</td>\n",
       "      <td>NaN</td>\n",
       "      <td>0</td>\n",
       "    </tr>\n",
       "    <tr>\n",
       "      <th>30114</th>\n",
       "      <td>1959075</td>\n",
       "      <td>42828</td>\n",
       "      <td>NaN</td>\n",
       "      <td>1</td>\n",
       "    </tr>\n",
       "    <tr>\n",
       "      <th>...</th>\n",
       "      <td>...</td>\n",
       "      <td>...</td>\n",
       "      <td>...</td>\n",
       "      <td>...</td>\n",
       "    </tr>\n",
       "    <tr>\n",
       "      <th>4505662</th>\n",
       "      <td>1800005</td>\n",
       "      <td>7411</td>\n",
       "      <td>NaN</td>\n",
       "      <td>0</td>\n",
       "    </tr>\n",
       "    <tr>\n",
       "      <th>4511400</th>\n",
       "      <td>1633337</td>\n",
       "      <td>260</td>\n",
       "      <td>NaN</td>\n",
       "      <td>0</td>\n",
       "    </tr>\n",
       "    <tr>\n",
       "      <th>4517562</th>\n",
       "      <td>404157</td>\n",
       "      <td>9517</td>\n",
       "      <td>NaN</td>\n",
       "      <td>0</td>\n",
       "    </tr>\n",
       "    <tr>\n",
       "      <th>4534112</th>\n",
       "      <td>1673227</td>\n",
       "      <td>17835</td>\n",
       "      <td>NaN</td>\n",
       "      <td>0</td>\n",
       "    </tr>\n",
       "    <tr>\n",
       "      <th>4535739</th>\n",
       "      <td>1832957</td>\n",
       "      <td>17949</td>\n",
       "      <td>NaN</td>\n",
       "      <td>1</td>\n",
       "    </tr>\n",
       "  </tbody>\n",
       "</table>\n",
       "<p>836 rows × 4 columns</p>\n",
       "</div>"
      ],
      "text/plain": [
       "         order_id  product_id  add_to_cart_order  reordered\n",
       "737       2449164        5068                NaN          0\n",
       "9926      1968313       43867                NaN          0\n",
       "14394     2926893       11688                NaN          0\n",
       "16418     1717990        4142                NaN          0\n",
       "30114     1959075       42828                NaN          1\n",
       "...           ...         ...                ...        ...\n",
       "4505662   1800005        7411                NaN          0\n",
       "4511400   1633337         260                NaN          0\n",
       "4517562    404157        9517                NaN          0\n",
       "4534112   1673227       17835                NaN          0\n",
       "4535739   1832957       17949                NaN          1\n",
       "\n",
       "[836 rows x 4 columns]"
      ]
     },
     "execution_count": 39,
     "metadata": {},
     "output_type": "execute_result"
    }
   ],
   "source": [
    "orden_de_productos[orden_de_productos[\"add_to_cart_order\"].isna()]"
   ]
  },
  {
   "cell_type": "code",
   "execution_count": 40,
   "id": "ab9d0c2b",
   "metadata": {
    "id": "ab9d0c2b"
   },
   "outputs": [
    {
     "name": "stdout",
     "output_type": "stream",
     "text": [
      "737        2449164\n",
      "9926       1968313\n",
      "14394      2926893\n",
      "16418      1717990\n",
      "30114      1959075\n",
      "            ...   \n",
      "4505662    1800005\n",
      "4511400    1633337\n",
      "4517562     404157\n",
      "4534112    1673227\n",
      "4535739    1832957\n",
      "Name: order_id, Length: 836, dtype: int64\n"
     ]
    }
   ],
   "source": [
    "# Guarda todas las IDs de pedidos que tengan un valor ausente en 'add_to_cart_order'\n",
    "ausentes = orden_de_productos[orden_de_productos[\"add_to_cart_order\"].isna()][\"order_id\"]\n",
    "print(ausentes)"
   ]
  },
  {
   "cell_type": "code",
   "execution_count": 41,
   "id": "12ca86df",
   "metadata": {},
   "outputs": [
    {
     "data": {
      "text/html": [
       "<div>\n",
       "<style scoped>\n",
       "    .dataframe tbody tr th:only-of-type {\n",
       "        vertical-align: middle;\n",
       "    }\n",
       "\n",
       "    .dataframe tbody tr th {\n",
       "        vertical-align: top;\n",
       "    }\n",
       "\n",
       "    .dataframe thead th {\n",
       "        text-align: right;\n",
       "    }\n",
       "</style>\n",
       "<table border=\"1\" class=\"dataframe\">\n",
       "  <thead>\n",
       "    <tr style=\"text-align: right;\">\n",
       "      <th></th>\n",
       "      <th>order_id</th>\n",
       "      <th>product_id</th>\n",
       "      <th>add_to_cart_order</th>\n",
       "      <th>reordered</th>\n",
       "    </tr>\n",
       "  </thead>\n",
       "  <tbody>\n",
       "    <tr>\n",
       "      <th>267</th>\n",
       "      <td>2094761</td>\n",
       "      <td>31469</td>\n",
       "      <td>57.0</td>\n",
       "      <td>1</td>\n",
       "    </tr>\n",
       "    <tr>\n",
       "      <th>737</th>\n",
       "      <td>2449164</td>\n",
       "      <td>5068</td>\n",
       "      <td>NaN</td>\n",
       "      <td>0</td>\n",
       "    </tr>\n",
       "    <tr>\n",
       "      <th>1742</th>\n",
       "      <td>2997021</td>\n",
       "      <td>4920</td>\n",
       "      <td>37.0</td>\n",
       "      <td>0</td>\n",
       "    </tr>\n",
       "    <tr>\n",
       "      <th>3463</th>\n",
       "      <td>871281</td>\n",
       "      <td>40063</td>\n",
       "      <td>61.0</td>\n",
       "      <td>1</td>\n",
       "    </tr>\n",
       "    <tr>\n",
       "      <th>3535</th>\n",
       "      <td>171934</td>\n",
       "      <td>36397</td>\n",
       "      <td>7.0</td>\n",
       "      <td>0</td>\n",
       "    </tr>\n",
       "    <tr>\n",
       "      <th>...</th>\n",
       "      <td>...</td>\n",
       "      <td>...</td>\n",
       "      <td>...</td>\n",
       "      <td>...</td>\n",
       "    </tr>\n",
       "    <tr>\n",
       "      <th>4543519</th>\n",
       "      <td>2621907</td>\n",
       "      <td>32018</td>\n",
       "      <td>28.0</td>\n",
       "      <td>1</td>\n",
       "    </tr>\n",
       "    <tr>\n",
       "      <th>4544672</th>\n",
       "      <td>102236</td>\n",
       "      <td>34688</td>\n",
       "      <td>49.0</td>\n",
       "      <td>0</td>\n",
       "    </tr>\n",
       "    <tr>\n",
       "      <th>4544708</th>\n",
       "      <td>2256933</td>\n",
       "      <td>41544</td>\n",
       "      <td>21.0</td>\n",
       "      <td>0</td>\n",
       "    </tr>\n",
       "    <tr>\n",
       "      <th>4544771</th>\n",
       "      <td>180546</td>\n",
       "      <td>12741</td>\n",
       "      <td>46.0</td>\n",
       "      <td>1</td>\n",
       "    </tr>\n",
       "    <tr>\n",
       "      <th>4544810</th>\n",
       "      <td>2136777</td>\n",
       "      <td>20072</td>\n",
       "      <td>10.0</td>\n",
       "      <td>0</td>\n",
       "    </tr>\n",
       "  </tbody>\n",
       "</table>\n",
       "<p>5316 rows × 4 columns</p>\n",
       "</div>"
      ],
      "text/plain": [
       "         order_id  product_id  add_to_cart_order  reordered\n",
       "267       2094761       31469               57.0          1\n",
       "737       2449164        5068                NaN          0\n",
       "1742      2997021        4920               37.0          0\n",
       "3463       871281       40063               61.0          1\n",
       "3535       171934       36397                7.0          0\n",
       "...           ...         ...                ...        ...\n",
       "4543519   2621907       32018               28.0          1\n",
       "4544672    102236       34688               49.0          0\n",
       "4544708   2256933       41544               21.0          0\n",
       "4544771    180546       12741               46.0          1\n",
       "4544810   2136777       20072               10.0          0\n",
       "\n",
       "[5316 rows x 4 columns]"
      ]
     },
     "execution_count": 41,
     "metadata": {},
     "output_type": "execute_result"
    }
   ],
   "source": [
    "orden_de_productos[orden_de_productos[\"order_id\"].isin(ausentes)]"
   ]
  },
  {
   "cell_type": "code",
   "execution_count": 42,
   "id": "e13a5f89",
   "metadata": {},
   "outputs": [
    {
     "data": {
      "text/plain": [
       "order_id\n",
       "9310        65\n",
       "747668      65\n",
       "1598369     65\n",
       "1677118     65\n",
       "2170451     65\n",
       "          ... \n",
       "1959075     98\n",
       "171934     104\n",
       "2136777    108\n",
       "3308010    115\n",
       "61355      127\n",
       "Name: product_id, Length: 70, dtype: int64"
      ]
     },
     "execution_count": 42,
     "metadata": {},
     "output_type": "execute_result"
    }
   ],
   "source": [
    "# ¿Todos los pedidos con valores ausentes tienen más de 64 productos?\n",
    "# Agrupa todos los pedidos con datos ausentes por su ID de pedido.\n",
    "# Cuenta el número de 'product_id' en cada pedido y revisa el valor mínimo del conteo.\n",
    "orden_de_productos[orden_de_productos[\"order_id\"].isin(ausentes)].groupby(\"order_id\")[\"product_id\"].count().sort_values()"
   ]
  },
  {
   "cell_type": "code",
   "execution_count": 43,
   "id": "34a1d232",
   "metadata": {},
   "outputs": [
    {
     "data": {
      "text/plain": [
       "order_id\n",
       "9310       1.0\n",
       "61355      1.0\n",
       "102236     1.0\n",
       "129627     1.0\n",
       "165801     1.0\n",
       "          ... \n",
       "2999801    1.0\n",
       "3125735    1.0\n",
       "3308010    1.0\n",
       "3347453    1.0\n",
       "3383594    1.0\n",
       "Name: add_to_cart_order, Length: 70, dtype: float64"
      ]
     },
     "execution_count": 43,
     "metadata": {},
     "output_type": "execute_result"
    }
   ],
   "source": [
    "orden_de_productos[orden_de_productos[\"order_id\"].isin(ausentes)].groupby(\"order_id\")[\"add_to_cart_order\"].min()\n"
   ]
  },
  {
   "cell_type": "markdown",
   "id": "p9V6pddtjglj",
   "metadata": {
    "id": "p9V6pddtjglj"
   },
   "source": [
    "Se encontro que el conteo para agregar productos al carrito se detuvo en 64."
   ]
  },
  {
   "cell_type": "code",
   "execution_count": 44,
   "id": "7a987d08",
   "metadata": {
    "id": "7a987d08"
   },
   "outputs": [],
   "source": [
    "# Remplaza los valores ausentes en la columna 'add_to_cart? con 999 y convierte la columna al tipo entero.\n",
    "orden_de_productos[\"add_to_cart_order\"] = orden_de_productos[\"add_to_cart_order\"].fillna(999).astype(int)"
   ]
  },
  {
   "cell_type": "code",
   "execution_count": 45,
   "id": "693422fe",
   "metadata": {},
   "outputs": [
    {
     "data": {
      "text/plain": [
       "order_id             0\n",
       "product_id           0\n",
       "add_to_cart_order    0\n",
       "reordered            0\n",
       "dtype: int64"
      ]
     },
     "execution_count": 45,
     "metadata": {},
     "output_type": "execute_result"
    }
   ],
   "source": [
    "orden_de_productos.isna().sum()"
   ]
  },
  {
   "cell_type": "markdown",
   "id": "fea4bcc7",
   "metadata": {
    "id": "fea4bcc7"
   },
   "source": [
    "Analizando los valores ausentes se pudo encontrar que al momento de agregar mas de 64 productos al carrito de compra el conteo se detenia y se perdia la cuenta. "
   ]
  },
  {
   "cell_type": "markdown",
   "id": "RnplPFY1gSrb",
   "metadata": {
    "id": "RnplPFY1gSrb"
   },
   "source": [
    "## Conclusiones\n",
    "\n",
    "El procesamiento de datos es un elemento que nos facilita la transformación de datos sin procesar en información valiosa y provechosa para la toma de decisiones. \n",
    "Mediante los métodos que se emplearon en el proyecto tales como la filtración, agrupación es posible obtener patrones que ayuden a la mejor comprensión de su entorno y en la optimización de operaciones.\n",
    "\n"
   ]
  },
  {
   "cell_type": "markdown",
   "id": "UjrOIwTcz3ri",
   "metadata": {
    "id": "UjrOIwTcz3ri"
   },
   "source": [
    "# Paso 3. Análisis de los datos\n",
    "\n",
    "Una vez los datos estén procesados y listos, haz el siguiente análisis:"
   ]
  },
  {
   "cell_type": "markdown",
   "id": "turkish-kidney",
   "metadata": {
    "id": "turkish-kidney"
   },
   "source": [
    "# [A] Fácil (deben completarse todos para aprobar)\n",
    "\n",
    "1. Verifica que los valores en las columnas `'order_hour_of_day'` y `'order_dow'` en la tabla orders sean razonables (es decir, `'order_hour_of_day'` oscile entre 0 y 23 y `'order_dow'` oscile entre 0 y 6).\n",
    "2. Crea un gráfico que muestre el número de personas que hacen pedidos dependiendo de la hora del día.\n",
    "3. Crea un gráfico que muestre qué día de la semana la gente hace sus compras.\n",
    "4. Crea un gráfico que muestre el tiempo que la gente espera hasta hacer su siguiente pedido, y comenta sobre los valores mínimos y máximos."
   ]
  },
  {
   "cell_type": "markdown",
   "id": "short-capability",
   "metadata": {
    "id": "short-capability"
   },
   "source": [
    "### [A1] Verifica que los valores sean sensibles"
   ]
  },
  {
   "cell_type": "code",
   "execution_count": 46,
   "id": "growing-fruit",
   "metadata": {
    "id": "growing-fruit"
   },
   "outputs": [
    {
     "data": {
      "text/plain": [
       "array([6, 5, 0, 4, 3, 1, 2])"
      ]
     },
     "execution_count": 46,
     "metadata": {},
     "output_type": "execute_result"
    }
   ],
   "source": [
    "ordenes[\"order_dow\"].unique()"
   ]
  },
  {
   "cell_type": "code",
   "execution_count": 47,
   "id": "accessory-malaysia",
   "metadata": {
    "id": "accessory-malaysia",
    "scrolled": true
   },
   "outputs": [
    {
     "data": {
      "text/plain": [
       "array([13, 12, 19, 20, 11,  8, 18, 15, 16,  9, 22, 10,  0, 14, 17,  1,  7,\n",
       "        6,  2, 21,  3, 23,  5,  4])"
      ]
     },
     "execution_count": 47,
     "metadata": {},
     "output_type": "execute_result"
    }
   ],
   "source": [
    "ordenes[\"order_hour_of_day\"].unique()"
   ]
  },
  {
   "cell_type": "markdown",
   "id": "1c9627cc",
   "metadata": {},
   "source": [
    "<div class=\"alert alert-block alert-success\"> <b>Éxito</b> <a class=\"tocSkip\"></a> Buen trabajo verificando que los valores en las columnas 'order_hour_of_day' y 'order_dow' están dentro de los rangos esperados. Esto asegura la consistencia de los datos antes de continuar con el análisis.</div>"
   ]
  },
  {
   "cell_type": "markdown",
   "id": "hmR2GNQ6lCsX",
   "metadata": {
    "id": "hmR2GNQ6lCsX"
   },
   "source": [
    "Todos los valores encontrados en las columnas ocilan entre el rago de horas y dias."
   ]
  },
  {
   "cell_type": "markdown",
   "id": "a6743a70",
   "metadata": {
    "id": "a6743a70"
   },
   "source": [
    "### [A2] Para cada hora del día, ¿cuántas personas hacen órdenes?"
   ]
  },
  {
   "cell_type": "code",
   "execution_count": 48,
   "id": "a36cca27",
   "metadata": {
    "id": "a36cca27"
   },
   "outputs": [],
   "source": [
    "compras_hora= ordenes[\"order_hour_of_day\"].value_counts().sort_index()"
   ]
  },
  {
   "cell_type": "code",
   "execution_count": 49,
   "id": "ba00981a",
   "metadata": {
    "scrolled": true
   },
   "outputs": [
    {
     "data": {
      "image/png": "[encoded data removed]",
      "text/plain": [
       "<Figure size 640x480 with 1 Axes>"
      ]
     },
     "metadata": {},
     "output_type": "display_data"
    }
   ],
   "source": [
    "compras_hora.plot(kind=\"bar\", title= \"Ordenes por hora del dia\", xlabel= \"Hora del Dia\", ylabel= \"Cantidad de ordenes\")\n",
    "plt.show()"
   ]
  },
  {
   "cell_type": "markdown",
   "id": "d5d9e9a3",
   "metadata": {},
   "source": [
    "<div class=\"alert alert-block alert-success\"> <b>Éxito</b> <a class=\"tocSkip\"></a> Has generado correctamente el gráfico que muestra el número de pedidos por hora del día. Este tipo de visualización es útil para identificar patrones en los hábitos de compra de los clientes, y el gráfico es claro y fácil de interpretar.</div>\n",
    "5.3 A3: Gráfico de pedidos por día de la sem"
   ]
  },
  {
   "cell_type": "markdown",
   "id": "11270eed",
   "metadata": {
    "id": "11270eed"
   },
   "source": [
    "Se puede encontar que las principales horas del dia donde los clientes hacen compras son desde las 8 de la mañana a las 6 de la tarde."
   ]
  },
  {
   "cell_type": "markdown",
   "id": "documented-command",
   "metadata": {
    "id": "documented-command"
   },
   "source": [
    "### [A3] ¿Qué día de la semana compran víveres las personas?"
   ]
  },
  {
   "cell_type": "code",
   "execution_count": 50,
   "id": "chief-digit",
   "metadata": {
    "id": "chief-digit"
   },
   "outputs": [],
   "source": [
    "compras_semana= ordenes[\"order_dow\"].value_counts().sort_index()"
   ]
  },
  {
   "cell_type": "code",
   "execution_count": 51,
   "id": "149e55ef",
   "metadata": {
    "scrolled": true
   },
   "outputs": [
    {
     "data": {
      "image/png": "[encoded data removed]",
      "text/plain": [
       "<Figure size 640x480 with 1 Axes>"
      ]
     },
     "metadata": {},
     "output_type": "display_data"
    }
   ],
   "source": [
    "compras_semana.plot(kind= \"bar\", xlabel= \"Dias de la semana\", ylabel= \"Numero de personas\", title= \"Ordenes por dia\")\n",
    "plt.show()"
   ]
  },
  {
   "cell_type": "markdown",
   "id": "70285aa5",
   "metadata": {},
   "source": [
    "<div class=\"alert alert-block alert-success\"> <b>Éxito</b> <a class=\"tocSkip\"></a> El gráfico de pedidos por día de la semana está bien ejecutado. Has encontrado correctamente que los días más comunes para hacer compras son domingo y lunes, lo cual es información valiosa para entender los picos de demanda.</div>"
   ]
  },
  {
   "cell_type": "markdown",
   "id": "dominant-lightning",
   "metadata": {
    "id": "dominant-lightning"
   },
   "source": [
    "Encontramos que las personas compran viveres en mayor cantidad para toda la semana es decir domingo y lunes."
   ]
  },
  {
   "cell_type": "markdown",
   "id": "cutting-concert",
   "metadata": {
    "id": "cutting-concert"
   },
   "source": [
    "### [A4] ¿Cuánto tiempo esperan las personas hasta hacer otro pedido? Comenta sobre los valores mínimos y máximos."
   ]
  },
  {
   "cell_type": "code",
   "execution_count": 52,
   "id": "c231f523",
   "metadata": {
    "id": "c231f523"
   },
   "outputs": [],
   "source": [
    "dia_de_espera_ordenes= ordenes[\"days_since_prior_order\"].value_counts().sort_index()"
   ]
  },
  {
   "cell_type": "code",
   "execution_count": 53,
   "id": "327c9c2d",
   "metadata": {
    "scrolled": true
   },
   "outputs": [
    {
     "data": {
      "image/png": "[encoded data removed]",
      "text/plain": [
       "<Figure size 640x480 with 1 Axes>"
      ]
     },
     "metadata": {},
     "output_type": "display_data"
    }
   ],
   "source": [
    "dia_de_espera_ordenes.plot(kind=\"bar\", title= \"Dias desde la orden anterior\", xlabel= \"Numero de dias\", ylabel= \"Cantidad de ordenes\")\n",
    "plt.show()"
   ]
  },
  {
   "cell_type": "markdown",
   "id": "3a6dd4b3",
   "metadata": {},
   "source": [
    "<div class=\"alert alert-block alert-success\"> <b>Éxito</b> <a class=\"tocSkip\"></a> Has implementado correctamente los gráficos para la distribución de las compras por hora, día de la semana y días desde la última compra. El gráfico que muestra la distribución de los días desde la última compra resalta claramente que los clientes suelen comprar con frecuencia entre 0 y 10 días, lo cual es una información valiosa.</div>"
   ]
  },
  {
   "cell_type": "markdown",
   "id": "discrete-vertex",
   "metadata": {
    "id": "discrete-vertex"
   },
   "source": [
    "Entre 0 y 10 dias de espera son donde mas ordenes se generan en total. \n",
    "Ademas encontramos que la espera de numero de dias con mas ordenes es 30, es decir que hacen compras una vez al mes. "
   ]
  },
  {
   "cell_type": "markdown",
   "id": "tight-staff",
   "metadata": {
    "id": "tight-staff"
   },
   "source": [
    "# [B] Intermedio (deben completarse todos para aprobar)\n",
    "\n",
    "1. ¿Existe alguna diferencia entre las distribuciones `'order_hour_of_day'` de los miércoles y los sábados? Traza gráficos de barra de `'order_hour_of_day'` para ambos días en la misma figura y describe las diferencias que observes.\n",
    "2. Grafica la distribución para el número de órdenes que hacen los clientes (es decir, cuántos clientes hicieron solo 1 pedido, cuántos hicieron 2, cuántos 3, y así sucesivamente...).\n",
    "3. ¿Cuáles son los 20 principales productos que se piden con más frecuencia (muestra su identificación y nombre)?"
   ]
  },
  {
   "cell_type": "markdown",
   "id": "packed-classic",
   "metadata": {
    "id": "packed-classic"
   },
   "source": [
    "### [B1] Diferencia entre miércoles y sábados para  `'order_hour_of_day'`. Traza gráficos de barra para los dos días y describe las diferencias que veas."
   ]
  },
  {
   "cell_type": "code",
   "execution_count": 54,
   "id": "d89b8403",
   "metadata": {
    "id": "d89b8403"
   },
   "outputs": [
    {
     "name": "stdout",
     "output_type": "stream",
     "text": [
      "        order_id  user_id  order_number  order_dow  order_hour_of_day  \\\n",
      "0        1515936   183418            11          6                 13   \n",
      "1        2511640   148233            40          3                  8   \n",
      "2         102585   191558            18          6                 16   \n",
      "3        2843219    74699             4          6                 11   \n",
      "4        3109465    55090            19          3                 15   \n",
      "...          ...      ...           ...        ...                ...   \n",
      "123541    984024    47076             2          6                 21   \n",
      "123542    640934    27104             9          3                 10   \n",
      "123543   3006133    34561             7          6                 10   \n",
      "123544   3270802   112087             2          3                 13   \n",
      "123545    216274     4391             3          3                  8   \n",
      "\n",
      "        days_since_prior_order  \n",
      "0                         30.0  \n",
      "1                          2.0  \n",
      "2                          8.0  \n",
      "3                         30.0  \n",
      "4                          9.0  \n",
      "...                        ...  \n",
      "123541                     6.0  \n",
      "123542                     6.0  \n",
      "123543                    30.0  \n",
      "123544                     6.0  \n",
      "123545                     8.0  \n",
      "\n",
      "[123546 rows x 6 columns]\n"
     ]
    }
   ],
   "source": [
    "datos_filtrados = ordenes[ ordenes['order_dow'].isin([3, 6])]\n",
    "print(datos_filtrados.reset_index(drop=True))"
   ]
  },
  {
   "cell_type": "code",
   "execution_count": 55,
   "id": "94e54e8a",
   "metadata": {
    "id": "94e54e8a"
   },
   "outputs": [
    {
     "name": "stdout",
     "output_type": "stream",
     "text": [
      "0      373\n",
      "1      215\n",
      "2      106\n",
      "3      101\n",
      "4      108\n",
      "5      170\n",
      "6      643\n",
      "7     1732\n",
      "8     3125\n",
      "9     4490\n",
      "10    5026\n",
      "11    5004\n",
      "12    4688\n",
      "13    4674\n",
      "14    4774\n",
      "15    5163\n",
      "16    4976\n",
      "17    4175\n",
      "18    3463\n",
      "19    2652\n",
      "20    1917\n",
      "21    1450\n",
      "22    1154\n",
      "23     718\n",
      "Name: order_hour_of_day, dtype: int64\n",
      "0      464\n",
      "1      254\n",
      "2      177\n",
      "3      125\n",
      "4      118\n",
      "5      161\n",
      "6      451\n",
      "7     1619\n",
      "8     3246\n",
      "9     4311\n",
      "10    4919\n",
      "11    5116\n",
      "12    5132\n",
      "13    5323\n",
      "14    5375\n",
      "15    5188\n",
      "16    5029\n",
      "17    4295\n",
      "18    3338\n",
      "19    2610\n",
      "20    1847\n",
      "21    1473\n",
      "22    1185\n",
      "23     893\n",
      "Name: order_hour_of_day, dtype: int64\n"
     ]
    }
   ],
   "source": [
    "conteos_miercoles = datos_filtrados[datos_filtrados['order_dow'] == 3]['order_hour_of_day'].value_counts().sort_index()\n",
    "conteos_sabado = datos_filtrados[datos_filtrados['order_dow'] == 6]['order_hour_of_day'].value_counts().sort_index()\n",
    "print(conteos_miercoles)\n",
    "print(conteos_sabado)"
   ]
  },
  {
   "cell_type": "code",
   "execution_count": 56,
   "id": "797c90a8",
   "metadata": {
    "id": "797c90a8"
   },
   "outputs": [
    {
     "data": {
      "image/png": "[encoded data removed]",
      "text/plain": [
       "<Figure size 640x480 with 1 Axes>"
      ]
     },
     "metadata": {},
     "output_type": "display_data"
    }
   ],
   "source": [
    "\n",
    "datos_filtrados[datos_filtrados['order_dow'] == 3]['order_hour_of_day'].plot(kind='hist', bins=24, alpha=0.5, color='blue', range=(0, 24))\n",
    "\n",
    "\n",
    "datos_filtrados[datos_filtrados['order_dow'] == 6]['order_hour_of_day'].plot(kind='hist', bins=24, alpha=0.5, color='orange', range=(0, 24))\n",
    "\n",
    "\n",
    "plt.title('Distribución de Órdenes por Hora: Miércoles vs Sábado')\n",
    "plt.xlabel('Hora del Día')\n",
    "plt.ylabel('Frecuencia')\n",
    "plt.xticks(range(24))  \n",
    "plt.legend(['Miércoles', 'Sábado'])\n",
    "\n",
    "plt.show()\n"
   ]
  },
  {
   "cell_type": "markdown",
   "id": "6b527675",
   "metadata": {},
   "source": [
    "<div class=\"alert alert-block alert-warning\"> <b>Atención</b> <a class=\"tocSkip\"></a> El gráfico comparativo entre las órdenes de los miércoles y los sábados está bien hecho, pero podrías haber interpretado más los resultados. Por ejemplo, podrías profundizar en por qué los sábados tienen más actividad por la tarde en comparación con los miércoles, lo que podría estar relacionado con los hábitos de compra de fin de semana.</div>"
   ]
  },
  {
   "cell_type": "markdown",
   "id": "charitable-congo",
   "metadata": {
    "id": "charitable-congo"
   },
   "source": [
    "Podemos notar que los dos dias de la semana tienen una distribucion similar en las ordenes por hora."
   ]
  },
  {
   "cell_type": "markdown",
   "id": "e3891143",
   "metadata": {
    "id": "e3891143"
   },
   "source": [
    "### [B2] ¿Cuál es la distribución para el número de pedidos por cliente?"
   ]
  },
  {
   "cell_type": "code",
   "execution_count": 57,
   "id": "d8c26c23",
   "metadata": {
    "id": "d8c26c23"
   },
   "outputs": [
    {
     "data": {
      "text/html": [
       "<div>\n",
       "<style scoped>\n",
       "    .dataframe tbody tr th:only-of-type {\n",
       "        vertical-align: middle;\n",
       "    }\n",
       "\n",
       "    .dataframe tbody tr th {\n",
       "        vertical-align: top;\n",
       "    }\n",
       "\n",
       "    .dataframe thead th {\n",
       "        text-align: right;\n",
       "    }\n",
       "</style>\n",
       "<table border=\"1\" class=\"dataframe\">\n",
       "  <thead>\n",
       "    <tr style=\"text-align: right;\">\n",
       "      <th></th>\n",
       "      <th>order_id</th>\n",
       "      <th>user_id</th>\n",
       "      <th>order_number</th>\n",
       "      <th>order_dow</th>\n",
       "      <th>order_hour_of_day</th>\n",
       "      <th>days_since_prior_order</th>\n",
       "    </tr>\n",
       "  </thead>\n",
       "  <tbody>\n",
       "    <tr>\n",
       "      <th>0</th>\n",
       "      <td>1515936</td>\n",
       "      <td>183418</td>\n",
       "      <td>11</td>\n",
       "      <td>6</td>\n",
       "      <td>13</td>\n",
       "      <td>30.0</td>\n",
       "    </tr>\n",
       "    <tr>\n",
       "      <th>1</th>\n",
       "      <td>1690866</td>\n",
       "      <td>163593</td>\n",
       "      <td>5</td>\n",
       "      <td>5</td>\n",
       "      <td>12</td>\n",
       "      <td>9.0</td>\n",
       "    </tr>\n",
       "    <tr>\n",
       "      <th>2</th>\n",
       "      <td>1454967</td>\n",
       "      <td>39980</td>\n",
       "      <td>4</td>\n",
       "      <td>5</td>\n",
       "      <td>19</td>\n",
       "      <td>2.0</td>\n",
       "    </tr>\n",
       "    <tr>\n",
       "      <th>3</th>\n",
       "      <td>1768857</td>\n",
       "      <td>82516</td>\n",
       "      <td>56</td>\n",
       "      <td>0</td>\n",
       "      <td>20</td>\n",
       "      <td>10.0</td>\n",
       "    </tr>\n",
       "    <tr>\n",
       "      <th>4</th>\n",
       "      <td>3007858</td>\n",
       "      <td>196724</td>\n",
       "      <td>2</td>\n",
       "      <td>4</td>\n",
       "      <td>12</td>\n",
       "      <td>17.0</td>\n",
       "    </tr>\n",
       "  </tbody>\n",
       "</table>\n",
       "</div>"
      ],
      "text/plain": [
       "   order_id  user_id  order_number  order_dow  order_hour_of_day  \\\n",
       "0   1515936   183418            11          6                 13   \n",
       "1   1690866   163593             5          5                 12   \n",
       "2   1454967    39980             4          5                 19   \n",
       "3   1768857    82516            56          0                 20   \n",
       "4   3007858   196724             2          4                 12   \n",
       "\n",
       "   days_since_prior_order  \n",
       "0                    30.0  \n",
       "1                     9.0  \n",
       "2                     2.0  \n",
       "3                    10.0  \n",
       "4                    17.0  "
      ]
     },
     "execution_count": 57,
     "metadata": {},
     "output_type": "execute_result"
    }
   ],
   "source": [
    "ordenes.head()"
   ]
  },
  {
   "cell_type": "code",
   "execution_count": 58,
   "id": "00e69a66",
   "metadata": {
    "id": "00e69a66"
   },
   "outputs": [
    {
     "name": "stdout",
     "output_type": "stream",
     "text": [
      "order_number\n",
      "1      28817\n",
      "2      28633\n",
      "3      28685\n",
      "4      28703\n",
      "5      25661\n",
      "       ...  \n",
      "96       220\n",
      "97       221\n",
      "98       191\n",
      "99       169\n",
      "100      194\n",
      "Name: user_id, Length: 100, dtype: int64\n"
     ]
    }
   ],
   "source": [
    "numero_pedidos_cliente = ordenes.groupby(\"order_number\")[\"user_id\"].count()\n",
    "\n",
    "print(numero_pedidos_cliente)"
   ]
  },
  {
   "cell_type": "code",
   "execution_count": 59,
   "id": "a432bda6",
   "metadata": {},
   "outputs": [
    {
     "data": {
      "image/png": "[encoded data removed]",
      "text/plain": [
       "<Figure size 1000x500 with 1 Axes>"
      ]
     },
     "metadata": {},
     "output_type": "display_data"
    }
   ],
   "source": [
    "plt.figure(figsize=(10, 5))\n",
    "plt.hist(numero_pedidos_cliente, bins=15, color='blue', alpha=0.7)\n",
    "\n",
    "plt.title('Distribución del Número de Pedidos por Cliente')\n",
    "plt.xlabel('Cantidad de Pedidos')\n",
    "plt.ylabel('Cantidad de Clientes')\n",
    "plt.show()\n"
   ]
  },
  {
   "cell_type": "markdown",
   "id": "3a463436",
   "metadata": {},
   "source": [
    "<div class=\"alert alert-block alert-success\"> <b>Éxito</b> <a class=\"tocSkip\"></a> La distribución del número de pedidos por cliente es clara y está bien representada gráficamente. Esta información es útil para identificar la frecuencia de compra y entender mejor el comportamiento del cliente.</div>"
   ]
  },
  {
   "cell_type": "markdown",
   "id": "d2eff7d5",
   "metadata": {
    "id": "d2eff7d5"
   },
   "source": [
    "Escribe aquí tus conclusiones"
   ]
  },
  {
   "cell_type": "markdown",
   "id": "54a0319c",
   "metadata": {
    "id": "54a0319c"
   },
   "source": [
    "### [B3] ¿Cuáles son los 20 productos más populares (muestra su ID y nombre)?"
   ]
  },
  {
   "cell_type": "code",
   "execution_count": 60,
   "id": "exterior-arizona",
   "metadata": {
    "id": "exterior-arizona",
    "scrolled": true
   },
   "outputs": [],
   "source": [
    "ordenen_de_productos=orden_de_productos.merge(productos, on=\"product_id\")"
   ]
  },
  {
   "cell_type": "code",
   "execution_count": 61,
   "id": "universal-facial",
   "metadata": {
    "id": "universal-facial"
   },
   "outputs": [
    {
     "data": {
      "text/html": [
       "<div>\n",
       "<style scoped>\n",
       "    .dataframe tbody tr th:only-of-type {\n",
       "        vertical-align: middle;\n",
       "    }\n",
       "\n",
       "    .dataframe tbody tr th {\n",
       "        vertical-align: top;\n",
       "    }\n",
       "\n",
       "    .dataframe thead th {\n",
       "        text-align: right;\n",
       "    }\n",
       "</style>\n",
       "<table border=\"1\" class=\"dataframe\">\n",
       "  <thead>\n",
       "    <tr style=\"text-align: right;\">\n",
       "      <th></th>\n",
       "      <th>order_id</th>\n",
       "      <th>product_id</th>\n",
       "      <th>add_to_cart_order</th>\n",
       "      <th>reordered</th>\n",
       "      <th>product_name</th>\n",
       "      <th>aisle_id</th>\n",
       "      <th>department_id</th>\n",
       "    </tr>\n",
       "  </thead>\n",
       "  <tbody>\n",
       "    <tr>\n",
       "      <th>0</th>\n",
       "      <td>2141543</td>\n",
       "      <td>11440</td>\n",
       "      <td>17</td>\n",
       "      <td>0</td>\n",
       "      <td>CHICKEN BREAST TENDERS BREADED</td>\n",
       "      <td>129</td>\n",
       "      <td>1</td>\n",
       "    </tr>\n",
       "    <tr>\n",
       "      <th>1</th>\n",
       "      <td>147172</td>\n",
       "      <td>11440</td>\n",
       "      <td>7</td>\n",
       "      <td>1</td>\n",
       "      <td>CHICKEN BREAST TENDERS BREADED</td>\n",
       "      <td>129</td>\n",
       "      <td>1</td>\n",
       "    </tr>\n",
       "    <tr>\n",
       "      <th>2</th>\n",
       "      <td>3341719</td>\n",
       "      <td>11440</td>\n",
       "      <td>4</td>\n",
       "      <td>1</td>\n",
       "      <td>CHICKEN BREAST TENDERS BREADED</td>\n",
       "      <td>129</td>\n",
       "      <td>1</td>\n",
       "    </tr>\n",
       "    <tr>\n",
       "      <th>3</th>\n",
       "      <td>1938779</td>\n",
       "      <td>11440</td>\n",
       "      <td>8</td>\n",
       "      <td>1</td>\n",
       "      <td>CHICKEN BREAST TENDERS BREADED</td>\n",
       "      <td>129</td>\n",
       "      <td>1</td>\n",
       "    </tr>\n",
       "    <tr>\n",
       "      <th>4</th>\n",
       "      <td>1728338</td>\n",
       "      <td>11440</td>\n",
       "      <td>23</td>\n",
       "      <td>0</td>\n",
       "      <td>CHICKEN BREAST TENDERS BREADED</td>\n",
       "      <td>129</td>\n",
       "      <td>1</td>\n",
       "    </tr>\n",
       "    <tr>\n",
       "      <th>...</th>\n",
       "      <td>...</td>\n",
       "      <td>...</td>\n",
       "      <td>...</td>\n",
       "      <td>...</td>\n",
       "      <td>...</td>\n",
       "      <td>...</td>\n",
       "      <td>...</td>\n",
       "    </tr>\n",
       "    <tr>\n",
       "      <th>4545002</th>\n",
       "      <td>267402</td>\n",
       "      <td>45226</td>\n",
       "      <td>14</td>\n",
       "      <td>0</td>\n",
       "      <td>SWEET TERIYAKI CHICKEN OVEN SAUCE</td>\n",
       "      <td>5</td>\n",
       "      <td>13</td>\n",
       "    </tr>\n",
       "    <tr>\n",
       "      <th>4545003</th>\n",
       "      <td>2621676</td>\n",
       "      <td>25201</td>\n",
       "      <td>10</td>\n",
       "      <td>0</td>\n",
       "      <td>CRISP WATERS CANDLE SCENTS</td>\n",
       "      <td>101</td>\n",
       "      <td>17</td>\n",
       "    </tr>\n",
       "    <tr>\n",
       "      <th>4545004</th>\n",
       "      <td>937623</td>\n",
       "      <td>49153</td>\n",
       "      <td>2</td>\n",
       "      <td>0</td>\n",
       "      <td>SHINE COLLECTION BRILLANCE SHAMPOO</td>\n",
       "      <td>22</td>\n",
       "      <td>11</td>\n",
       "    </tr>\n",
       "    <tr>\n",
       "      <th>4545005</th>\n",
       "      <td>532895</td>\n",
       "      <td>8182</td>\n",
       "      <td>1</td>\n",
       "      <td>0</td>\n",
       "      <td>TOTAL MINT STRIPE GEL TOOTHPASTE</td>\n",
       "      <td>20</td>\n",
       "      <td>11</td>\n",
       "    </tr>\n",
       "    <tr>\n",
       "      <th>4545006</th>\n",
       "      <td>3132243</td>\n",
       "      <td>40024</td>\n",
       "      <td>1</td>\n",
       "      <td>0</td>\n",
       "      <td>EGG REPLACER POWDER</td>\n",
       "      <td>17</td>\n",
       "      <td>13</td>\n",
       "    </tr>\n",
       "  </tbody>\n",
       "</table>\n",
       "<p>4545007 rows × 7 columns</p>\n",
       "</div>"
      ],
      "text/plain": [
       "         order_id  product_id  add_to_cart_order  reordered  \\\n",
       "0         2141543       11440                 17          0   \n",
       "1          147172       11440                  7          1   \n",
       "2         3341719       11440                  4          1   \n",
       "3         1938779       11440                  8          1   \n",
       "4         1728338       11440                 23          0   \n",
       "...           ...         ...                ...        ...   \n",
       "4545002    267402       45226                 14          0   \n",
       "4545003   2621676       25201                 10          0   \n",
       "4545004    937623       49153                  2          0   \n",
       "4545005    532895        8182                  1          0   \n",
       "4545006   3132243       40024                  1          0   \n",
       "\n",
       "                               product_name  aisle_id  department_id  \n",
       "0            CHICKEN BREAST TENDERS BREADED       129              1  \n",
       "1            CHICKEN BREAST TENDERS BREADED       129              1  \n",
       "2            CHICKEN BREAST TENDERS BREADED       129              1  \n",
       "3            CHICKEN BREAST TENDERS BREADED       129              1  \n",
       "4            CHICKEN BREAST TENDERS BREADED       129              1  \n",
       "...                                     ...       ...            ...  \n",
       "4545002   SWEET TERIYAKI CHICKEN OVEN SAUCE         5             13  \n",
       "4545003          CRISP WATERS CANDLE SCENTS       101             17  \n",
       "4545004  SHINE COLLECTION BRILLANCE SHAMPOO        22             11  \n",
       "4545005    TOTAL MINT STRIPE GEL TOOTHPASTE        20             11  \n",
       "4545006                 EGG REPLACER POWDER        17             13  \n",
       "\n",
       "[4545007 rows x 7 columns]"
      ]
     },
     "execution_count": 61,
     "metadata": {},
     "output_type": "execute_result"
    }
   ],
   "source": [
    "ordenen_de_productos"
   ]
  },
  {
   "cell_type": "code",
   "execution_count": 62,
   "id": "bbcdd20b",
   "metadata": {
    "id": "bbcdd20b"
   },
   "outputs": [],
   "source": [
    "mejores_productos= ordenen_de_productos.groupby([\"product_id\", \"product_name\"])[\"order_id\"].count().sort_values(ascending=False)"
   ]
  },
  {
   "cell_type": "code",
   "execution_count": 63,
   "id": "619ae366",
   "metadata": {},
   "outputs": [
    {
     "name": "stdout",
     "output_type": "stream",
     "text": [
      "product_id  product_name            \n",
      "24852       BANANA                      66050\n",
      "13176       BAG OF ORGANIC BANANAS      53297\n",
      "21137       ORGANIC STRAWBERRIES        37039\n",
      "21903       ORGANIC BABY SPINACH        33971\n",
      "47209       ORGANIC HASS AVOCADO        29773\n",
      "47766       ORGANIC AVOCADO             24689\n",
      "47626       LARGE LEMON                 21495\n",
      "16797       STRAWBERRIES                20018\n",
      "26209       LIMES                       19690\n",
      "27845       ORGANIC WHOLE MILK          19600\n",
      "27966       ORGANIC RASPBERRIES         19197\n",
      "22935       ORGANIC YELLOW ONION        15898\n",
      "24964       ORGANIC GARLIC              15292\n",
      "45007       ORGANIC ZUCCHINI            14584\n",
      "39275       ORGANIC BLUEBERRIES         13879\n",
      "49683       CUCUMBER KIRBY              13675\n",
      "28204       ORGANIC FUJI APPLE          12544\n",
      "5876        ORGANIC LEMON               12232\n",
      "8277        APPLE HONEYCRISP ORGANIC    11993\n",
      "40706       ORGANIC GRAPE TOMATOES      11781\n",
      "Name: order_id, dtype: int64\n"
     ]
    }
   ],
   "source": [
    "mejores_20_productos= mejores_productos.head(20)\n",
    "print(mejores_20_productos)"
   ]
  },
  {
   "cell_type": "code",
   "execution_count": 64,
   "id": "5b7bef2c",
   "metadata": {
    "scrolled": true
   },
   "outputs": [
    {
     "data": {
      "image/png": "[encoded data removed]",
      "text/plain": [
       "<Figure size 640x480 with 1 Axes>"
      ]
     },
     "metadata": {},
     "output_type": "display_data"
    }
   ],
   "source": [
    "mejores_20_productos.plot(kind=\"bar\", title=\"20 mejores productos\",xlabel= \"Productos\", ylabel=\"Cantidad de ordenes\")\n",
    "plt.show()"
   ]
  },
  {
   "cell_type": "markdown",
   "id": "7437410b",
   "metadata": {},
   "source": [
    "<div class=\"alert alert-block alert-success\"> <b>Éxito</b> <a class=\"tocSkip\"></a> Tu análisis de los 20 productos más populares es sólido. Has presentado correctamente los productos con mayor demanda, lo que proporciona información valiosa para la gestión de inventarios y decisiones de marketing.</div>"
   ]
  },
  {
   "cell_type": "markdown",
   "id": "7df00f47",
   "metadata": {
    "id": "7df00f47"
   },
   "source": [
    "Se puede concluir que los productos con mayor numero de ventas se encuentran por arriba de las 50 mil ventas, siendo las bananas los principales productos de la compañia.  "
   ]
  },
  {
   "cell_type": "markdown",
   "id": "gross-theme",
   "metadata": {
    "id": "gross-theme"
   },
   "source": [
    "# [C] Difícil (deben completarse todos para aprobar)\n",
    "\n",
    "1. ¿Cuántos artículos suelen comprar las personas en un pedido? ¿Cómo es la distribución?\n",
    "2. ¿Cuáles son los 20 principales artículos que vuelven a pedirse con mayor frecuencia (muestra sus nombres e IDs de los productos)?\n",
    "3. Para cada producto, ¿cuál es la tasa de repetición del pedido (número de repeticiones de pedido/total de pedidos?\n",
    "4. Para cada cliente, ¿qué proporción de los productos que pidió ya los había pedido? Calcula la tasa de repetición de pedido para cada usuario en lugar de para cada producto.\n",
    "5. ¿Cuáles son los 20 principales artículos que la gente pone primero en sus carritos (muestra las IDs de los productos, sus nombres, y el número de veces en que fueron el primer artículo en añadirse al carrito)?"
   ]
  },
  {
   "cell_type": "markdown",
   "id": "romantic-deposit",
   "metadata": {
    "id": "romantic-deposit"
   },
   "source": [
    "### [C1] ¿Cuántos artículos compran normalmente las personas en un pedido? ¿Cómo es la distribución?"
   ]
  },
  {
   "cell_type": "code",
   "execution_count": 65,
   "id": "virtual-punch",
   "metadata": {
    "id": "virtual-punch"
   },
   "outputs": [
    {
     "name": "stdout",
     "output_type": "stream",
     "text": [
      "         order_id  product_id  add_to_cart_order  reordered  user_id  \\\n",
      "0         2141543       11440                 17          0    58454   \n",
      "1         2141543       31869                 15          1    58454   \n",
      "2         2141543       30233                  9          1    58454   \n",
      "3         2141543       27966                 20          1    58454   \n",
      "4         2141543       13176                  2          1    58454   \n",
      "...           ...         ...                ...        ...      ...   \n",
      "4545002   1790509       43739                  1          1    60894   \n",
      "4545003   1274005       38275                  1          1    32958   \n",
      "4545004    812418       46149                  1          1   130466   \n",
      "4545005   2666881         196                  1          1    33946   \n",
      "4545006   1461911       33198                  1          1    54019   \n",
      "\n",
      "         order_number  order_dow  order_hour_of_day  days_since_prior_order  \n",
      "0                  25          0                 15                     8.0  \n",
      "1                  25          0                 15                     8.0  \n",
      "2                  25          0                 15                     8.0  \n",
      "3                  25          0                 15                     8.0  \n",
      "4                  25          0                 15                     8.0  \n",
      "...               ...        ...                ...                     ...  \n",
      "4545002             9          2                 21                    18.0  \n",
      "4545003             7          5                 17                     1.0  \n",
      "4545004            34          1                 14                     0.0  \n",
      "4545005            12          1                  8                    17.0  \n",
      "4545006            10          5                 11                    23.0  \n",
      "\n",
      "[4545007 rows x 9 columns]\n"
     ]
    }
   ],
   "source": [
    "productos_clientes= orden_de_productos.merge(ordenes, on=\"order_id\")\n",
    "print(productos_clientes)"
   ]
  },
  {
   "cell_type": "code",
   "execution_count": 66,
   "id": "sensitive-breathing",
   "metadata": {
    "id": "sensitive-breathing"
   },
   "outputs": [
    {
     "name": "stdout",
     "output_type": "stream",
     "text": [
      "order_id\n",
      "61355      127\n",
      "3308010    115\n",
      "2136777    108\n",
      "171934     104\n",
      "1959075     98\n",
      "          ... \n",
      "2231165      1\n",
      "816908       1\n",
      "2230951      1\n",
      "112056       1\n",
      "3421079      1\n",
      "Name: product_id, Length: 450046, dtype: int64\n"
     ]
    }
   ],
   "source": [
    "articulos_por_pedido = productos_clientes.groupby('order_id')['product_id'].count().sort_values(ascending=False)\n",
    "print(articulos_por_pedido)"
   ]
  },
  {
   "cell_type": "code",
   "execution_count": 67,
   "id": "completed-frank",
   "metadata": {
    "id": "completed-frank",
    "scrolled": true
   },
   "outputs": [
    {
     "name": "stdout",
     "output_type": "stream",
     "text": [
      "count    450046.000000\n",
      "mean         10.098983\n",
      "std           7.540206\n",
      "min           1.000000\n",
      "25%           5.000000\n",
      "50%           8.000000\n",
      "75%          14.000000\n",
      "max         127.000000\n",
      "Name: product_id, dtype: float64\n"
     ]
    }
   ],
   "source": [
    "estadisticas = articulos_por_pedido.describe()\n",
    "print(estadisticas)"
   ]
  },
  {
   "cell_type": "markdown",
   "id": "ca2ada72",
   "metadata": {},
   "source": [
    "<div class=\"alert alert-block alert-success\"> <b>Éxito</b> <a class=\"tocSkip\"></a> El análisis del número de artículos por pedido está bien ejecutado, y los resultados son interesantes. Has señalado correctamente que la media es de 10.1 artículos por pedido, lo que es un dato valioso para entender el tamaño promedio de las compras.</div>"
   ]
  },
  {
   "cell_type": "markdown",
   "id": "designed-mortality",
   "metadata": {
    "id": "designed-mortality"
   },
   "source": [
    "En términos generales, los pedidos suelen incluir alrededor de 10.1 artículos.Esto indica que es común que los clientes adquieran una cantidad moderada de productos en cada compra. La desviación estándar es 7.54, lo que señala que existe una variabilidad significativa en la cantidad de artículos adquiridos. Esto implica que algunos pedidos contienen una cantidad mayor de artículos que otros."
   ]
  },
  {
   "cell_type": "markdown",
   "id": "5e6b5537",
   "metadata": {
    "id": "5e6b5537"
   },
   "source": [
    "### [C2] ¿Cuáles son los 20 principales artículos que vuelven a pedirse con mayor frecuencia (muestra sus nombres e IDs de los productos)?"
   ]
  },
  {
   "cell_type": "code",
   "execution_count": 68,
   "id": "9374e55a",
   "metadata": {
    "id": "9374e55a"
   },
   "outputs": [],
   "source": [
    "productos_reordenados= ordenen_de_productos[ordenen_de_productos[\"reordered\"]== 1].groupby([\"product_id\", \"product_name\"])[\"order_id\"].count().sort_values(ascending=False)"
   ]
  },
  {
   "cell_type": "code",
   "execution_count": 69,
   "id": "possible-change",
   "metadata": {
    "id": "possible-change",
    "scrolled": true
   },
   "outputs": [],
   "source": [
    "mejores_20_productos_reordenados= productos_reordenados.head(20)"
   ]
  },
  {
   "cell_type": "code",
   "execution_count": 70,
   "id": "professional-surfing",
   "metadata": {
    "id": "professional-surfing",
    "scrolled": true
   },
   "outputs": [
    {
     "name": "stdout",
     "output_type": "stream",
     "text": [
      "product_id  product_name            \n",
      "24852       BANANA                      55763\n",
      "13176       BAG OF ORGANIC BANANAS      44450\n",
      "21137       ORGANIC STRAWBERRIES        28639\n",
      "21903       ORGANIC BABY SPINACH        26233\n",
      "47209       ORGANIC HASS AVOCADO        23629\n",
      "47766       ORGANIC AVOCADO             18743\n",
      "27845       ORGANIC WHOLE MILK          16251\n",
      "47626       LARGE LEMON                 15044\n",
      "27966       ORGANIC RASPBERRIES         14748\n",
      "16797       STRAWBERRIES                13945\n",
      "26209       LIMES                       13327\n",
      "22935       ORGANIC YELLOW ONION        11145\n",
      "24964       ORGANIC GARLIC              10411\n",
      "45007       ORGANIC ZUCCHINI            10076\n",
      "49683       CUCUMBER KIRBY               9538\n",
      "28204       ORGANIC FUJI APPLE           8989\n",
      "8277        APPLE HONEYCRISP ORGANIC     8836\n",
      "39275       ORGANIC BLUEBERRIES          8799\n",
      "5876        ORGANIC LEMON                8412\n",
      "49235       ORGANIC HALF & HALF          8389\n",
      "Name: order_id, dtype: int64\n"
     ]
    }
   ],
   "source": [
    "print(mejores_20_productos_reordenados)"
   ]
  },
  {
   "cell_type": "code",
   "execution_count": 71,
   "id": "48dd3658",
   "metadata": {
    "id": "48dd3658"
   },
   "outputs": [
    {
     "data": {
      "image/png": "[encoded data removed]",
      "text/plain": [
       "<Figure size 1200x600 with 1 Axes>"
      ]
     },
     "metadata": {},
     "output_type": "display_data"
    }
   ],
   "source": [
    "ax=mejores_20_productos_reordenados.plot(kind= \"bar\",title=\"Mejores productos reordenados\", xlabel='Nombre del Producto', ylabel='Cantidad de Reordenados',figsize=(12, 6))\n",
    "\n",
    "plt.show()"
   ]
  },
  {
   "cell_type": "markdown",
   "id": "1e22f7ab",
   "metadata": {},
   "source": [
    "<div class=\"alert alert-block alert-success\"> <b>Éxito</b> <a class=\"tocSkip\"></a> Tu análisis de los productos más reordenados es excelente. Has identificado correctamente que los productos frescos y orgánicos son los más reordenados, lo que es útil para entender las preferencias del cliente.</div>"
   ]
  },
  {
   "cell_type": "markdown",
   "id": "80e70c74",
   "metadata": {
    "id": "80e70c74"
   },
   "source": [
    "La lista señala que los compradores se están inclinando hacia artículos frescos y saludables, en especial los que son de origen orgánico. Entender estas preferencias puede asistir en la optimización de las decisiones de stock y las estrategias de marketing."
   ]
  },
  {
   "cell_type": "markdown",
   "id": "9d312b14",
   "metadata": {
    "id": "9d312b14"
   },
   "source": [
    "### [C3] Para cada producto, ¿cuál es la proporción de las veces que se pide y que se vuelve a pedir?"
   ]
  },
  {
   "cell_type": "code",
   "execution_count": 72,
   "id": "8ae9f4b1",
   "metadata": {
    "id": "8ae9f4b1",
    "scrolled": true
   },
   "outputs": [
    {
     "data": {
      "text/plain": [
       "product_id  product_name                                                     \n",
       "1           CHOCOLATE SANDWICH COOKIES                                           0.564286\n",
       "2           ALL-SEASONS SALT                                                     0.000000\n",
       "3           ROBUST GOLDEN UNSWEETENED OOLONG TEA                                 0.738095\n",
       "4           SMART ONES CLASSIC FAVORITES MINI RIGATONI WITH VODKA CREAM SAUCE    0.510204\n",
       "7           PURE COCONUT WATER WITH ORANGE                                       0.500000\n",
       "                                                                                   ...   \n",
       "49690       HIGH PERFORMANCE ENERGY DRINK                                        0.800000\n",
       "49691       ORIGINAL PANCAKE & WAFFLE MIX                                        0.430556\n",
       "49692       ORGANIC INSTANT OATMEAL LIGHT MAPLE BROWN SUGAR                      0.416667\n",
       "49693       SPRING WATER BODY WASH                                               0.440000\n",
       "49694       BURRITO- STEAK & CHEESE                                              0.333333\n",
       "Name: reordered, Length: 45573, dtype: float64"
      ]
     },
     "execution_count": 72,
     "metadata": {},
     "output_type": "execute_result"
    }
   ],
   "source": [
    "ordenen_de_productos.groupby([\"product_id\", \"product_name\"])[\"reordered\"].mean()"
   ]
  },
  {
   "cell_type": "markdown",
   "id": "200e20bc",
   "metadata": {},
   "source": [
    "<div class=\"alert alert-block alert-success\"> <b>Éxito</b> <a class=\"tocSkip\"></a> El cálculo de la tasa de repetición por producto está bien ejecutado y es relevante para entender la lealtad de los clientes hacia ciertos productos. Esto puede ser valioso para ajustar las estrategias de inventario y promociones.</div>"
   ]
  },
  {
   "cell_type": "markdown",
   "id": "I10dEIAyldcO",
   "metadata": {
    "id": "I10dEIAyldcO"
   },
   "source": [
    "Los artículos que tienen una proporción elevada de reordenados pueden requerir una cantidad mayor de suministro, en contraste, los que tienen una proporción baja podrían ser seleccionados para campañas de marketing o promociones con el fin de incrementar sus ventas y visibilidad."
   ]
  },
  {
   "cell_type": "markdown",
   "id": "subject-boxing",
   "metadata": {
    "id": "subject-boxing"
   },
   "source": [
    "### [C4] Para cada cliente, ¿qué proporción de sus productos ya los había pedido?"
   ]
  },
  {
   "cell_type": "code",
   "execution_count": 73,
   "id": "medical-couple",
   "metadata": {
    "id": "medical-couple",
    "scrolled": true
   },
   "outputs": [],
   "source": [
    "ordenes_productos=ordenes.merge(orden_de_productos, on=\"order_id\")"
   ]
  },
  {
   "cell_type": "code",
   "execution_count": 74,
   "id": "8892e4b4",
   "metadata": {
    "id": "8892e4b4"
   },
   "outputs": [
    {
     "data": {
      "text/plain": [
       "user_id\n",
       "2         0.038462\n",
       "4         0.000000\n",
       "5         0.666667\n",
       "6         0.000000\n",
       "7         0.928571\n",
       "            ...   \n",
       "206203    0.222222\n",
       "206206    0.714286\n",
       "206207    0.891304\n",
       "206208    0.696000\n",
       "206209    0.320000\n",
       "Name: reordered, Length: 149626, dtype: float64"
      ]
     },
     "execution_count": 74,
     "metadata": {},
     "output_type": "execute_result"
    }
   ],
   "source": [
    "ordenes_productos.groupby(\"user_id\")['reordered'].mean()"
   ]
  },
  {
   "cell_type": "markdown",
   "id": "BgJSvXDsleXz",
   "metadata": {
    "id": "BgJSvXDsleXz"
   },
   "source": [
    "El análisis de la proporción de artículos reordenados por cada comprador reveló diferencias significativas en los patrones de compra. Algunos clientes como user_id 7 muestran una alta lealtad y vuelven a pedir casi todos los productos comprados, lo que indica satisfacción y preferencia por ciertos artículos. Por el contrario, otros clientes (como user_id 4) aún no han vuelto a pedir un artículo, lo que puede indicar que están explorando nuevas opciones o aún no han encontrado un producto que les convenza."
   ]
  },
  {
   "cell_type": "markdown",
   "id": "67b88902",
   "metadata": {},
   "source": [
    "<div class=\"alert alert-block alert-success\"> <b>Éxito</b> <a class=\"tocSkip\"></a> Tu análisis sobre la tasa de repetición por cliente es muy interesante. Al resaltar las diferencias en el comportamiento de repetición de compras entre los clientes, proporcionas una base para segmentar mejor a los consumidores según su lealtad.</div>"
   ]
  },
  {
   "cell_type": "markdown",
   "id": "92d35137",
   "metadata": {
    "id": "92d35137"
   },
   "source": [
    "### [C5] ¿Cuáles son los 20 principales artículos que las personas ponen primero en sus carritos?"
   ]
  },
  {
   "cell_type": "code",
   "execution_count": 75,
   "id": "0ae57274",
   "metadata": {
    "id": "0ae57274",
    "scrolled": true
   },
   "outputs": [
    {
     "data": {
      "text/html": [
       "<div>\n",
       "<style scoped>\n",
       "    .dataframe tbody tr th:only-of-type {\n",
       "        vertical-align: middle;\n",
       "    }\n",
       "\n",
       "    .dataframe tbody tr th {\n",
       "        vertical-align: top;\n",
       "    }\n",
       "\n",
       "    .dataframe thead th {\n",
       "        text-align: right;\n",
       "    }\n",
       "</style>\n",
       "<table border=\"1\" class=\"dataframe\">\n",
       "  <thead>\n",
       "    <tr style=\"text-align: right;\">\n",
       "      <th></th>\n",
       "      <th>order_id</th>\n",
       "      <th>product_id</th>\n",
       "      <th>add_to_cart_order</th>\n",
       "      <th>reordered</th>\n",
       "      <th>user_id</th>\n",
       "      <th>order_number</th>\n",
       "      <th>order_dow</th>\n",
       "      <th>order_hour_of_day</th>\n",
       "      <th>days_since_prior_order</th>\n",
       "      <th>product_name</th>\n",
       "      <th>aisle_id</th>\n",
       "      <th>department_id</th>\n",
       "    </tr>\n",
       "  </thead>\n",
       "  <tbody>\n",
       "    <tr>\n",
       "      <th>0</th>\n",
       "      <td>2141543</td>\n",
       "      <td>11440</td>\n",
       "      <td>17</td>\n",
       "      <td>0</td>\n",
       "      <td>58454</td>\n",
       "      <td>25</td>\n",
       "      <td>0</td>\n",
       "      <td>15</td>\n",
       "      <td>8.0</td>\n",
       "      <td>CHICKEN BREAST TENDERS BREADED</td>\n",
       "      <td>129</td>\n",
       "      <td>1</td>\n",
       "    </tr>\n",
       "    <tr>\n",
       "      <th>1</th>\n",
       "      <td>1918689</td>\n",
       "      <td>11440</td>\n",
       "      <td>14</td>\n",
       "      <td>1</td>\n",
       "      <td>131726</td>\n",
       "      <td>31</td>\n",
       "      <td>0</td>\n",
       "      <td>8</td>\n",
       "      <td>7.0</td>\n",
       "      <td>CHICKEN BREAST TENDERS BREADED</td>\n",
       "      <td>129</td>\n",
       "      <td>1</td>\n",
       "    </tr>\n",
       "    <tr>\n",
       "      <th>2</th>\n",
       "      <td>2151362</td>\n",
       "      <td>11440</td>\n",
       "      <td>46</td>\n",
       "      <td>0</td>\n",
       "      <td>144911</td>\n",
       "      <td>11</td>\n",
       "      <td>1</td>\n",
       "      <td>11</td>\n",
       "      <td>30.0</td>\n",
       "      <td>CHICKEN BREAST TENDERS BREADED</td>\n",
       "      <td>129</td>\n",
       "      <td>1</td>\n",
       "    </tr>\n",
       "    <tr>\n",
       "      <th>3</th>\n",
       "      <td>2267548</td>\n",
       "      <td>11440</td>\n",
       "      <td>9</td>\n",
       "      <td>0</td>\n",
       "      <td>69316</td>\n",
       "      <td>1</td>\n",
       "      <td>5</td>\n",
       "      <td>10</td>\n",
       "      <td>NaN</td>\n",
       "      <td>CHICKEN BREAST TENDERS BREADED</td>\n",
       "      <td>129</td>\n",
       "      <td>1</td>\n",
       "    </tr>\n",
       "    <tr>\n",
       "      <th>4</th>\n",
       "      <td>2591997</td>\n",
       "      <td>11440</td>\n",
       "      <td>3</td>\n",
       "      <td>1</td>\n",
       "      <td>136590</td>\n",
       "      <td>45</td>\n",
       "      <td>4</td>\n",
       "      <td>7</td>\n",
       "      <td>4.0</td>\n",
       "      <td>CHICKEN BREAST TENDERS BREADED</td>\n",
       "      <td>129</td>\n",
       "      <td>1</td>\n",
       "    </tr>\n",
       "    <tr>\n",
       "      <th>...</th>\n",
       "      <td>...</td>\n",
       "      <td>...</td>\n",
       "      <td>...</td>\n",
       "      <td>...</td>\n",
       "      <td>...</td>\n",
       "      <td>...</td>\n",
       "      <td>...</td>\n",
       "      <td>...</td>\n",
       "      <td>...</td>\n",
       "      <td>...</td>\n",
       "      <td>...</td>\n",
       "      <td>...</td>\n",
       "    </tr>\n",
       "    <tr>\n",
       "      <th>4545002</th>\n",
       "      <td>1176629</td>\n",
       "      <td>170</td>\n",
       "      <td>1</td>\n",
       "      <td>0</td>\n",
       "      <td>72889</td>\n",
       "      <td>92</td>\n",
       "      <td>4</td>\n",
       "      <td>9</td>\n",
       "      <td>1.0</td>\n",
       "      <td>SINGLE HERBS GINKGO LEAF DIETARY SUPPLEMENT</td>\n",
       "      <td>47</td>\n",
       "      <td>11</td>\n",
       "    </tr>\n",
       "    <tr>\n",
       "      <th>4545003</th>\n",
       "      <td>3139402</td>\n",
       "      <td>30458</td>\n",
       "      <td>1</td>\n",
       "      <td>0</td>\n",
       "      <td>196661</td>\n",
       "      <td>4</td>\n",
       "      <td>5</td>\n",
       "      <td>14</td>\n",
       "      <td>24.0</td>\n",
       "      <td>REGULAR MOUTH LIDS WITH BANDS</td>\n",
       "      <td>10</td>\n",
       "      <td>17</td>\n",
       "    </tr>\n",
       "    <tr>\n",
       "      <th>4545004</th>\n",
       "      <td>1859901</td>\n",
       "      <td>10363</td>\n",
       "      <td>1</td>\n",
       "      <td>0</td>\n",
       "      <td>39917</td>\n",
       "      <td>14</td>\n",
       "      <td>1</td>\n",
       "      <td>20</td>\n",
       "      <td>15.0</td>\n",
       "      <td>100% RAW COCONUT DRINK</td>\n",
       "      <td>98</td>\n",
       "      <td>7</td>\n",
       "    </tr>\n",
       "    <tr>\n",
       "      <th>4545005</th>\n",
       "      <td>1021500</td>\n",
       "      <td>25973</td>\n",
       "      <td>1</td>\n",
       "      <td>1</td>\n",
       "      <td>160507</td>\n",
       "      <td>3</td>\n",
       "      <td>3</td>\n",
       "      <td>9</td>\n",
       "      <td>2.0</td>\n",
       "      <td>ASSORTMENT BITTERSWEET CHOCOLATE BOX</td>\n",
       "      <td>45</td>\n",
       "      <td>19</td>\n",
       "    </tr>\n",
       "    <tr>\n",
       "      <th>4545006</th>\n",
       "      <td>792244</td>\n",
       "      <td>36373</td>\n",
       "      <td>1</td>\n",
       "      <td>1</td>\n",
       "      <td>156143</td>\n",
       "      <td>3</td>\n",
       "      <td>0</td>\n",
       "      <td>17</td>\n",
       "      <td>23.0</td>\n",
       "      <td>GLUTEN FREE CHOCOLATE CHIP PANCAKE MIX</td>\n",
       "      <td>130</td>\n",
       "      <td>14</td>\n",
       "    </tr>\n",
       "  </tbody>\n",
       "</table>\n",
       "<p>4545007 rows × 12 columns</p>\n",
       "</div>"
      ],
      "text/plain": [
       "         order_id  product_id  add_to_cart_order  reordered  user_id  \\\n",
       "0         2141543       11440                 17          0    58454   \n",
       "1         1918689       11440                 14          1   131726   \n",
       "2         2151362       11440                 46          0   144911   \n",
       "3         2267548       11440                  9          0    69316   \n",
       "4         2591997       11440                  3          1   136590   \n",
       "...           ...         ...                ...        ...      ...   \n",
       "4545002   1176629         170                  1          0    72889   \n",
       "4545003   3139402       30458                  1          0   196661   \n",
       "4545004   1859901       10363                  1          0    39917   \n",
       "4545005   1021500       25973                  1          1   160507   \n",
       "4545006    792244       36373                  1          1   156143   \n",
       "\n",
       "         order_number  order_dow  order_hour_of_day  days_since_prior_order  \\\n",
       "0                  25          0                 15                     8.0   \n",
       "1                  31          0                  8                     7.0   \n",
       "2                  11          1                 11                    30.0   \n",
       "3                   1          5                 10                     NaN   \n",
       "4                  45          4                  7                     4.0   \n",
       "...               ...        ...                ...                     ...   \n",
       "4545002            92          4                  9                     1.0   \n",
       "4545003             4          5                 14                    24.0   \n",
       "4545004            14          1                 20                    15.0   \n",
       "4545005             3          3                  9                     2.0   \n",
       "4545006             3          0                 17                    23.0   \n",
       "\n",
       "                                        product_name  aisle_id  department_id  \n",
       "0                     CHICKEN BREAST TENDERS BREADED       129              1  \n",
       "1                     CHICKEN BREAST TENDERS BREADED       129              1  \n",
       "2                     CHICKEN BREAST TENDERS BREADED       129              1  \n",
       "3                     CHICKEN BREAST TENDERS BREADED       129              1  \n",
       "4                     CHICKEN BREAST TENDERS BREADED       129              1  \n",
       "...                                              ...       ...            ...  \n",
       "4545002  SINGLE HERBS GINKGO LEAF DIETARY SUPPLEMENT        47             11  \n",
       "4545003                REGULAR MOUTH LIDS WITH BANDS        10             17  \n",
       "4545004                       100% RAW COCONUT DRINK        98              7  \n",
       "4545005         ASSORTMENT BITTERSWEET CHOCOLATE BOX        45             19  \n",
       "4545006       GLUTEN FREE CHOCOLATE CHIP PANCAKE MIX       130             14  \n",
       "\n",
       "[4545007 rows x 12 columns]"
      ]
     },
     "execution_count": 75,
     "metadata": {},
     "output_type": "execute_result"
    }
   ],
   "source": [
    "productos_clientes.merge(productos, on=\"product_id\")"
   ]
  },
  {
   "cell_type": "code",
   "execution_count": 76,
   "id": "5f6012ed",
   "metadata": {},
   "outputs": [],
   "source": [
    "principales_articulos= productos_clientes[productos_clientes[\"add_to_cart_order\"]== 1].groupby(\"product_id\")[\"order_id\"].count().sort_values(ascending=False)"
   ]
  },
  {
   "cell_type": "code",
   "execution_count": 77,
   "id": "forty-netherlands",
   "metadata": {
    "id": "forty-netherlands",
    "scrolled": true
   },
   "outputs": [
    {
     "data": {
      "text/plain": [
       "product_id\n",
       "24852    15562\n",
       "13176    11026\n",
       "27845     4363\n",
       "21137     3946\n",
       "47209     3390\n",
       "21903     3336\n",
       "47766     3044\n",
       "19660     2336\n",
       "16797     2308\n",
       "27966     2024\n",
       "44632     1914\n",
       "49235     1797\n",
       "47626     1737\n",
       "196       1733\n",
       "38689     1397\n",
       "26209     1370\n",
       "12341     1340\n",
       "5785      1310\n",
       "27086     1309\n",
       "43352     1246\n",
       "Name: order_id, dtype: int64"
      ]
     },
     "execution_count": 77,
     "metadata": {},
     "output_type": "execute_result"
    }
   ],
   "source": [
    "principales_articulos.head(20)"
   ]
  },
  {
   "cell_type": "code",
   "execution_count": 78,
   "id": "08e41ec2",
   "metadata": {
    "id": "08e41ec2"
   },
   "outputs": [],
   "source": [
    "principales_articulos = principales_articulos.reset_index()"
   ]
  },
  {
   "cell_type": "code",
   "execution_count": 79,
   "id": "83f1c239",
   "metadata": {},
   "outputs": [],
   "source": [
    "principales_articulos = principales_articulos.merge(productos[['product_id', 'product_name']], on='product_id')\n"
   ]
  },
  {
   "cell_type": "markdown",
   "id": "f92a1106",
   "metadata": {},
   "source": [
    "<div class=\"alert alert-block alert-success\"> <b>Éxito</b> <a class=\"tocSkip\"></a> La identificación de los productos que suelen ser los primeros en añadirse al carrito es una excelente adición a tu análisis. Esta información puede ser valiosa para diseñar estrategias de promoción y aumentar la visibilidad de estos productos en la plataforma.</div>"
   ]
  },
  {
   "cell_type": "code",
   "execution_count": 80,
   "id": "a107bdd0",
   "metadata": {},
   "outputs": [
    {
     "data": {
      "text/html": [
       "<div>\n",
       "<style scoped>\n",
       "    .dataframe tbody tr th:only-of-type {\n",
       "        vertical-align: middle;\n",
       "    }\n",
       "\n",
       "    .dataframe tbody tr th {\n",
       "        vertical-align: top;\n",
       "    }\n",
       "\n",
       "    .dataframe thead th {\n",
       "        text-align: right;\n",
       "    }\n",
       "</style>\n",
       "<table border=\"1\" class=\"dataframe\">\n",
       "  <thead>\n",
       "    <tr style=\"text-align: right;\">\n",
       "      <th></th>\n",
       "      <th>product_id</th>\n",
       "      <th>order_id</th>\n",
       "      <th>product_name</th>\n",
       "    </tr>\n",
       "  </thead>\n",
       "  <tbody>\n",
       "    <tr>\n",
       "      <th>0</th>\n",
       "      <td>24852</td>\n",
       "      <td>15562</td>\n",
       "      <td>BANANA</td>\n",
       "    </tr>\n",
       "    <tr>\n",
       "      <th>1</th>\n",
       "      <td>13176</td>\n",
       "      <td>11026</td>\n",
       "      <td>BAG OF ORGANIC BANANAS</td>\n",
       "    </tr>\n",
       "    <tr>\n",
       "      <th>2</th>\n",
       "      <td>27845</td>\n",
       "      <td>4363</td>\n",
       "      <td>ORGANIC WHOLE MILK</td>\n",
       "    </tr>\n",
       "    <tr>\n",
       "      <th>3</th>\n",
       "      <td>21137</td>\n",
       "      <td>3946</td>\n",
       "      <td>ORGANIC STRAWBERRIES</td>\n",
       "    </tr>\n",
       "    <tr>\n",
       "      <th>4</th>\n",
       "      <td>47209</td>\n",
       "      <td>3390</td>\n",
       "      <td>ORGANIC HASS AVOCADO</td>\n",
       "    </tr>\n",
       "    <tr>\n",
       "      <th>...</th>\n",
       "      <td>...</td>\n",
       "      <td>...</td>\n",
       "      <td>...</td>\n",
       "    </tr>\n",
       "    <tr>\n",
       "      <th>26755</th>\n",
       "      <td>10981</td>\n",
       "      <td>1</td>\n",
       "      <td>CLOUD WHITE DECORATING CUPCAKE ICING</td>\n",
       "    </tr>\n",
       "    <tr>\n",
       "      <th>26756</th>\n",
       "      <td>10985</td>\n",
       "      <td>1</td>\n",
       "      <td>PREMIUM TWIN PACK ROCK CORNISH GAME HEN</td>\n",
       "    </tr>\n",
       "    <tr>\n",
       "      <th>26757</th>\n",
       "      <td>38272</td>\n",
       "      <td>1</td>\n",
       "      <td>ORGANIC RAW COCONUT FLOUR</td>\n",
       "    </tr>\n",
       "    <tr>\n",
       "      <th>26758</th>\n",
       "      <td>10989</td>\n",
       "      <td>1</td>\n",
       "      <td>GARBAGE DISPOSAL FRESHENER &amp; CLEANER RED PEAR ...</td>\n",
       "    </tr>\n",
       "    <tr>\n",
       "      <th>26759</th>\n",
       "      <td>36996</td>\n",
       "      <td>1</td>\n",
       "      <td>COOL SPORT SPRAY-ON SUNSCREEN SPF 50</td>\n",
       "    </tr>\n",
       "  </tbody>\n",
       "</table>\n",
       "<p>26760 rows × 3 columns</p>\n",
       "</div>"
      ],
      "text/plain": [
       "       product_id  order_id                                       product_name\n",
       "0           24852     15562                                             BANANA\n",
       "1           13176     11026                             BAG OF ORGANIC BANANAS\n",
       "2           27845      4363                                 ORGANIC WHOLE MILK\n",
       "3           21137      3946                               ORGANIC STRAWBERRIES\n",
       "4           47209      3390                               ORGANIC HASS AVOCADO\n",
       "...           ...       ...                                                ...\n",
       "26755       10981         1               CLOUD WHITE DECORATING CUPCAKE ICING\n",
       "26756       10985         1            PREMIUM TWIN PACK ROCK CORNISH GAME HEN\n",
       "26757       38272         1                          ORGANIC RAW COCONUT FLOUR\n",
       "26758       10989         1  GARBAGE DISPOSAL FRESHENER & CLEANER RED PEAR ...\n",
       "26759       36996         1               COOL SPORT SPRAY-ON SUNSCREEN SPF 50\n",
       "\n",
       "[26760 rows x 3 columns]"
      ]
     },
     "execution_count": 80,
     "metadata": {},
     "output_type": "execute_result"
    }
   ],
   "source": [
    "principales_articulos"
   ]
  },
  {
   "cell_type": "markdown",
   "id": "28ce9872",
   "metadata": {
    "id": "28ce9872"
   },
   "source": [
    "Esta lista de verificación le permite identificar qué productos son más atractivos para sus clientes al principio de su experiencia de compra, lo cual es valioso para ajustar su estrategia de marketing y aumentar la visibilidad de estos productos.\n",
    "Promocionar sus productos más populares puede aumentar las ventas y mejorar la satisfacción del cliente al facilitar la adquisición de artículos que ya tienen una gran demanda."
   ]
  },
  {
   "cell_type": "markdown",
   "id": "uITbFCEoDosC",
   "metadata": {
    "id": "uITbFCEoDosC"
   },
   "source": [
    "### Conclusion general del proyecto:"
   ]
  },
  {
   "cell_type": "markdown",
   "id": "931d7ab4",
   "metadata": {
    "id": "Nk-4GS7mDwqY"
   },
   "source": [
    "Aprendí la importancia de la limpieza de datos como primer paso fundamental en cualquier proyecto de análisis. Este proceso implica no sólo eliminar los valores faltantes y corregir errores, sino también comprender la estructura del material y cómo afecta a análisis posteriores.\n",
    "Cada pregunta que respondo me obliga a pensar en el significado de los datos y cómo se relacionan con el comportamiento del consumidor. Este ejercicio de pensamiento crítico me ayudó a desarrollar el pensamiento analítico que es fundamental en la ciencia de datos."
   ]
  },
  {
   "cell_type": "markdown",
   "id": "f789df1f",
   "metadata": {},
   "source": [
    "<div class=\"alert alert-block alert-success\"> <b>Éxito</b> <a class=\"tocSkip\"></a> Tu conclusión es clara y resalta los puntos clave de tu análisis. Has logrado identificar patrones en los datos, como los tiempos en los que los clientes hacen más pedidos, lo que muestra una buena comprensión del comportamiento del consumidor a partir de los datos procesados.</div>"
   ]
  },
  {
   "cell_type": "markdown",
   "id": "3640df57",
   "metadata": {},
   "source": [
    "<div class=\"alert alert-block alert-success\"> <b>Éxito</b> <a class=\"tocSkip\"></a> ¡Felicitaciones, Jorge! Has realizado un excelente trabajo en el preprocesamiento y análisis de los datos de Instacart. Tu capacidad para limpiar los datos, manejarlos adecuadamente y generar análisis gráficos demuestra un buen nivel de dominio en ciencia de datos. ¡Sigue así!</div>"
   ]
  }
 ],
 "metadata": {
  "ExecuteTimeLog": [
   {
    "duration": 157,
    "start_time": "2024-10-10T04:09:53.282Z"
   },
   {
    "duration": 11,
    "start_time": "2024-10-10T04:14:36.313Z"
   },
   {
    "duration": 12,
    "start_time": "2024-10-10T04:16:14.944Z"
   },
   {
    "duration": 15,
    "start_time": "2024-10-10T04:16:37.808Z"
   },
   {
    "duration": 297,
    "start_time": "2024-10-10T04:16:46.292Z"
   },
   {
    "duration": 2,
    "start_time": "2024-10-10T04:17:15.014Z"
   },
   {
    "duration": 309,
    "start_time": "2024-10-10T04:17:38.999Z"
   },
   {
    "duration": 2576,
    "start_time": "2024-10-10T04:17:39.311Z"
   },
   {
    "duration": 21,
    "start_time": "2024-10-10T04:17:41.889Z"
   },
   {
    "duration": 10,
    "start_time": "2024-10-10T04:17:41.912Z"
   },
   {
    "duration": 8,
    "start_time": "2024-10-10T04:17:41.923Z"
   },
   {
    "duration": 8,
    "start_time": "2024-10-10T04:17:41.933Z"
   },
   {
    "duration": 148,
    "start_time": "2024-10-10T04:17:41.943Z"
   },
   {
    "duration": 3,
    "start_time": "2024-10-10T04:17:42.093Z"
   },
   {
    "duration": 9,
    "start_time": "2024-10-10T04:17:42.097Z"
   },
   {
    "duration": 2,
    "start_time": "2024-10-10T04:17:42.110Z"
   },
   {
    "duration": 3,
    "start_time": "2024-10-10T04:17:42.113Z"
   },
   {
    "duration": 3,
    "start_time": "2024-10-10T04:17:42.118Z"
   },
   {
    "duration": 3,
    "start_time": "2024-10-10T04:17:42.122Z"
   },
   {
    "duration": 2,
    "start_time": "2024-10-10T04:17:42.127Z"
   },
   {
    "duration": 3,
    "start_time": "2024-10-10T04:17:42.131Z"
   },
   {
    "duration": 2,
    "start_time": "2024-10-10T04:17:42.136Z"
   },
   {
    "duration": 3,
    "start_time": "2024-10-10T04:17:42.140Z"
   },
   {
    "duration": 3,
    "start_time": "2024-10-10T04:17:42.144Z"
   },
   {
    "duration": 3,
    "start_time": "2024-10-10T04:17:42.149Z"
   },
   {
    "duration": 3,
    "start_time": "2024-10-10T04:17:42.153Z"
   },
   {
    "duration": 2,
    "start_time": "2024-10-10T04:17:42.206Z"
   },
   {
    "duration": 3,
    "start_time": "2024-10-10T04:17:42.210Z"
   },
   {
    "duration": 4,
    "start_time": "2024-10-10T04:17:42.215Z"
   },
   {
    "duration": 3,
    "start_time": "2024-10-10T04:17:42.221Z"
   },
   {
    "duration": 3,
    "start_time": "2024-10-10T04:17:42.226Z"
   },
   {
    "duration": 2,
    "start_time": "2024-10-10T04:17:42.232Z"
   },
   {
    "duration": 3,
    "start_time": "2024-10-10T04:17:42.237Z"
   },
   {
    "duration": 1,
    "start_time": "2024-10-10T04:17:42.244Z"
   },
   {
    "duration": 4,
    "start_time": "2024-10-10T04:17:42.247Z"
   },
   {
    "duration": 3,
    "start_time": "2024-10-10T04:17:42.252Z"
   },
   {
    "duration": 3,
    "start_time": "2024-10-10T04:17:42.257Z"
   },
   {
    "duration": 44,
    "start_time": "2024-10-10T04:17:42.262Z"
   },
   {
    "duration": 3,
    "start_time": "2024-10-10T04:17:42.308Z"
   },
   {
    "duration": 3,
    "start_time": "2024-10-10T04:17:42.313Z"
   },
   {
    "duration": 341,
    "start_time": "2024-10-10T04:35:16.920Z"
   },
   {
    "duration": 882,
    "start_time": "2024-10-10T04:35:17.264Z"
   },
   {
    "duration": 12,
    "start_time": "2024-10-10T04:35:18.148Z"
   },
   {
    "duration": 9,
    "start_time": "2024-10-10T04:35:18.163Z"
   },
   {
    "duration": 7,
    "start_time": "2024-10-10T04:35:18.174Z"
   },
   {
    "duration": 30,
    "start_time": "2024-10-10T04:35:18.183Z"
   },
   {
    "duration": 25,
    "start_time": "2024-10-10T04:35:18.214Z"
   },
   {
    "duration": 2,
    "start_time": "2024-10-10T04:35:18.241Z"
   },
   {
    "duration": 4,
    "start_time": "2024-10-10T04:35:18.245Z"
   },
   {
    "duration": 3,
    "start_time": "2024-10-10T04:35:18.252Z"
   },
   {
    "duration": 3,
    "start_time": "2024-10-10T04:35:18.257Z"
   },
   {
    "duration": 4,
    "start_time": "2024-10-10T04:35:18.261Z"
   },
   {
    "duration": 3,
    "start_time": "2024-10-10T04:35:18.266Z"
   },
   {
    "duration": 36,
    "start_time": "2024-10-10T04:35:18.270Z"
   },
   {
    "duration": 2,
    "start_time": "2024-10-10T04:35:18.308Z"
   },
   {
    "duration": 4,
    "start_time": "2024-10-10T04:35:18.311Z"
   },
   {
    "duration": 3,
    "start_time": "2024-10-10T04:35:18.317Z"
   },
   {
    "duration": 6,
    "start_time": "2024-10-10T04:35:18.321Z"
   },
   {
    "duration": 3,
    "start_time": "2024-10-10T04:35:18.328Z"
   },
   {
    "duration": 3,
    "start_time": "2024-10-10T04:35:18.333Z"
   },
   {
    "duration": 3,
    "start_time": "2024-10-10T04:35:18.338Z"
   },
   {
    "duration": 4,
    "start_time": "2024-10-10T04:35:18.342Z"
   },
   {
    "duration": 3,
    "start_time": "2024-10-10T04:35:18.347Z"
   },
   {
    "duration": 4,
    "start_time": "2024-10-10T04:35:18.352Z"
   },
   {
    "duration": 3,
    "start_time": "2024-10-10T04:35:18.357Z"
   },
   {
    "duration": 43,
    "start_time": "2024-10-10T04:35:18.362Z"
   },
   {
    "duration": 2,
    "start_time": "2024-10-10T04:35:18.408Z"
   },
   {
    "duration": 2,
    "start_time": "2024-10-10T04:35:18.414Z"
   },
   {
    "duration": 2,
    "start_time": "2024-10-10T04:35:18.418Z"
   },
   {
    "duration": 3,
    "start_time": "2024-10-10T04:35:18.422Z"
   },
   {
    "duration": 3,
    "start_time": "2024-10-10T04:35:18.427Z"
   },
   {
    "duration": 4,
    "start_time": "2024-10-10T04:35:18.432Z"
   },
   {
    "duration": 2,
    "start_time": "2024-10-10T04:35:18.438Z"
   },
   {
    "duration": 4,
    "start_time": "2024-10-10T04:35:18.442Z"
   },
   {
    "duration": 165,
    "start_time": "2024-10-10T17:01:39.120Z"
   },
   {
    "duration": 12,
    "start_time": "2024-10-10T17:02:25.765Z"
   },
   {
    "duration": 317,
    "start_time": "2024-10-10T17:02:32.289Z"
   },
   {
    "duration": 1075,
    "start_time": "2024-10-10T17:02:32.608Z"
   },
   {
    "duration": 11,
    "start_time": "2024-10-10T17:02:33.685Z"
   },
   {
    "duration": 10,
    "start_time": "2024-10-10T17:02:33.697Z"
   },
   {
    "duration": 8,
    "start_time": "2024-10-10T17:02:33.711Z"
   },
   {
    "duration": 29,
    "start_time": "2024-10-10T17:02:33.720Z"
   },
   {
    "duration": 24,
    "start_time": "2024-10-10T17:02:33.751Z"
   },
   {
    "duration": 7,
    "start_time": "2024-10-10T17:02:33.777Z"
   },
   {
    "duration": 3,
    "start_time": "2024-10-10T17:02:33.785Z"
   },
   {
    "duration": 3,
    "start_time": "2024-10-10T17:02:33.789Z"
   },
   {
    "duration": 3,
    "start_time": "2024-10-10T17:02:33.793Z"
   },
   {
    "duration": 3,
    "start_time": "2024-10-10T17:02:33.797Z"
   },
   {
    "duration": 3,
    "start_time": "2024-10-10T17:02:33.801Z"
   },
   {
    "duration": 3,
    "start_time": "2024-10-10T17:02:33.846Z"
   },
   {
    "duration": 3,
    "start_time": "2024-10-10T17:02:33.851Z"
   },
   {
    "duration": 3,
    "start_time": "2024-10-10T17:02:33.855Z"
   },
   {
    "duration": 2,
    "start_time": "2024-10-10T17:02:33.860Z"
   },
   {
    "duration": 2,
    "start_time": "2024-10-10T17:02:33.864Z"
   },
   {
    "duration": 5,
    "start_time": "2024-10-10T17:02:33.869Z"
   },
   {
    "duration": 2,
    "start_time": "2024-10-10T17:02:33.876Z"
   },
   {
    "duration": 3,
    "start_time": "2024-10-10T17:02:33.879Z"
   },
   {
    "duration": 2,
    "start_time": "2024-10-10T17:02:33.884Z"
   },
   {
    "duration": 2,
    "start_time": "2024-10-10T17:02:33.888Z"
   },
   {
    "duration": 2,
    "start_time": "2024-10-10T17:02:33.892Z"
   },
   {
    "duration": 49,
    "start_time": "2024-10-10T17:02:33.895Z"
   },
   {
    "duration": 2,
    "start_time": "2024-10-10T17:02:33.946Z"
   },
   {
    "duration": 3,
    "start_time": "2024-10-10T17:02:33.950Z"
   },
   {
    "duration": 3,
    "start_time": "2024-10-10T17:02:33.954Z"
   },
   {
    "duration": 2,
    "start_time": "2024-10-10T17:02:33.959Z"
   },
   {
    "duration": 3,
    "start_time": "2024-10-10T17:02:33.962Z"
   },
   {
    "duration": 3,
    "start_time": "2024-10-10T17:02:33.966Z"
   },
   {
    "duration": 2,
    "start_time": "2024-10-10T17:02:33.970Z"
   },
   {
    "duration": 3,
    "start_time": "2024-10-10T17:02:33.974Z"
   },
   {
    "duration": 2,
    "start_time": "2024-10-10T17:02:33.979Z"
   },
   {
    "duration": 87,
    "start_time": "2024-10-10T17:04:22.043Z"
   },
   {
    "duration": 83,
    "start_time": "2024-10-10T17:04:25.779Z"
   },
   {
    "duration": 85,
    "start_time": "2024-10-10T17:04:38.337Z"
   },
   {
    "duration": 252,
    "start_time": "2024-10-10T17:06:06.569Z"
   },
   {
    "duration": 103,
    "start_time": "2024-10-10T17:07:48.022Z"
   },
   {
    "duration": 86,
    "start_time": "2024-10-10T17:08:16.123Z"
   },
   {
    "duration": 82,
    "start_time": "2024-10-10T17:09:57.322Z"
   },
   {
    "duration": 80,
    "start_time": "2024-10-10T17:10:22.657Z"
   },
   {
    "duration": 82,
    "start_time": "2024-10-10T17:10:43.074Z"
   },
   {
    "duration": 90,
    "start_time": "2024-10-10T17:13:36.749Z"
   },
   {
    "duration": 334,
    "start_time": "2024-10-10T17:18:59.042Z"
   },
   {
    "duration": 92,
    "start_time": "2024-10-10T17:19:08.090Z"
   },
   {
    "duration": 90,
    "start_time": "2024-10-10T17:20:10.683Z"
   },
   {
    "duration": 99,
    "start_time": "2024-10-10T17:20:33.655Z"
   },
   {
    "duration": 275,
    "start_time": "2024-10-10T17:24:25.217Z"
   },
   {
    "duration": 92,
    "start_time": "2024-10-10T17:27:16.700Z"
   },
   {
    "duration": 323,
    "start_time": "2024-10-10T22:52:24.852Z"
   },
   {
    "duration": 1044,
    "start_time": "2024-10-10T22:52:25.177Z"
   },
   {
    "duration": 12,
    "start_time": "2024-10-10T22:52:26.222Z"
   },
   {
    "duration": 9,
    "start_time": "2024-10-10T22:52:26.236Z"
   },
   {
    "duration": 8,
    "start_time": "2024-10-10T22:52:26.248Z"
   },
   {
    "duration": 7,
    "start_time": "2024-10-10T22:52:26.257Z"
   },
   {
    "duration": 23,
    "start_time": "2024-10-10T22:52:26.266Z"
   },
   {
    "duration": 114,
    "start_time": "2024-10-10T22:52:26.290Z"
   },
   {
    "duration": 2,
    "start_time": "2024-10-10T22:52:26.406Z"
   },
   {
    "duration": 14,
    "start_time": "2024-10-10T22:52:26.410Z"
   },
   {
    "duration": 2,
    "start_time": "2024-10-10T22:52:26.427Z"
   },
   {
    "duration": 2,
    "start_time": "2024-10-10T22:52:26.430Z"
   },
   {
    "duration": 2,
    "start_time": "2024-10-10T22:52:26.434Z"
   },
   {
    "duration": 2,
    "start_time": "2024-10-10T22:52:26.440Z"
   },
   {
    "duration": 2,
    "start_time": "2024-10-10T22:52:26.444Z"
   },
   {
    "duration": 2,
    "start_time": "2024-10-10T22:52:26.448Z"
   },
   {
    "duration": 2,
    "start_time": "2024-10-10T22:52:26.452Z"
   },
   {
    "duration": 2,
    "start_time": "2024-10-10T22:52:26.456Z"
   },
   {
    "duration": 3,
    "start_time": "2024-10-10T22:52:26.459Z"
   },
   {
    "duration": 2,
    "start_time": "2024-10-10T22:52:26.463Z"
   },
   {
    "duration": 2,
    "start_time": "2024-10-10T22:52:26.467Z"
   },
   {
    "duration": 55,
    "start_time": "2024-10-10T22:52:26.471Z"
   },
   {
    "duration": 2,
    "start_time": "2024-10-10T22:52:26.528Z"
   },
   {
    "duration": 2,
    "start_time": "2024-10-10T22:52:26.532Z"
   },
   {
    "duration": 2,
    "start_time": "2024-10-10T22:52:26.536Z"
   },
   {
    "duration": 3,
    "start_time": "2024-10-10T22:52:26.540Z"
   },
   {
    "duration": 2,
    "start_time": "2024-10-10T22:52:26.544Z"
   },
   {
    "duration": 2,
    "start_time": "2024-10-10T22:52:26.548Z"
   },
   {
    "duration": 2,
    "start_time": "2024-10-10T22:52:26.552Z"
   },
   {
    "duration": 2,
    "start_time": "2024-10-10T22:52:26.557Z"
   },
   {
    "duration": 2,
    "start_time": "2024-10-10T22:52:26.561Z"
   },
   {
    "duration": 2,
    "start_time": "2024-10-10T22:52:26.565Z"
   },
   {
    "duration": 2,
    "start_time": "2024-10-10T22:52:26.625Z"
   },
   {
    "duration": 2,
    "start_time": "2024-10-10T22:52:26.629Z"
   },
   {
    "duration": 2,
    "start_time": "2024-10-10T22:55:25.272Z"
   },
   {
    "duration": 86,
    "start_time": "2024-10-10T22:57:12.714Z"
   },
   {
    "duration": 262,
    "start_time": "2024-10-10T23:15:41.697Z"
   },
   {
    "duration": 863,
    "start_time": "2024-10-10T23:15:41.960Z"
   },
   {
    "duration": 11,
    "start_time": "2024-10-10T23:15:42.825Z"
   },
   {
    "duration": 11,
    "start_time": "2024-10-10T23:15:42.838Z"
   },
   {
    "duration": 7,
    "start_time": "2024-10-10T23:15:42.851Z"
   },
   {
    "duration": 8,
    "start_time": "2024-10-10T23:15:42.860Z"
   },
   {
    "duration": 23,
    "start_time": "2024-10-10T23:15:42.869Z"
   },
   {
    "duration": 179,
    "start_time": "2024-10-10T23:15:42.924Z"
   },
   {
    "duration": 0,
    "start_time": "2024-10-10T23:15:43.105Z"
   },
   {
    "duration": 0,
    "start_time": "2024-10-10T23:15:43.106Z"
   },
   {
    "duration": 0,
    "start_time": "2024-10-10T23:15:43.107Z"
   },
   {
    "duration": 0,
    "start_time": "2024-10-10T23:15:43.108Z"
   },
   {
    "duration": 0,
    "start_time": "2024-10-10T23:15:43.109Z"
   },
   {
    "duration": 0,
    "start_time": "2024-10-10T23:15:43.124Z"
   },
   {
    "duration": 0,
    "start_time": "2024-10-10T23:15:43.125Z"
   },
   {
    "duration": 0,
    "start_time": "2024-10-10T23:15:43.126Z"
   },
   {
    "duration": 0,
    "start_time": "2024-10-10T23:15:43.127Z"
   },
   {
    "duration": 0,
    "start_time": "2024-10-10T23:15:43.129Z"
   },
   {
    "duration": 0,
    "start_time": "2024-10-10T23:15:43.130Z"
   },
   {
    "duration": 0,
    "start_time": "2024-10-10T23:15:43.131Z"
   },
   {
    "duration": 0,
    "start_time": "2024-10-10T23:15:43.131Z"
   },
   {
    "duration": 0,
    "start_time": "2024-10-10T23:15:43.132Z"
   },
   {
    "duration": 0,
    "start_time": "2024-10-10T23:15:43.133Z"
   },
   {
    "duration": 0,
    "start_time": "2024-10-10T23:15:43.134Z"
   },
   {
    "duration": 0,
    "start_time": "2024-10-10T23:15:43.134Z"
   },
   {
    "duration": 0,
    "start_time": "2024-10-10T23:15:43.136Z"
   },
   {
    "duration": 0,
    "start_time": "2024-10-10T23:15:43.139Z"
   },
   {
    "duration": 0,
    "start_time": "2024-10-10T23:15:43.141Z"
   },
   {
    "duration": 0,
    "start_time": "2024-10-10T23:15:43.142Z"
   },
   {
    "duration": 0,
    "start_time": "2024-10-10T23:15:43.143Z"
   },
   {
    "duration": 0,
    "start_time": "2024-10-10T23:15:43.145Z"
   },
   {
    "duration": 0,
    "start_time": "2024-10-10T23:15:43.146Z"
   },
   {
    "duration": 0,
    "start_time": "2024-10-10T23:15:43.149Z"
   },
   {
    "duration": 0,
    "start_time": "2024-10-10T23:15:43.150Z"
   },
   {
    "duration": 0,
    "start_time": "2024-10-10T23:15:43.152Z"
   },
   {
    "duration": 88,
    "start_time": "2024-10-10T23:17:25.791Z"
   },
   {
    "duration": 79,
    "start_time": "2024-10-10T23:18:15.494Z"
   },
   {
    "duration": 20,
    "start_time": "2024-10-10T23:22:20.235Z"
   },
   {
    "duration": 11,
    "start_time": "2024-10-10T23:23:35.892Z"
   },
   {
    "duration": 3,
    "start_time": "2024-10-10T23:25:12.629Z"
   },
   {
    "duration": 3,
    "start_time": "2024-10-10T23:25:25.043Z"
   },
   {
    "duration": 161,
    "start_time": "2024-10-11T04:10:51.564Z"
   },
   {
    "duration": 367,
    "start_time": "2024-10-11T04:11:11.146Z"
   },
   {
    "duration": 1086,
    "start_time": "2024-10-11T04:11:11.515Z"
   },
   {
    "duration": 13,
    "start_time": "2024-10-11T04:11:12.603Z"
   },
   {
    "duration": 20,
    "start_time": "2024-10-11T04:11:12.619Z"
   },
   {
    "duration": 9,
    "start_time": "2024-10-11T04:11:12.641Z"
   },
   {
    "duration": 8,
    "start_time": "2024-10-11T04:11:12.652Z"
   },
   {
    "duration": 25,
    "start_time": "2024-10-11T04:11:12.662Z"
   },
   {
    "duration": 139,
    "start_time": "2024-10-11T04:11:12.689Z"
   },
   {
    "duration": 91,
    "start_time": "2024-10-11T04:11:12.831Z"
   },
   {
    "duration": 12,
    "start_time": "2024-10-11T04:11:12.932Z"
   },
   {
    "duration": 5,
    "start_time": "2024-10-11T04:11:12.945Z"
   },
   {
    "duration": 114,
    "start_time": "2024-10-11T04:11:12.952Z"
   },
   {
    "duration": 2,
    "start_time": "2024-10-11T04:11:13.068Z"
   },
   {
    "duration": 2,
    "start_time": "2024-10-11T04:11:13.072Z"
   },
   {
    "duration": 4,
    "start_time": "2024-10-11T04:11:13.077Z"
   },
   {
    "duration": 3,
    "start_time": "2024-10-11T04:11:13.082Z"
   },
   {
    "duration": 3,
    "start_time": "2024-10-11T04:11:13.086Z"
   },
   {
    "duration": 3,
    "start_time": "2024-10-11T04:11:13.091Z"
   },
   {
    "duration": 2,
    "start_time": "2024-10-11T04:11:13.096Z"
   },
   {
    "duration": 2,
    "start_time": "2024-10-11T04:11:13.132Z"
   },
   {
    "duration": 3,
    "start_time": "2024-10-11T04:11:13.136Z"
   },
   {
    "duration": 3,
    "start_time": "2024-10-11T04:11:13.141Z"
   },
   {
    "duration": 2,
    "start_time": "2024-10-11T04:11:13.145Z"
   },
   {
    "duration": 3,
    "start_time": "2024-10-11T04:11:13.149Z"
   },
   {
    "duration": 2,
    "start_time": "2024-10-11T04:11:13.154Z"
   },
   {
    "duration": 2,
    "start_time": "2024-10-11T04:11:13.158Z"
   },
   {
    "duration": 2,
    "start_time": "2024-10-11T04:11:13.162Z"
   },
   {
    "duration": 2,
    "start_time": "2024-10-11T04:11:13.168Z"
   },
   {
    "duration": 3,
    "start_time": "2024-10-11T04:11:13.172Z"
   },
   {
    "duration": 6,
    "start_time": "2024-10-11T04:11:13.179Z"
   },
   {
    "duration": 46,
    "start_time": "2024-10-11T04:11:13.187Z"
   },
   {
    "duration": 3,
    "start_time": "2024-10-11T04:11:13.235Z"
   },
   {
    "duration": 2,
    "start_time": "2024-10-11T04:11:13.240Z"
   },
   {
    "duration": 3,
    "start_time": "2024-10-11T04:11:13.244Z"
   },
   {
    "duration": 3,
    "start_time": "2024-10-11T04:11:13.249Z"
   },
   {
    "duration": 3,
    "start_time": "2024-10-11T04:11:13.253Z"
   },
   {
    "duration": 93,
    "start_time": "2024-10-11T04:12:17.714Z"
   },
   {
    "duration": 15,
    "start_time": "2024-10-11T04:14:13.328Z"
   },
   {
    "duration": 11,
    "start_time": "2024-10-11T04:20:29.727Z"
   },
   {
    "duration": 13,
    "start_time": "2024-10-11T04:21:09.176Z"
   },
   {
    "duration": 45,
    "start_time": "2024-10-11T04:24:56.806Z"
   },
   {
    "duration": 196,
    "start_time": "2024-10-11T17:00:00.436Z"
   },
   {
    "duration": 296,
    "start_time": "2024-10-11T17:00:08.291Z"
   },
   {
    "duration": 1189,
    "start_time": "2024-10-11T17:00:08.590Z"
   },
   {
    "duration": 12,
    "start_time": "2024-10-11T17:00:09.780Z"
   },
   {
    "duration": 18,
    "start_time": "2024-10-11T17:00:09.794Z"
   },
   {
    "duration": 10,
    "start_time": "2024-10-11T17:00:09.815Z"
   },
   {
    "duration": 9,
    "start_time": "2024-10-11T17:00:09.828Z"
   },
   {
    "duration": 34,
    "start_time": "2024-10-11T17:00:09.839Z"
   },
   {
    "duration": 124,
    "start_time": "2024-10-11T17:00:09.875Z"
   },
   {
    "duration": 96,
    "start_time": "2024-10-11T17:00:10.000Z"
   },
   {
    "duration": 17,
    "start_time": "2024-10-11T17:00:10.098Z"
   },
   {
    "duration": 4,
    "start_time": "2024-10-11T17:00:10.117Z"
   },
   {
    "duration": 115,
    "start_time": "2024-10-11T17:00:10.123Z"
   },
   {
    "duration": 91,
    "start_time": "2024-10-11T17:00:10.240Z"
   },
   {
    "duration": 54,
    "start_time": "2024-10-11T17:00:10.335Z"
   },
   {
    "duration": 3,
    "start_time": "2024-10-11T17:00:10.390Z"
   },
   {
    "duration": 5,
    "start_time": "2024-10-11T17:00:10.405Z"
   },
   {
    "duration": 4,
    "start_time": "2024-10-11T17:00:10.412Z"
   },
   {
    "duration": 2,
    "start_time": "2024-10-11T17:00:10.418Z"
   },
   {
    "duration": 3,
    "start_time": "2024-10-11T17:00:10.423Z"
   },
   {
    "duration": 4,
    "start_time": "2024-10-11T17:00:10.427Z"
   },
   {
    "duration": 2,
    "start_time": "2024-10-11T17:00:10.433Z"
   },
   {
    "duration": 3,
    "start_time": "2024-10-11T17:00:10.437Z"
   },
   {
    "duration": 2,
    "start_time": "2024-10-11T17:00:10.442Z"
   },
   {
    "duration": 2,
    "start_time": "2024-10-11T17:00:10.446Z"
   },
   {
    "duration": 2,
    "start_time": "2024-10-11T17:00:10.450Z"
   },
   {
    "duration": 3,
    "start_time": "2024-10-11T17:00:10.453Z"
   },
   {
    "duration": 3,
    "start_time": "2024-10-11T17:00:10.457Z"
   },
   {
    "duration": 2,
    "start_time": "2024-10-11T17:00:10.462Z"
   },
   {
    "duration": 2,
    "start_time": "2024-10-11T17:00:10.506Z"
   },
   {
    "duration": 2,
    "start_time": "2024-10-11T17:00:10.510Z"
   },
   {
    "duration": 4,
    "start_time": "2024-10-11T17:00:10.514Z"
   },
   {
    "duration": 3,
    "start_time": "2024-10-11T17:00:10.519Z"
   },
   {
    "duration": 2,
    "start_time": "2024-10-11T17:00:10.524Z"
   },
   {
    "duration": 2,
    "start_time": "2024-10-11T17:00:10.528Z"
   },
   {
    "duration": 2,
    "start_time": "2024-10-11T17:00:10.532Z"
   },
   {
    "duration": 3,
    "start_time": "2024-10-11T17:00:10.536Z"
   },
   {
    "duration": 286,
    "start_time": "2024-10-11T17:45:47.599Z"
   },
   {
    "duration": 1051,
    "start_time": "2024-10-11T17:45:47.887Z"
   },
   {
    "duration": 11,
    "start_time": "2024-10-11T17:45:48.940Z"
   },
   {
    "duration": 10,
    "start_time": "2024-10-11T17:45:48.953Z"
   },
   {
    "duration": 8,
    "start_time": "2024-10-11T17:45:48.964Z"
   },
   {
    "duration": 8,
    "start_time": "2024-10-11T17:45:48.973Z"
   },
   {
    "duration": 55,
    "start_time": "2024-10-11T17:45:48.982Z"
   },
   {
    "duration": 99,
    "start_time": "2024-10-11T17:45:49.039Z"
   },
   {
    "duration": 96,
    "start_time": "2024-10-11T17:45:49.140Z"
   },
   {
    "duration": 11,
    "start_time": "2024-10-11T17:45:49.239Z"
   },
   {
    "duration": 4,
    "start_time": "2024-10-11T17:45:49.251Z"
   },
   {
    "duration": 117,
    "start_time": "2024-10-11T17:45:49.257Z"
   },
   {
    "duration": 84,
    "start_time": "2024-10-11T17:45:49.375Z"
   },
   {
    "duration": 41,
    "start_time": "2024-10-11T17:45:49.461Z"
   },
   {
    "duration": 2,
    "start_time": "2024-10-11T17:45:49.504Z"
   },
   {
    "duration": 17,
    "start_time": "2024-10-11T17:45:49.508Z"
   },
   {
    "duration": 2,
    "start_time": "2024-10-11T17:45:49.527Z"
   },
   {
    "duration": 2,
    "start_time": "2024-10-11T17:45:49.530Z"
   },
   {
    "duration": 2,
    "start_time": "2024-10-11T17:45:49.534Z"
   },
   {
    "duration": 2,
    "start_time": "2024-10-11T17:45:49.538Z"
   },
   {
    "duration": 2,
    "start_time": "2024-10-11T17:45:49.542Z"
   },
   {
    "duration": 2,
    "start_time": "2024-10-11T17:45:49.546Z"
   },
   {
    "duration": 2,
    "start_time": "2024-10-11T17:45:49.550Z"
   },
   {
    "duration": 2,
    "start_time": "2024-10-11T17:45:49.554Z"
   },
   {
    "duration": 2,
    "start_time": "2024-10-11T17:45:49.558Z"
   },
   {
    "duration": 2,
    "start_time": "2024-10-11T17:45:49.562Z"
   },
   {
    "duration": 3,
    "start_time": "2024-10-11T17:45:49.566Z"
   },
   {
    "duration": 2,
    "start_time": "2024-10-11T17:45:49.625Z"
   },
   {
    "duration": 2,
    "start_time": "2024-10-11T17:45:49.628Z"
   },
   {
    "duration": 2,
    "start_time": "2024-10-11T17:45:49.632Z"
   },
   {
    "duration": 3,
    "start_time": "2024-10-11T17:45:49.636Z"
   },
   {
    "duration": 3,
    "start_time": "2024-10-11T17:45:49.640Z"
   },
   {
    "duration": 3,
    "start_time": "2024-10-11T17:45:49.644Z"
   },
   {
    "duration": 2,
    "start_time": "2024-10-11T17:45:49.649Z"
   },
   {
    "duration": 3,
    "start_time": "2024-10-11T17:45:49.653Z"
   },
   {
    "duration": 2,
    "start_time": "2024-10-11T17:45:49.658Z"
   },
   {
    "duration": 12,
    "start_time": "2024-10-11T17:58:33.993Z"
   },
   {
    "duration": 275,
    "start_time": "2024-10-11T19:08:56.373Z"
   },
   {
    "duration": 1053,
    "start_time": "2024-10-11T19:08:56.650Z"
   },
   {
    "duration": 13,
    "start_time": "2024-10-11T19:08:57.705Z"
   },
   {
    "duration": 10,
    "start_time": "2024-10-11T19:08:57.719Z"
   },
   {
    "duration": 8,
    "start_time": "2024-10-11T19:08:57.731Z"
   },
   {
    "duration": 7,
    "start_time": "2024-10-11T19:08:57.740Z"
   },
   {
    "duration": 51,
    "start_time": "2024-10-11T19:08:57.749Z"
   },
   {
    "duration": 103,
    "start_time": "2024-10-11T19:08:57.802Z"
   },
   {
    "duration": 91,
    "start_time": "2024-10-11T19:08:57.906Z"
   },
   {
    "duration": 10,
    "start_time": "2024-10-11T19:08:57.999Z"
   },
   {
    "duration": 3,
    "start_time": "2024-10-11T19:08:58.011Z"
   },
   {
    "duration": 279,
    "start_time": "2024-10-11T19:08:58.016Z"
   },
   {
    "duration": 1,
    "start_time": "2024-10-11T19:08:58.297Z"
   },
   {
    "duration": 0,
    "start_time": "2024-10-11T19:08:58.299Z"
   },
   {
    "duration": 0,
    "start_time": "2024-10-11T19:08:58.300Z"
   },
   {
    "duration": 0,
    "start_time": "2024-10-11T19:08:58.301Z"
   },
   {
    "duration": 0,
    "start_time": "2024-10-11T19:08:58.302Z"
   },
   {
    "duration": 0,
    "start_time": "2024-10-11T19:08:58.303Z"
   },
   {
    "duration": 0,
    "start_time": "2024-10-11T19:08:58.304Z"
   },
   {
    "duration": 0,
    "start_time": "2024-10-11T19:08:58.305Z"
   },
   {
    "duration": 0,
    "start_time": "2024-10-11T19:08:58.306Z"
   },
   {
    "duration": 0,
    "start_time": "2024-10-11T19:08:58.307Z"
   },
   {
    "duration": 0,
    "start_time": "2024-10-11T19:08:58.308Z"
   },
   {
    "duration": 0,
    "start_time": "2024-10-11T19:08:58.309Z"
   },
   {
    "duration": 0,
    "start_time": "2024-10-11T19:08:58.310Z"
   },
   {
    "duration": 0,
    "start_time": "2024-10-11T19:08:58.311Z"
   },
   {
    "duration": 0,
    "start_time": "2024-10-11T19:08:58.312Z"
   },
   {
    "duration": 0,
    "start_time": "2024-10-11T19:08:58.314Z"
   },
   {
    "duration": 0,
    "start_time": "2024-10-11T19:08:58.315Z"
   },
   {
    "duration": 0,
    "start_time": "2024-10-11T19:08:58.316Z"
   },
   {
    "duration": 0,
    "start_time": "2024-10-11T19:08:58.317Z"
   },
   {
    "duration": 0,
    "start_time": "2024-10-11T19:08:58.318Z"
   },
   {
    "duration": 0,
    "start_time": "2024-10-11T19:08:58.320Z"
   },
   {
    "duration": 0,
    "start_time": "2024-10-11T19:08:58.321Z"
   },
   {
    "duration": 0,
    "start_time": "2024-10-11T19:08:58.323Z"
   },
   {
    "duration": 0,
    "start_time": "2024-10-11T19:08:58.324Z"
   },
   {
    "duration": 299,
    "start_time": "2024-10-11T19:11:34.992Z"
   },
   {
    "duration": 865,
    "start_time": "2024-10-11T19:11:35.293Z"
   },
   {
    "duration": 12,
    "start_time": "2024-10-11T19:11:36.160Z"
   },
   {
    "duration": 21,
    "start_time": "2024-10-11T19:11:36.174Z"
   },
   {
    "duration": 8,
    "start_time": "2024-10-11T19:11:36.197Z"
   },
   {
    "duration": 7,
    "start_time": "2024-10-11T19:11:36.207Z"
   },
   {
    "duration": 24,
    "start_time": "2024-10-11T19:11:36.216Z"
   },
   {
    "duration": 120,
    "start_time": "2024-10-11T19:11:36.242Z"
   },
   {
    "duration": 87,
    "start_time": "2024-10-11T19:11:36.365Z"
   },
   {
    "duration": 13,
    "start_time": "2024-10-11T19:11:36.456Z"
   },
   {
    "duration": 4,
    "start_time": "2024-10-11T19:11:36.470Z"
   },
   {
    "duration": 92,
    "start_time": "2024-10-11T19:11:36.487Z"
   },
   {
    "duration": 82,
    "start_time": "2024-10-11T19:11:36.587Z"
   },
   {
    "duration": 51,
    "start_time": "2024-10-11T19:11:36.670Z"
   },
   {
    "duration": 13,
    "start_time": "2024-10-11T19:11:36.723Z"
   },
   {
    "duration": 2,
    "start_time": "2024-10-11T19:11:36.737Z"
   },
   {
    "duration": 3,
    "start_time": "2024-10-11T19:11:36.741Z"
   },
   {
    "duration": 2,
    "start_time": "2024-10-11T19:11:36.746Z"
   },
   {
    "duration": 2,
    "start_time": "2024-10-11T19:11:36.750Z"
   },
   {
    "duration": 32,
    "start_time": "2024-10-11T19:11:36.754Z"
   },
   {
    "duration": 2,
    "start_time": "2024-10-11T19:11:36.788Z"
   },
   {
    "duration": 2,
    "start_time": "2024-10-11T19:11:36.792Z"
   },
   {
    "duration": 2,
    "start_time": "2024-10-11T19:11:36.796Z"
   },
   {
    "duration": 2,
    "start_time": "2024-10-11T19:11:36.800Z"
   },
   {
    "duration": 2,
    "start_time": "2024-10-11T19:11:36.805Z"
   },
   {
    "duration": 3,
    "start_time": "2024-10-11T19:11:36.809Z"
   },
   {
    "duration": 2,
    "start_time": "2024-10-11T19:11:36.813Z"
   },
   {
    "duration": 2,
    "start_time": "2024-10-11T19:11:36.819Z"
   },
   {
    "duration": 2,
    "start_time": "2024-10-11T19:11:36.823Z"
   },
   {
    "duration": 4,
    "start_time": "2024-10-11T19:11:36.827Z"
   },
   {
    "duration": 3,
    "start_time": "2024-10-11T19:11:36.832Z"
   },
   {
    "duration": 2,
    "start_time": "2024-10-11T19:11:36.837Z"
   },
   {
    "duration": 2,
    "start_time": "2024-10-11T19:11:36.886Z"
   },
   {
    "duration": 2,
    "start_time": "2024-10-11T19:11:36.890Z"
   },
   {
    "duration": 2,
    "start_time": "2024-10-11T19:11:36.894Z"
   },
   {
    "duration": 2,
    "start_time": "2024-10-11T19:11:36.898Z"
   },
   {
    "duration": 17,
    "start_time": "2024-10-11T19:46:38.056Z"
   },
   {
    "duration": 17,
    "start_time": "2024-10-11T19:46:43.993Z"
   },
   {
    "duration": 6,
    "start_time": "2024-10-11T19:49:21.042Z"
   },
   {
    "duration": 479,
    "start_time": "2024-10-11T19:51:59.093Z"
   },
   {
    "duration": 31,
    "start_time": "2024-10-11T19:52:25.993Z"
   },
   {
    "duration": 31,
    "start_time": "2024-10-11T19:52:39.639Z"
   },
   {
    "duration": 31,
    "start_time": "2024-10-11T19:54:52.390Z"
   },
   {
    "duration": 15,
    "start_time": "2024-10-11T19:55:58.224Z"
   },
   {
    "duration": 15,
    "start_time": "2024-10-11T19:56:15.900Z"
   },
   {
    "duration": 27,
    "start_time": "2024-10-11T19:56:29.219Z"
   },
   {
    "duration": 274,
    "start_time": "2024-10-11T19:56:42.647Z"
   },
   {
    "duration": 914,
    "start_time": "2024-10-11T19:56:42.923Z"
   },
   {
    "duration": 12,
    "start_time": "2024-10-11T19:56:43.838Z"
   },
   {
    "duration": 10,
    "start_time": "2024-10-11T19:56:43.853Z"
   },
   {
    "duration": 24,
    "start_time": "2024-10-11T19:56:43.864Z"
   },
   {
    "duration": 7,
    "start_time": "2024-10-11T19:56:43.889Z"
   },
   {
    "duration": 23,
    "start_time": "2024-10-11T19:56:43.898Z"
   },
   {
    "duration": 113,
    "start_time": "2024-10-11T19:56:43.923Z"
   },
   {
    "duration": 100,
    "start_time": "2024-10-11T19:56:44.037Z"
   },
   {
    "duration": 12,
    "start_time": "2024-10-11T19:56:44.140Z"
   },
   {
    "duration": 4,
    "start_time": "2024-10-11T19:56:44.153Z"
   },
   {
    "duration": 111,
    "start_time": "2024-10-11T19:56:44.158Z"
   },
   {
    "duration": 86,
    "start_time": "2024-10-11T19:56:44.271Z"
   },
   {
    "duration": 49,
    "start_time": "2024-10-11T19:56:44.359Z"
   },
   {
    "duration": 19,
    "start_time": "2024-10-11T19:56:44.409Z"
   },
   {
    "duration": 5,
    "start_time": "2024-10-11T19:56:44.430Z"
   },
   {
    "duration": 15,
    "start_time": "2024-10-11T19:56:44.436Z"
   },
   {
    "duration": 3,
    "start_time": "2024-10-11T19:56:44.452Z"
   },
   {
    "duration": 2,
    "start_time": "2024-10-11T19:56:44.456Z"
   },
   {
    "duration": 2,
    "start_time": "2024-10-11T19:56:44.487Z"
   },
   {
    "duration": 2,
    "start_time": "2024-10-11T19:56:44.491Z"
   },
   {
    "duration": 2,
    "start_time": "2024-10-11T19:56:44.495Z"
   },
   {
    "duration": 2,
    "start_time": "2024-10-11T19:56:44.499Z"
   },
   {
    "duration": 2,
    "start_time": "2024-10-11T19:56:44.503Z"
   },
   {
    "duration": 2,
    "start_time": "2024-10-11T19:56:44.507Z"
   },
   {
    "duration": 3,
    "start_time": "2024-10-11T19:56:44.511Z"
   },
   {
    "duration": 2,
    "start_time": "2024-10-11T19:56:44.515Z"
   },
   {
    "duration": 2,
    "start_time": "2024-10-11T19:56:44.522Z"
   },
   {
    "duration": 3,
    "start_time": "2024-10-11T19:56:44.525Z"
   },
   {
    "duration": 2,
    "start_time": "2024-10-11T19:56:44.529Z"
   },
   {
    "duration": 54,
    "start_time": "2024-10-11T19:56:44.533Z"
   },
   {
    "duration": 2,
    "start_time": "2024-10-11T19:56:44.589Z"
   },
   {
    "duration": 3,
    "start_time": "2024-10-11T19:56:44.592Z"
   },
   {
    "duration": 2,
    "start_time": "2024-10-11T19:56:44.596Z"
   },
   {
    "duration": 2,
    "start_time": "2024-10-11T19:56:44.600Z"
   },
   {
    "duration": 2,
    "start_time": "2024-10-11T19:56:44.604Z"
   },
   {
    "duration": 17,
    "start_time": "2024-10-11T19:58:13.582Z"
   },
   {
    "duration": 300,
    "start_time": "2024-10-11T19:58:34.836Z"
   },
   {
    "duration": 865,
    "start_time": "2024-10-11T19:58:35.139Z"
   },
   {
    "duration": 12,
    "start_time": "2024-10-11T19:58:36.005Z"
   },
   {
    "duration": 10,
    "start_time": "2024-10-11T19:58:36.018Z"
   },
   {
    "duration": 7,
    "start_time": "2024-10-11T19:58:36.032Z"
   },
   {
    "duration": 7,
    "start_time": "2024-10-11T19:58:36.040Z"
   },
   {
    "duration": 56,
    "start_time": "2024-10-11T19:58:36.049Z"
   },
   {
    "duration": 112,
    "start_time": "2024-10-11T19:58:36.107Z"
   },
   {
    "duration": 92,
    "start_time": "2024-10-11T19:58:36.220Z"
   },
   {
    "duration": 11,
    "start_time": "2024-10-11T19:58:36.314Z"
   },
   {
    "duration": 3,
    "start_time": "2024-10-11T19:58:36.327Z"
   },
   {
    "duration": 108,
    "start_time": "2024-10-11T19:58:36.333Z"
   },
   {
    "duration": 88,
    "start_time": "2024-10-11T19:58:36.443Z"
   },
   {
    "duration": 53,
    "start_time": "2024-10-11T19:58:36.534Z"
   },
   {
    "duration": 19,
    "start_time": "2024-10-11T19:58:36.589Z"
   },
   {
    "duration": 6,
    "start_time": "2024-10-11T19:58:36.610Z"
   },
   {
    "duration": 16,
    "start_time": "2024-10-11T19:58:36.617Z"
   },
   {
    "duration": 2,
    "start_time": "2024-10-11T19:58:36.635Z"
   },
   {
    "duration": 3,
    "start_time": "2024-10-11T19:58:36.639Z"
   },
   {
    "duration": 3,
    "start_time": "2024-10-11T19:58:36.643Z"
   },
   {
    "duration": 2,
    "start_time": "2024-10-11T19:58:36.647Z"
   },
   {
    "duration": 2,
    "start_time": "2024-10-11T19:58:36.687Z"
   },
   {
    "duration": 2,
    "start_time": "2024-10-11T19:58:36.691Z"
   },
   {
    "duration": 2,
    "start_time": "2024-10-11T19:58:36.695Z"
   },
   {
    "duration": 2,
    "start_time": "2024-10-11T19:58:36.699Z"
   },
   {
    "duration": 2,
    "start_time": "2024-10-11T19:58:36.703Z"
   },
   {
    "duration": 2,
    "start_time": "2024-10-11T19:58:36.707Z"
   },
   {
    "duration": 2,
    "start_time": "2024-10-11T19:58:36.711Z"
   },
   {
    "duration": 1,
    "start_time": "2024-10-11T19:58:36.715Z"
   },
   {
    "duration": 2,
    "start_time": "2024-10-11T19:58:36.718Z"
   },
   {
    "duration": 2,
    "start_time": "2024-10-11T19:58:36.722Z"
   },
   {
    "duration": 5,
    "start_time": "2024-10-11T19:58:36.726Z"
   },
   {
    "duration": 53,
    "start_time": "2024-10-11T19:58:36.733Z"
   },
   {
    "duration": 2,
    "start_time": "2024-10-11T19:58:36.788Z"
   },
   {
    "duration": 3,
    "start_time": "2024-10-11T19:58:36.791Z"
   },
   {
    "duration": 2,
    "start_time": "2024-10-11T19:58:36.795Z"
   },
   {
    "duration": 23,
    "start_time": "2024-10-11T20:00:21.350Z"
   },
   {
    "duration": 19,
    "start_time": "2024-10-11T20:06:03.502Z"
   },
   {
    "duration": 162,
    "start_time": "2024-10-11T21:57:54.989Z"
   },
   {
    "duration": 320,
    "start_time": "2024-10-11T21:58:41.712Z"
   },
   {
    "duration": 1042,
    "start_time": "2024-10-11T21:58:42.034Z"
   },
   {
    "duration": 16,
    "start_time": "2024-10-11T21:58:43.078Z"
   },
   {
    "duration": 11,
    "start_time": "2024-10-11T21:58:43.095Z"
   },
   {
    "duration": 8,
    "start_time": "2024-10-11T21:58:43.110Z"
   },
   {
    "duration": 9,
    "start_time": "2024-10-11T21:58:43.121Z"
   },
   {
    "duration": 60,
    "start_time": "2024-10-11T21:58:43.131Z"
   },
   {
    "duration": 97,
    "start_time": "2024-10-11T21:58:43.197Z"
   },
   {
    "duration": 83,
    "start_time": "2024-10-11T21:58:43.296Z"
   },
   {
    "duration": 14,
    "start_time": "2024-10-11T21:58:43.388Z"
   },
   {
    "duration": 3,
    "start_time": "2024-10-11T21:58:43.404Z"
   },
   {
    "duration": 111,
    "start_time": "2024-10-11T21:58:43.409Z"
   },
   {
    "duration": 89,
    "start_time": "2024-10-11T21:58:43.522Z"
   },
   {
    "duration": 43,
    "start_time": "2024-10-11T21:58:43.615Z"
   },
   {
    "duration": 38,
    "start_time": "2024-10-11T21:58:43.660Z"
   },
   {
    "duration": 6,
    "start_time": "2024-10-11T21:58:43.700Z"
   },
   {
    "duration": 28,
    "start_time": "2024-10-11T21:58:43.707Z"
   },
   {
    "duration": 17,
    "start_time": "2024-10-11T21:58:43.737Z"
   },
   {
    "duration": 31,
    "start_time": "2024-10-11T21:58:43.756Z"
   },
   {
    "duration": 2,
    "start_time": "2024-10-11T21:58:43.791Z"
   },
   {
    "duration": 3,
    "start_time": "2024-10-11T21:58:43.794Z"
   },
   {
    "duration": 2,
    "start_time": "2024-10-11T21:58:43.799Z"
   },
   {
    "duration": 2,
    "start_time": "2024-10-11T21:58:43.803Z"
   },
   {
    "duration": 2,
    "start_time": "2024-10-11T21:58:43.807Z"
   },
   {
    "duration": 2,
    "start_time": "2024-10-11T21:58:43.811Z"
   },
   {
    "duration": 2,
    "start_time": "2024-10-11T21:58:43.815Z"
   },
   {
    "duration": 3,
    "start_time": "2024-10-11T21:58:43.818Z"
   },
   {
    "duration": 2,
    "start_time": "2024-10-11T21:58:43.823Z"
   },
   {
    "duration": 2,
    "start_time": "2024-10-11T21:58:43.827Z"
   },
   {
    "duration": 2,
    "start_time": "2024-10-11T21:58:43.831Z"
   },
   {
    "duration": 2,
    "start_time": "2024-10-11T21:58:43.834Z"
   },
   {
    "duration": 2,
    "start_time": "2024-10-11T21:58:43.887Z"
   },
   {
    "duration": 2,
    "start_time": "2024-10-11T21:58:43.891Z"
   },
   {
    "duration": 2,
    "start_time": "2024-10-11T21:58:43.895Z"
   },
   {
    "duration": 2,
    "start_time": "2024-10-11T21:58:43.899Z"
   },
   {
    "duration": 2,
    "start_time": "2024-10-11T21:58:43.903Z"
   },
   {
    "duration": 10,
    "start_time": "2024-10-11T21:59:15.282Z"
   },
   {
    "duration": 5,
    "start_time": "2024-10-11T22:00:14.281Z"
   },
   {
    "duration": 5,
    "start_time": "2024-10-11T22:00:21.910Z"
   },
   {
    "duration": 5,
    "start_time": "2024-10-11T22:03:38.478Z"
   },
   {
    "duration": 10,
    "start_time": "2024-10-11T22:03:57.407Z"
   },
   {
    "duration": 5,
    "start_time": "2024-10-11T22:04:47.171Z"
   },
   {
    "duration": 5,
    "start_time": "2024-10-11T22:05:04.104Z"
   },
   {
    "duration": 5,
    "start_time": "2024-10-11T22:05:12.076Z"
   },
   {
    "duration": 6,
    "start_time": "2024-10-11T22:05:30.636Z"
   },
   {
    "duration": 742,
    "start_time": "2024-10-11T22:34:26.476Z"
   },
   {
    "duration": 773,
    "start_time": "2024-10-11T22:34:48.226Z"
   },
   {
    "duration": 194,
    "start_time": "2024-10-11T22:40:30.768Z"
   },
   {
    "duration": 656,
    "start_time": "2024-10-11T22:40:43.433Z"
   },
   {
    "duration": 12,
    "start_time": "2024-10-11T22:44:04.124Z"
   },
   {
    "duration": 11,
    "start_time": "2024-10-11T22:45:58.972Z"
   },
   {
    "duration": 8,
    "start_time": "2024-10-11T22:59:57.150Z"
   },
   {
    "duration": 7,
    "start_time": "2024-10-11T23:10:04.453Z"
   },
   {
    "duration": 12,
    "start_time": "2024-10-11T23:13:35.991Z"
   },
   {
    "duration": 8,
    "start_time": "2024-10-11T23:13:41.509Z"
   },
   {
    "duration": 12,
    "start_time": "2024-10-11T23:13:59.565Z"
   },
   {
    "duration": 13,
    "start_time": "2024-10-11T23:14:11.183Z"
   },
   {
    "duration": 9,
    "start_time": "2024-10-11T23:16:13.841Z"
   },
   {
    "duration": 5,
    "start_time": "2024-10-11T23:16:29.264Z"
   },
   {
    "duration": 15,
    "start_time": "2024-10-11T23:16:41.557Z"
   },
   {
    "duration": 6,
    "start_time": "2024-10-11T23:21:12.822Z"
   },
   {
    "duration": 6,
    "start_time": "2024-10-11T23:21:25.327Z"
   },
   {
    "duration": 7,
    "start_time": "2024-10-11T23:24:32.297Z"
   },
   {
    "duration": 7,
    "start_time": "2024-10-11T23:24:47.240Z"
   },
   {
    "duration": 6,
    "start_time": "2024-10-11T23:25:06.240Z"
   },
   {
    "duration": 6,
    "start_time": "2024-10-11T23:26:20.757Z"
   },
   {
    "duration": 6,
    "start_time": "2024-10-11T23:27:19.188Z"
   },
   {
    "duration": 7,
    "start_time": "2024-10-11T23:28:50.999Z"
   },
   {
    "duration": 6,
    "start_time": "2024-10-11T23:29:01.557Z"
   },
   {
    "duration": 7,
    "start_time": "2024-10-11T23:29:12.158Z"
   },
   {
    "duration": 9,
    "start_time": "2024-10-11T23:29:17.366Z"
   },
   {
    "duration": 7,
    "start_time": "2024-10-11T23:29:25.020Z"
   },
   {
    "duration": 334,
    "start_time": "2024-10-11T23:30:03.201Z"
   },
   {
    "duration": 910,
    "start_time": "2024-10-11T23:30:03.537Z"
   },
   {
    "duration": 12,
    "start_time": "2024-10-11T23:30:04.449Z"
   },
   {
    "duration": 9,
    "start_time": "2024-10-11T23:30:04.462Z"
   },
   {
    "duration": 8,
    "start_time": "2024-10-11T23:30:04.487Z"
   },
   {
    "duration": 7,
    "start_time": "2024-10-11T23:30:04.497Z"
   },
   {
    "duration": 24,
    "start_time": "2024-10-11T23:30:04.506Z"
   },
   {
    "duration": 120,
    "start_time": "2024-10-11T23:30:04.532Z"
   },
   {
    "duration": 105,
    "start_time": "2024-10-11T23:30:04.654Z"
   },
   {
    "duration": 11,
    "start_time": "2024-10-11T23:30:04.760Z"
   },
   {
    "duration": 16,
    "start_time": "2024-10-11T23:30:04.773Z"
   },
   {
    "duration": 110,
    "start_time": "2024-10-11T23:30:04.792Z"
   },
   {
    "duration": 85,
    "start_time": "2024-10-11T23:30:04.904Z"
   },
   {
    "duration": 43,
    "start_time": "2024-10-11T23:30:04.993Z"
   },
   {
    "duration": 20,
    "start_time": "2024-10-11T23:30:05.038Z"
   },
   {
    "duration": 29,
    "start_time": "2024-10-11T23:30:05.059Z"
   },
   {
    "duration": 23,
    "start_time": "2024-10-11T23:30:05.089Z"
   },
   {
    "duration": 14,
    "start_time": "2024-10-11T23:30:05.114Z"
   },
   {
    "duration": 9,
    "start_time": "2024-10-11T23:30:05.130Z"
   },
   {
    "duration": 4,
    "start_time": "2024-10-11T23:30:05.140Z"
   },
   {
    "duration": 40,
    "start_time": "2024-10-11T23:30:05.147Z"
   },
   {
    "duration": 5,
    "start_time": "2024-10-11T23:30:05.189Z"
   },
   {
    "duration": 765,
    "start_time": "2024-10-11T23:30:05.197Z"
   },
   {
    "duration": 656,
    "start_time": "2024-10-11T23:30:05.964Z"
   },
   {
    "duration": 10,
    "start_time": "2024-10-11T23:30:06.622Z"
   },
   {
    "duration": 8,
    "start_time": "2024-10-11T23:30:06.634Z"
   },
   {
    "duration": 7,
    "start_time": "2024-10-11T23:30:06.643Z"
   },
   {
    "duration": 5,
    "start_time": "2024-10-11T23:30:06.652Z"
   },
   {
    "duration": 6,
    "start_time": "2024-10-11T23:30:06.687Z"
   },
   {
    "duration": 2,
    "start_time": "2024-10-11T23:30:06.695Z"
   },
   {
    "duration": 2,
    "start_time": "2024-10-11T23:30:06.699Z"
   },
   {
    "duration": 2,
    "start_time": "2024-10-11T23:30:06.703Z"
   },
   {
    "duration": 2,
    "start_time": "2024-10-11T23:30:06.707Z"
   },
   {
    "duration": 2,
    "start_time": "2024-10-11T23:30:06.711Z"
   },
   {
    "duration": 2,
    "start_time": "2024-10-11T23:30:06.715Z"
   },
   {
    "duration": 2,
    "start_time": "2024-10-11T23:30:06.719Z"
   },
   {
    "duration": 3,
    "start_time": "2024-10-11T23:30:06.722Z"
   },
   {
    "duration": 531,
    "start_time": "2024-10-11T23:35:35.113Z"
   },
   {
    "duration": 6,
    "start_time": "2024-10-11T23:36:29.032Z"
   },
   {
    "duration": 7,
    "start_time": "2024-10-11T23:37:06.359Z"
   },
   {
    "duration": 6,
    "start_time": "2024-10-11T23:37:11.732Z"
   },
   {
    "duration": 176,
    "start_time": "2024-10-13T18:14:57.973Z"
   },
   {
    "duration": 2,
    "start_time": "2024-10-13T18:15:10.346Z"
   },
   {
    "duration": 313,
    "start_time": "2024-10-13T18:15:17.923Z"
   },
   {
    "duration": 1036,
    "start_time": "2024-10-13T18:15:18.238Z"
   },
   {
    "duration": 12,
    "start_time": "2024-10-13T18:15:19.276Z"
   },
   {
    "duration": 9,
    "start_time": "2024-10-13T18:15:19.289Z"
   },
   {
    "duration": 25,
    "start_time": "2024-10-13T18:15:19.301Z"
   },
   {
    "duration": 7,
    "start_time": "2024-10-13T18:15:19.327Z"
   },
   {
    "duration": 23,
    "start_time": "2024-10-13T18:15:19.336Z"
   },
   {
    "duration": 114,
    "start_time": "2024-10-13T18:15:19.361Z"
   },
   {
    "duration": 90,
    "start_time": "2024-10-13T18:15:19.477Z"
   },
   {
    "duration": 11,
    "start_time": "2024-10-13T18:15:19.569Z"
   },
   {
    "duration": 3,
    "start_time": "2024-10-13T18:15:19.582Z"
   },
   {
    "duration": 107,
    "start_time": "2024-10-13T18:15:19.587Z"
   },
   {
    "duration": 92,
    "start_time": "2024-10-13T18:15:19.695Z"
   },
   {
    "duration": 48,
    "start_time": "2024-10-13T18:15:19.791Z"
   },
   {
    "duration": 19,
    "start_time": "2024-10-13T18:15:19.841Z"
   },
   {
    "duration": 5,
    "start_time": "2024-10-13T18:15:19.862Z"
   },
   {
    "duration": 23,
    "start_time": "2024-10-13T18:15:19.870Z"
   },
   {
    "duration": 46,
    "start_time": "2024-10-13T18:15:19.894Z"
   },
   {
    "duration": 9,
    "start_time": "2024-10-13T18:15:19.942Z"
   },
   {
    "duration": 3,
    "start_time": "2024-10-13T18:15:19.953Z"
   },
   {
    "duration": 10,
    "start_time": "2024-10-13T18:15:19.958Z"
   },
   {
    "duration": 6,
    "start_time": "2024-10-13T18:15:19.970Z"
   },
   {
    "duration": 813,
    "start_time": "2024-10-13T18:15:19.978Z"
   },
   {
    "duration": 669,
    "start_time": "2024-10-13T18:15:20.793Z"
   },
   {
    "duration": 11,
    "start_time": "2024-10-13T18:15:21.464Z"
   },
   {
    "duration": 7,
    "start_time": "2024-10-13T18:15:21.477Z"
   },
   {
    "duration": 7,
    "start_time": "2024-10-13T18:15:21.486Z"
   },
   {
    "duration": 31,
    "start_time": "2024-10-13T18:15:21.494Z"
   },
   {
    "duration": 5,
    "start_time": "2024-10-13T18:15:21.527Z"
   },
   {
    "duration": 6,
    "start_time": "2024-10-13T18:15:21.533Z"
   },
   {
    "duration": 5,
    "start_time": "2024-10-13T18:15:21.540Z"
   },
   {
    "duration": 6,
    "start_time": "2024-10-13T18:15:21.547Z"
   },
   {
    "duration": 2,
    "start_time": "2024-10-13T18:15:21.554Z"
   },
   {
    "duration": 3,
    "start_time": "2024-10-13T18:15:21.558Z"
   },
   {
    "duration": 3,
    "start_time": "2024-10-13T18:15:21.562Z"
   },
   {
    "duration": 3,
    "start_time": "2024-10-13T18:15:21.567Z"
   },
   {
    "duration": 3,
    "start_time": "2024-10-13T18:15:21.571Z"
   },
   {
    "duration": 2,
    "start_time": "2024-10-13T18:15:21.576Z"
   },
   {
    "duration": 45,
    "start_time": "2024-10-13T18:15:21.580Z"
   },
   {
    "duration": 8,
    "start_time": "2024-10-13T18:17:08.150Z"
   },
   {
    "duration": 7,
    "start_time": "2024-10-13T18:17:40.111Z"
   },
   {
    "duration": 176,
    "start_time": "2024-10-13T18:20:04.251Z"
   },
   {
    "duration": 12,
    "start_time": "2024-10-13T18:20:21.473Z"
   },
   {
    "duration": 5,
    "start_time": "2024-10-13T18:20:38.423Z"
   },
   {
    "duration": 4,
    "start_time": "2024-10-13T18:20:59.355Z"
   },
   {
    "duration": 4,
    "start_time": "2024-10-13T18:21:16.525Z"
   },
   {
    "duration": 5,
    "start_time": "2024-10-13T18:22:06.607Z"
   },
   {
    "duration": 7,
    "start_time": "2024-10-13T18:23:00.708Z"
   },
   {
    "duration": 11,
    "start_time": "2024-10-13T18:23:14.675Z"
   },
   {
    "duration": 7,
    "start_time": "2024-10-13T18:24:03.172Z"
   },
   {
    "duration": 10,
    "start_time": "2024-10-13T18:24:38.364Z"
   },
   {
    "duration": 11,
    "start_time": "2024-10-13T18:25:01.687Z"
   },
   {
    "duration": 11,
    "start_time": "2024-10-13T18:26:08.286Z"
   },
   {
    "duration": 18,
    "start_time": "2024-10-13T18:30:27.906Z"
   },
   {
    "duration": 12,
    "start_time": "2024-10-13T18:44:09.700Z"
   },
   {
    "duration": 18,
    "start_time": "2024-10-13T18:45:01.716Z"
   },
   {
    "duration": 386,
    "start_time": "2024-10-13T18:46:39.184Z"
   },
   {
    "duration": 51,
    "start_time": "2024-10-13T18:47:32.343Z"
   },
   {
    "duration": 17,
    "start_time": "2024-10-13T18:47:44.218Z"
   },
   {
    "duration": 16,
    "start_time": "2024-10-13T18:47:52.493Z"
   },
   {
    "duration": 30,
    "start_time": "2024-10-13T18:48:07.651Z"
   },
   {
    "duration": 30,
    "start_time": "2024-10-13T18:48:12.546Z"
   },
   {
    "duration": 31,
    "start_time": "2024-10-13T18:48:20.847Z"
   },
   {
    "duration": 29,
    "start_time": "2024-10-13T18:49:19.143Z"
   },
   {
    "duration": 3,
    "start_time": "2024-10-13T18:58:23.235Z"
   },
   {
    "duration": 39,
    "start_time": "2024-10-13T18:58:43.247Z"
   },
   {
    "duration": 12,
    "start_time": "2024-10-13T19:00:57.856Z"
   },
   {
    "duration": 7,
    "start_time": "2024-10-13T19:01:06.963Z"
   },
   {
    "duration": 11,
    "start_time": "2024-10-13T19:05:07.431Z"
   },
   {
    "duration": 25,
    "start_time": "2024-10-13T19:19:49.712Z"
   },
   {
    "duration": 26,
    "start_time": "2024-10-13T19:28:38.796Z"
   },
   {
    "duration": 23,
    "start_time": "2024-10-13T19:34:16.411Z"
   },
   {
    "duration": 23,
    "start_time": "2024-10-13T19:47:42.382Z"
   },
   {
    "duration": 217,
    "start_time": "2024-10-13T19:48:13.213Z"
   },
   {
    "duration": 22,
    "start_time": "2024-10-13T19:49:24.174Z"
   },
   {
    "duration": 27,
    "start_time": "2024-10-13T19:54:56.293Z"
   },
   {
    "duration": 6,
    "start_time": "2024-10-13T19:56:13.135Z"
   },
   {
    "duration": 6,
    "start_time": "2024-10-13T19:56:19.832Z"
   },
   {
    "duration": 72,
    "start_time": "2024-10-13T19:56:53.308Z"
   },
   {
    "duration": 22,
    "start_time": "2024-10-13T19:57:17.869Z"
   },
   {
    "duration": 16,
    "start_time": "2024-10-13T19:57:52.632Z"
   },
   {
    "duration": 219,
    "start_time": "2024-10-14T00:49:51.672Z"
   },
   {
    "duration": 313,
    "start_time": "2024-10-14T00:50:00.807Z"
   },
   {
    "duration": 1045,
    "start_time": "2024-10-14T00:50:01.122Z"
   },
   {
    "duration": 11,
    "start_time": "2024-10-14T00:50:02.170Z"
   },
   {
    "duration": 10,
    "start_time": "2024-10-14T00:50:02.183Z"
   },
   {
    "duration": 8,
    "start_time": "2024-10-14T00:50:02.195Z"
   },
   {
    "duration": 7,
    "start_time": "2024-10-14T00:50:02.204Z"
   },
   {
    "duration": 23,
    "start_time": "2024-10-14T00:50:02.213Z"
   },
   {
    "duration": 121,
    "start_time": "2024-10-14T00:50:02.238Z"
   },
   {
    "duration": 91,
    "start_time": "2024-10-14T00:50:02.370Z"
   },
   {
    "duration": 11,
    "start_time": "2024-10-14T00:50:02.471Z"
   },
   {
    "duration": 3,
    "start_time": "2024-10-14T00:50:02.484Z"
   },
   {
    "duration": 116,
    "start_time": "2024-10-14T00:50:02.489Z"
   },
   {
    "duration": 86,
    "start_time": "2024-10-14T00:50:02.607Z"
   },
   {
    "duration": 42,
    "start_time": "2024-10-14T00:50:02.694Z"
   },
   {
    "duration": 33,
    "start_time": "2024-10-14T00:50:02.738Z"
   },
   {
    "duration": 5,
    "start_time": "2024-10-14T00:50:02.772Z"
   },
   {
    "duration": 23,
    "start_time": "2024-10-14T00:50:02.779Z"
   },
   {
    "duration": 15,
    "start_time": "2024-10-14T00:50:02.804Z"
   },
   {
    "duration": 9,
    "start_time": "2024-10-14T00:50:02.821Z"
   },
   {
    "duration": 39,
    "start_time": "2024-10-14T00:50:02.832Z"
   },
   {
    "duration": 10,
    "start_time": "2024-10-14T00:50:02.873Z"
   },
   {
    "duration": 5,
    "start_time": "2024-10-14T00:50:02.885Z"
   },
   {
    "duration": 762,
    "start_time": "2024-10-14T00:50:02.892Z"
   },
   {
    "duration": 659,
    "start_time": "2024-10-14T00:50:03.655Z"
   },
   {
    "duration": 12,
    "start_time": "2024-10-14T00:50:04.315Z"
   },
   {
    "duration": 7,
    "start_time": "2024-10-14T00:50:04.328Z"
   },
   {
    "duration": 8,
    "start_time": "2024-10-14T00:50:04.337Z"
   },
   {
    "duration": 6,
    "start_time": "2024-10-14T00:50:04.369Z"
   },
   {
    "duration": 6,
    "start_time": "2024-10-14T00:50:04.377Z"
   },
   {
    "duration": 6,
    "start_time": "2024-10-14T00:50:04.384Z"
   },
   {
    "duration": 5,
    "start_time": "2024-10-14T00:50:04.393Z"
   },
   {
    "duration": 7,
    "start_time": "2024-10-14T00:50:04.400Z"
   },
   {
    "duration": 8,
    "start_time": "2024-10-14T00:50:04.409Z"
   },
   {
    "duration": 52,
    "start_time": "2024-10-14T00:50:04.419Z"
   },
   {
    "duration": 18,
    "start_time": "2024-10-14T00:50:04.473Z"
   },
   {
    "duration": 39,
    "start_time": "2024-10-14T00:50:04.494Z"
   },
   {
    "duration": 36,
    "start_time": "2024-10-14T00:50:04.535Z"
   },
   {
    "duration": 7,
    "start_time": "2024-10-14T00:50:04.573Z"
   },
   {
    "duration": 24,
    "start_time": "2024-10-14T00:50:04.581Z"
   },
   {
    "duration": 22,
    "start_time": "2024-10-14T00:50:04.607Z"
   },
   {
    "duration": 46,
    "start_time": "2024-10-14T00:50:04.630Z"
   },
   {
    "duration": 27,
    "start_time": "2024-10-14T00:50:04.678Z"
   },
   {
    "duration": 14,
    "start_time": "2024-10-14T00:50:04.707Z"
   },
   {
    "duration": 6,
    "start_time": "2024-10-14T00:50:04.723Z"
   },
   {
    "duration": 6,
    "start_time": "2024-10-14T00:51:43.976Z"
   },
   {
    "duration": 174,
    "start_time": "2024-10-14T00:51:59.187Z"
   },
   {
    "duration": 6,
    "start_time": "2024-10-14T00:52:09.475Z"
   },
   {
    "duration": 14,
    "start_time": "2024-10-14T00:52:39.799Z"
   },
   {
    "duration": 6,
    "start_time": "2024-10-14T00:52:49.840Z"
   },
   {
    "duration": 5,
    "start_time": "2024-10-14T00:52:55.751Z"
   },
   {
    "duration": 6,
    "start_time": "2024-10-14T00:53:34.484Z"
   },
   {
    "duration": 4,
    "start_time": "2024-10-14T00:56:12.289Z"
   },
   {
    "duration": 8,
    "start_time": "2024-10-14T01:11:11.505Z"
   },
   {
    "duration": 10,
    "start_time": "2024-10-14T01:15:16.212Z"
   },
   {
    "duration": 2130,
    "start_time": "2024-10-14T01:31:33.115Z"
   },
   {
    "duration": 860,
    "start_time": "2024-10-14T01:31:35.248Z"
   },
   {
    "duration": 11,
    "start_time": "2024-10-14T01:31:36.110Z"
   },
   {
    "duration": 9,
    "start_time": "2024-10-14T01:31:36.123Z"
   },
   {
    "duration": 9,
    "start_time": "2024-10-14T01:31:36.133Z"
   },
   {
    "duration": 28,
    "start_time": "2024-10-14T01:31:36.145Z"
   },
   {
    "duration": 22,
    "start_time": "2024-10-14T01:31:36.175Z"
   },
   {
    "duration": 106,
    "start_time": "2024-10-14T01:31:36.199Z"
   },
   {
    "duration": 89,
    "start_time": "2024-10-14T01:31:36.307Z"
   },
   {
    "duration": 11,
    "start_time": "2024-10-14T01:31:36.400Z"
   },
   {
    "duration": 3,
    "start_time": "2024-10-14T01:31:36.412Z"
   },
   {
    "duration": 106,
    "start_time": "2024-10-14T01:31:36.417Z"
   },
   {
    "duration": 105,
    "start_time": "2024-10-14T01:31:36.524Z"
   },
   {
    "duration": 63,
    "start_time": "2024-10-14T01:31:36.633Z"
   },
   {
    "duration": 19,
    "start_time": "2024-10-14T01:31:36.698Z"
   },
   {
    "duration": 5,
    "start_time": "2024-10-14T01:31:36.719Z"
   },
   {
    "duration": 23,
    "start_time": "2024-10-14T01:31:36.726Z"
   },
   {
    "duration": 17,
    "start_time": "2024-10-14T01:31:36.771Z"
   },
   {
    "duration": 9,
    "start_time": "2024-10-14T01:31:36.790Z"
   },
   {
    "duration": 4,
    "start_time": "2024-10-14T01:31:36.801Z"
   },
   {
    "duration": 9,
    "start_time": "2024-10-14T01:31:36.807Z"
   },
   {
    "duration": 6,
    "start_time": "2024-10-14T01:31:36.818Z"
   },
   {
    "duration": 782,
    "start_time": "2024-10-14T01:31:36.825Z"
   },
   {
    "duration": 662,
    "start_time": "2024-10-14T01:31:37.609Z"
   },
   {
    "duration": 12,
    "start_time": "2024-10-14T01:31:38.273Z"
   },
   {
    "duration": 7,
    "start_time": "2024-10-14T01:31:38.287Z"
   },
   {
    "duration": 8,
    "start_time": "2024-10-14T01:31:38.296Z"
   },
   {
    "duration": 5,
    "start_time": "2024-10-14T01:31:38.308Z"
   },
   {
    "duration": 6,
    "start_time": "2024-10-14T01:31:38.314Z"
   },
   {
    "duration": 5,
    "start_time": "2024-10-14T01:31:38.321Z"
   },
   {
    "duration": 43,
    "start_time": "2024-10-14T01:31:38.328Z"
   },
   {
    "duration": 6,
    "start_time": "2024-10-14T01:31:38.373Z"
   },
   {
    "duration": 7,
    "start_time": "2024-10-14T01:31:38.381Z"
   },
   {
    "duration": 12,
    "start_time": "2024-10-14T01:31:38.389Z"
   },
   {
    "duration": 15,
    "start_time": "2024-10-14T01:31:38.402Z"
   },
   {
    "duration": 61,
    "start_time": "2024-10-14T01:31:38.418Z"
   },
   {
    "duration": 17,
    "start_time": "2024-10-14T01:31:38.481Z"
   },
   {
    "duration": 6,
    "start_time": "2024-10-14T01:31:38.500Z"
   },
   {
    "duration": 25,
    "start_time": "2024-10-14T01:31:38.508Z"
   },
   {
    "duration": 47,
    "start_time": "2024-10-14T01:31:38.534Z"
   },
   {
    "duration": 22,
    "start_time": "2024-10-14T01:31:38.583Z"
   },
   {
    "duration": 27,
    "start_time": "2024-10-14T01:31:38.607Z"
   },
   {
    "duration": 36,
    "start_time": "2024-10-14T01:31:38.635Z"
   },
   {
    "duration": 5,
    "start_time": "2024-10-14T01:31:38.673Z"
   },
   {
    "duration": 5,
    "start_time": "2024-10-14T01:31:38.680Z"
   },
   {
    "duration": 7,
    "start_time": "2024-10-14T01:31:38.686Z"
   },
   {
    "duration": 6,
    "start_time": "2024-10-14T01:31:38.694Z"
   },
   {
    "duration": 565,
    "start_time": "2024-10-14T01:33:19.884Z"
   },
   {
    "duration": 7,
    "start_time": "2024-10-14T01:33:39.999Z"
   },
   {
    "duration": 231,
    "start_time": "2024-10-14T01:40:56.798Z"
   },
   {
    "duration": 424,
    "start_time": "2024-10-14T01:41:07.142Z"
   },
   {
    "duration": 893,
    "start_time": "2024-10-14T01:41:07.569Z"
   },
   {
    "duration": 15,
    "start_time": "2024-10-14T01:41:08.464Z"
   },
   {
    "duration": 9,
    "start_time": "2024-10-14T01:41:08.481Z"
   },
   {
    "duration": 8,
    "start_time": "2024-10-14T01:41:08.492Z"
   },
   {
    "duration": 7,
    "start_time": "2024-10-14T01:41:08.502Z"
   },
   {
    "duration": 22,
    "start_time": "2024-10-14T01:41:08.511Z"
   },
   {
    "duration": 124,
    "start_time": "2024-10-14T01:41:08.535Z"
   },
   {
    "duration": 87,
    "start_time": "2024-10-14T01:41:08.661Z"
   },
   {
    "duration": 23,
    "start_time": "2024-10-14T01:41:08.752Z"
   },
   {
    "duration": 3,
    "start_time": "2024-10-14T01:41:08.777Z"
   },
   {
    "duration": 100,
    "start_time": "2024-10-14T01:41:08.782Z"
   },
   {
    "duration": 87,
    "start_time": "2024-10-14T01:41:08.884Z"
   },
   {
    "duration": 46,
    "start_time": "2024-10-14T01:41:08.973Z"
   },
   {
    "duration": 20,
    "start_time": "2024-10-14T01:41:09.020Z"
   },
   {
    "duration": 6,
    "start_time": "2024-10-14T01:41:09.041Z"
   },
   {
    "duration": 23,
    "start_time": "2024-10-14T01:41:09.071Z"
   },
   {
    "duration": 18,
    "start_time": "2024-10-14T01:41:09.097Z"
   },
   {
    "duration": 10,
    "start_time": "2024-10-14T01:41:09.117Z"
   },
   {
    "duration": 5,
    "start_time": "2024-10-14T01:41:09.129Z"
   },
   {
    "duration": 43,
    "start_time": "2024-10-14T01:41:09.136Z"
   },
   {
    "duration": 7,
    "start_time": "2024-10-14T01:41:09.181Z"
   },
   {
    "duration": 781,
    "start_time": "2024-10-14T01:41:09.189Z"
   },
   {
    "duration": 649,
    "start_time": "2024-10-14T01:41:09.971Z"
   },
   {
    "duration": 11,
    "start_time": "2024-10-14T01:41:10.621Z"
   },
   {
    "duration": 7,
    "start_time": "2024-10-14T01:41:10.633Z"
   },
   {
    "duration": 7,
    "start_time": "2024-10-14T01:41:10.642Z"
   },
   {
    "duration": 21,
    "start_time": "2024-10-14T01:41:10.653Z"
   },
   {
    "duration": 6,
    "start_time": "2024-10-14T01:41:10.676Z"
   },
   {
    "duration": 6,
    "start_time": "2024-10-14T01:41:10.683Z"
   },
   {
    "duration": 6,
    "start_time": "2024-10-14T01:41:10.690Z"
   },
   {
    "duration": 7,
    "start_time": "2024-10-14T01:41:10.698Z"
   },
   {
    "duration": 11,
    "start_time": "2024-10-14T01:41:10.708Z"
   },
   {
    "duration": 49,
    "start_time": "2024-10-14T01:41:10.721Z"
   },
   {
    "duration": 16,
    "start_time": "2024-10-14T01:41:10.772Z"
   },
   {
    "duration": 31,
    "start_time": "2024-10-14T01:41:10.790Z"
   },
   {
    "duration": 17,
    "start_time": "2024-10-14T01:41:10.823Z"
   },
   {
    "duration": 30,
    "start_time": "2024-10-14T01:41:10.842Z"
   },
   {
    "duration": 24,
    "start_time": "2024-10-14T01:41:10.874Z"
   },
   {
    "duration": 22,
    "start_time": "2024-10-14T01:41:10.899Z"
   },
   {
    "duration": 22,
    "start_time": "2024-10-14T01:41:10.923Z"
   },
   {
    "duration": 48,
    "start_time": "2024-10-14T01:41:10.946Z"
   },
   {
    "duration": 15,
    "start_time": "2024-10-14T01:41:10.995Z"
   },
   {
    "duration": 5,
    "start_time": "2024-10-14T01:41:11.011Z"
   },
   {
    "duration": 4,
    "start_time": "2024-10-14T01:41:11.018Z"
   },
   {
    "duration": 6,
    "start_time": "2024-10-14T01:41:11.024Z"
   },
   {
    "duration": 38,
    "start_time": "2024-10-14T01:41:11.032Z"
   },
   {
    "duration": 186,
    "start_time": "2024-10-14T01:41:11.071Z"
   },
   {
    "duration": 108,
    "start_time": "2024-10-14T01:41:28.154Z"
   },
   {
    "duration": 101,
    "start_time": "2024-10-14T01:42:06.811Z"
   },
   {
    "duration": 117,
    "start_time": "2024-10-14T01:44:31.068Z"
   },
   {
    "duration": 107,
    "start_time": "2024-10-14T01:44:46.082Z"
   },
   {
    "duration": 121,
    "start_time": "2024-10-14T01:46:20.939Z"
   },
   {
    "duration": 5,
    "start_time": "2024-10-14T01:47:03.169Z"
   },
   {
    "duration": 179,
    "start_time": "2024-10-14T01:49:09.654Z"
   },
   {
    "duration": 214,
    "start_time": "2024-10-14T01:49:20.922Z"
   },
   {
    "duration": 9,
    "start_time": "2024-10-14T01:55:42.150Z"
   },
   {
    "duration": 9,
    "start_time": "2024-10-14T01:56:05.648Z"
   },
   {
    "duration": 8,
    "start_time": "2024-10-14T01:58:29.679Z"
   },
   {
    "duration": 199,
    "start_time": "2024-10-14T01:58:58.094Z"
   },
   {
    "duration": 622,
    "start_time": "2024-10-14T02:01:09.159Z"
   },
   {
    "duration": 195,
    "start_time": "2024-10-14T02:01:29.212Z"
   },
   {
    "duration": 188,
    "start_time": "2024-10-14T02:01:41.527Z"
   },
   {
    "duration": 104,
    "start_time": "2024-10-14T02:06:53.232Z"
   },
   {
    "duration": 298,
    "start_time": "2024-10-14T02:07:18.190Z"
   },
   {
    "duration": 118,
    "start_time": "2024-10-14T02:07:28.517Z"
   },
   {
    "duration": 189,
    "start_time": "2024-10-14T02:08:04.490Z"
   },
   {
    "duration": 6,
    "start_time": "2024-10-14T02:18:04.945Z"
   },
   {
    "duration": 443,
    "start_time": "2024-10-14T02:21:30.118Z"
   },
   {
    "duration": 17,
    "start_time": "2024-10-14T02:22:36.925Z"
   },
   {
    "duration": 13,
    "start_time": "2024-10-14T02:24:14.033Z"
   },
   {
    "duration": 3,
    "start_time": "2024-10-14T02:26:03.477Z"
   },
   {
    "duration": 4,
    "start_time": "2024-10-14T02:26:07.766Z"
   },
   {
    "duration": 8,
    "start_time": "2024-10-14T02:26:16.650Z"
   },
   {
    "duration": 11,
    "start_time": "2024-10-14T02:26:37.335Z"
   },
   {
    "duration": 11,
    "start_time": "2024-10-14T02:26:50.306Z"
   },
   {
    "duration": 9,
    "start_time": "2024-10-14T02:27:21.486Z"
   },
   {
    "duration": 13,
    "start_time": "2024-10-14T02:27:37.848Z"
   },
   {
    "duration": 14,
    "start_time": "2024-10-14T02:28:01.968Z"
   },
   {
    "duration": 13,
    "start_time": "2024-10-14T02:28:37.001Z"
   },
   {
    "duration": 12,
    "start_time": "2024-10-14T02:29:23.453Z"
   },
   {
    "duration": 13,
    "start_time": "2024-10-14T02:29:36.637Z"
   },
   {
    "duration": 12,
    "start_time": "2024-10-14T02:29:55.175Z"
   },
   {
    "duration": 13,
    "start_time": "2024-10-14T02:30:05.243Z"
   },
   {
    "duration": 3,
    "start_time": "2024-10-14T02:32:12.844Z"
   },
   {
    "duration": 40,
    "start_time": "2024-10-14T02:35:03.489Z"
   },
   {
    "duration": 15,
    "start_time": "2024-10-14T02:36:46.707Z"
   },
   {
    "duration": 107,
    "start_time": "2024-10-14T02:38:53.545Z"
   },
   {
    "duration": 39,
    "start_time": "2024-10-14T02:39:09.739Z"
   },
   {
    "duration": 16,
    "start_time": "2024-10-14T02:40:06.771Z"
   },
   {
    "duration": 11,
    "start_time": "2024-10-14T02:40:51.237Z"
   },
   {
    "duration": 14,
    "start_time": "2024-10-14T02:40:58.287Z"
   },
   {
    "duration": 18,
    "start_time": "2024-10-14T02:42:10.435Z"
   },
   {
    "duration": 11,
    "start_time": "2024-10-14T02:42:28.328Z"
   },
   {
    "duration": 21,
    "start_time": "2024-10-14T02:45:19.371Z"
   },
   {
    "duration": 5,
    "start_time": "2024-10-14T02:46:45.068Z"
   },
   {
    "duration": 17,
    "start_time": "2024-10-14T02:46:56.188Z"
   },
   {
    "duration": 16,
    "start_time": "2024-10-14T02:47:19.574Z"
   },
   {
    "duration": 16,
    "start_time": "2024-10-14T02:47:50.316Z"
   },
   {
    "duration": 82,
    "start_time": "2024-10-14T02:49:38.966Z"
   },
   {
    "duration": 13,
    "start_time": "2024-10-14T02:51:06.349Z"
   },
   {
    "duration": 4,
    "start_time": "2024-10-14T02:52:03.503Z"
   },
   {
    "duration": 4,
    "start_time": "2024-10-14T02:52:19.959Z"
   },
   {
    "duration": 17,
    "start_time": "2024-10-14T02:52:35.542Z"
   },
   {
    "duration": 16,
    "start_time": "2024-10-14T02:53:07.670Z"
   },
   {
    "duration": 14,
    "start_time": "2024-10-14T02:53:36.282Z"
   },
   {
    "duration": 16,
    "start_time": "2024-10-14T02:53:58.071Z"
   },
   {
    "duration": 15,
    "start_time": "2024-10-14T02:54:14.137Z"
   },
   {
    "duration": 16,
    "start_time": "2024-10-14T02:54:24.349Z"
   },
   {
    "duration": 25,
    "start_time": "2024-10-14T02:54:44.264Z"
   },
   {
    "duration": 19,
    "start_time": "2024-10-14T02:55:01.512Z"
   },
   {
    "duration": 17,
    "start_time": "2024-10-14T02:55:21.078Z"
   },
   {
    "duration": 27,
    "start_time": "2024-10-14T02:55:58.714Z"
   },
   {
    "duration": 15,
    "start_time": "2024-10-14T02:56:17.875Z"
   },
   {
    "duration": 26,
    "start_time": "2024-10-14T02:56:57.203Z"
   },
   {
    "duration": 18,
    "start_time": "2024-10-14T02:57:09.918Z"
   },
   {
    "duration": 16,
    "start_time": "2024-10-14T02:57:30.115Z"
   },
   {
    "duration": 126,
    "start_time": "2024-10-14T03:06:53.668Z"
   },
   {
    "duration": 108,
    "start_time": "2024-10-14T03:08:41.478Z"
   },
   {
    "duration": 126,
    "start_time": "2024-10-14T03:09:00.466Z"
   },
   {
    "duration": 59,
    "start_time": "2024-10-14T03:09:32.233Z"
   },
   {
    "duration": 110,
    "start_time": "2024-10-14T03:09:45.441Z"
   },
   {
    "duration": 398,
    "start_time": "2024-10-14T03:10:32.606Z"
   },
   {
    "duration": 333,
    "start_time": "2024-10-14T03:10:54.238Z"
   },
   {
    "duration": 442,
    "start_time": "2024-10-14T03:11:35.787Z"
   },
   {
    "duration": 17,
    "start_time": "2024-10-14T03:12:32.172Z"
   },
   {
    "duration": 24,
    "start_time": "2024-10-14T03:13:48.293Z"
   },
   {
    "duration": 23,
    "start_time": "2024-10-14T03:15:26.973Z"
   },
   {
    "duration": 17,
    "start_time": "2024-10-14T03:15:59.485Z"
   },
   {
    "duration": 14,
    "start_time": "2024-10-14T03:19:18.091Z"
   },
   {
    "duration": 17,
    "start_time": "2024-10-14T03:20:02.507Z"
   },
   {
    "duration": 16,
    "start_time": "2024-10-14T03:27:25.343Z"
   },
   {
    "duration": 489,
    "start_time": "2024-10-14T03:28:06.442Z"
   },
   {
    "duration": 54,
    "start_time": "2024-10-14T03:31:48.818Z"
   },
   {
    "duration": 149,
    "start_time": "2024-10-14T03:34:10.489Z"
   },
   {
    "duration": 210,
    "start_time": "2024-10-14T03:37:10.924Z"
   },
   {
    "duration": 258,
    "start_time": "2024-10-14T03:40:50.297Z"
   },
   {
    "duration": 169,
    "start_time": "2024-10-14T03:42:17.721Z"
   },
   {
    "duration": 165,
    "start_time": "2024-10-14T03:44:19.717Z"
   },
   {
    "duration": 9,
    "start_time": "2024-10-14T03:57:47.033Z"
   },
   {
    "duration": 10,
    "start_time": "2024-10-14T03:58:19.130Z"
   },
   {
    "duration": 126,
    "start_time": "2024-10-14T04:02:25.897Z"
   },
   {
    "duration": 51,
    "start_time": "2024-10-14T04:03:58.656Z"
   },
   {
    "duration": 51,
    "start_time": "2024-10-14T04:04:17.729Z"
   },
   {
    "duration": 259,
    "start_time": "2024-10-14T04:07:50.931Z"
   },
   {
    "duration": 502,
    "start_time": "2024-10-14T04:19:57.802Z"
   },
   {
    "duration": 361,
    "start_time": "2024-10-14T04:20:56.209Z"
   },
   {
    "duration": 111,
    "start_time": "2024-10-14T04:21:07.161Z"
   },
   {
    "duration": 240,
    "start_time": "2024-10-14T04:23:04.458Z"
   },
   {
    "duration": 228,
    "start_time": "2024-10-14T04:29:44.373Z"
   },
   {
    "duration": 7,
    "start_time": "2024-10-14T04:37:32.321Z"
   },
   {
    "duration": 4,
    "start_time": "2024-10-14T04:38:43.447Z"
   },
   {
    "duration": 153,
    "start_time": "2024-10-14T04:39:16.659Z"
   },
   {
    "duration": 5,
    "start_time": "2024-10-14T04:39:27.817Z"
   },
   {
    "duration": 3,
    "start_time": "2024-10-14T04:39:55.454Z"
   },
   {
    "duration": 8,
    "start_time": "2024-10-14T04:40:02.224Z"
   },
   {
    "duration": 3,
    "start_time": "2024-10-14T04:41:13.610Z"
   },
   {
    "duration": 234,
    "start_time": "2024-10-14T04:48:02.387Z"
   },
   {
    "duration": 265,
    "start_time": "2024-10-14T04:48:23.687Z"
   },
   {
    "duration": 40,
    "start_time": "2024-10-14T04:51:38.717Z"
   },
   {
    "duration": 38,
    "start_time": "2024-10-14T04:53:54.667Z"
   },
   {
    "duration": 3,
    "start_time": "2024-10-14T04:54:27.232Z"
   },
   {
    "duration": 37,
    "start_time": "2024-10-14T04:54:33.999Z"
   },
   {
    "duration": 122,
    "start_time": "2024-10-14T04:55:42.486Z"
   },
   {
    "duration": 125,
    "start_time": "2024-10-14T04:55:56.813Z"
   },
   {
    "duration": 126,
    "start_time": "2024-10-14T04:56:06.994Z"
   },
   {
    "duration": 173,
    "start_time": "2024-10-14T04:57:45.548Z"
   },
   {
    "duration": 179,
    "start_time": "2024-10-14T04:58:28.916Z"
   },
   {
    "duration": 130,
    "start_time": "2024-10-14T04:58:52.694Z"
   },
   {
    "duration": 3,
    "start_time": "2024-10-14T05:00:22.115Z"
   },
   {
    "duration": 384,
    "start_time": "2024-10-14T05:00:45.293Z"
   },
   {
    "duration": 496,
    "start_time": "2024-10-14T05:02:41.138Z"
   },
   {
    "duration": 944,
    "start_time": "2024-10-14T05:02:41.636Z"
   },
   {
    "duration": 11,
    "start_time": "2024-10-14T05:02:42.582Z"
   },
   {
    "duration": 9,
    "start_time": "2024-10-14T05:02:42.596Z"
   },
   {
    "duration": 7,
    "start_time": "2024-10-14T05:02:42.607Z"
   },
   {
    "duration": 7,
    "start_time": "2024-10-14T05:02:42.616Z"
   },
   {
    "duration": 52,
    "start_time": "2024-10-14T05:02:42.625Z"
   },
   {
    "duration": 105,
    "start_time": "2024-10-14T05:02:42.679Z"
   },
   {
    "duration": 93,
    "start_time": "2024-10-14T05:02:42.786Z"
   },
   {
    "duration": 11,
    "start_time": "2024-10-14T05:02:42.882Z"
   },
   {
    "duration": 6,
    "start_time": "2024-10-14T05:02:42.895Z"
   },
   {
    "duration": 114,
    "start_time": "2024-10-14T05:02:42.902Z"
   },
   {
    "duration": 90,
    "start_time": "2024-10-14T05:02:43.018Z"
   },
   {
    "duration": 47,
    "start_time": "2024-10-14T05:02:43.110Z"
   },
   {
    "duration": 20,
    "start_time": "2024-10-14T05:02:43.170Z"
   },
   {
    "duration": 6,
    "start_time": "2024-10-14T05:02:43.193Z"
   },
   {
    "duration": 33,
    "start_time": "2024-10-14T05:02:43.201Z"
   },
   {
    "duration": 38,
    "start_time": "2024-10-14T05:02:43.236Z"
   },
   {
    "duration": 13,
    "start_time": "2024-10-14T05:02:43.275Z"
   },
   {
    "duration": 5,
    "start_time": "2024-10-14T05:02:43.289Z"
   },
   {
    "duration": 11,
    "start_time": "2024-10-14T05:02:43.296Z"
   },
   {
    "duration": 9,
    "start_time": "2024-10-14T05:02:43.309Z"
   },
   {
    "duration": 864,
    "start_time": "2024-10-14T05:02:43.319Z"
   },
   {
    "duration": 718,
    "start_time": "2024-10-14T05:02:44.185Z"
   },
   {
    "duration": 13,
    "start_time": "2024-10-14T05:02:44.905Z"
   },
   {
    "duration": 10,
    "start_time": "2024-10-14T05:02:44.919Z"
   },
   {
    "duration": 10,
    "start_time": "2024-10-14T05:02:44.931Z"
   },
   {
    "duration": 28,
    "start_time": "2024-10-14T05:02:44.946Z"
   },
   {
    "duration": 7,
    "start_time": "2024-10-14T05:02:44.976Z"
   },
   {
    "duration": 6,
    "start_time": "2024-10-14T05:02:44.985Z"
   },
   {
    "duration": 6,
    "start_time": "2024-10-14T05:02:44.993Z"
   },
   {
    "duration": 6,
    "start_time": "2024-10-14T05:02:45.002Z"
   },
   {
    "duration": 9,
    "start_time": "2024-10-14T05:02:45.011Z"
   },
   {
    "duration": 13,
    "start_time": "2024-10-14T05:02:45.022Z"
   },
   {
    "duration": 24,
    "start_time": "2024-10-14T05:02:45.071Z"
   },
   {
    "duration": 32,
    "start_time": "2024-10-14T05:02:45.096Z"
   },
   {
    "duration": 24,
    "start_time": "2024-10-14T05:02:45.132Z"
   },
   {
    "duration": 8,
    "start_time": "2024-10-14T05:02:45.171Z"
   },
   {
    "duration": 26,
    "start_time": "2024-10-14T05:02:45.181Z"
   },
   {
    "duration": 22,
    "start_time": "2024-10-14T05:02:45.209Z"
   },
   {
    "duration": 47,
    "start_time": "2024-10-14T05:02:45.233Z"
   },
   {
    "duration": 28,
    "start_time": "2024-10-14T05:02:45.282Z"
   },
   {
    "duration": 15,
    "start_time": "2024-10-14T05:02:45.312Z"
   },
   {
    "duration": 5,
    "start_time": "2024-10-14T05:02:45.328Z"
   },
   {
    "duration": 7,
    "start_time": "2024-10-14T05:02:45.335Z"
   },
   {
    "duration": 32,
    "start_time": "2024-10-14T05:02:45.343Z"
   },
   {
    "duration": 206,
    "start_time": "2024-10-14T05:02:45.376Z"
   },
   {
    "duration": 6,
    "start_time": "2024-10-14T05:02:45.584Z"
   },
   {
    "duration": 133,
    "start_time": "2024-10-14T05:02:45.592Z"
   },
   {
    "duration": 7,
    "start_time": "2024-10-14T05:02:45.727Z"
   },
   {
    "duration": 209,
    "start_time": "2024-10-14T05:02:45.736Z"
   },
   {
    "duration": 14,
    "start_time": "2024-10-14T05:02:45.947Z"
   },
   {
    "duration": 13,
    "start_time": "2024-10-14T05:02:45.970Z"
   },
   {
    "duration": 286,
    "start_time": "2024-10-14T05:02:45.984Z"
   },
   {
    "duration": 7,
    "start_time": "2024-10-14T05:02:46.272Z"
   },
   {
    "duration": 9,
    "start_time": "2024-10-14T05:02:46.280Z"
   },
   {
    "duration": 1034,
    "start_time": "2024-10-14T05:02:46.291Z"
   },
   {
    "duration": 997,
    "start_time": "2024-10-14T05:03:01.230Z"
   },
   {
    "duration": 4,
    "start_time": "2024-10-14T05:06:40.815Z"
   },
   {
    "duration": 136,
    "start_time": "2024-10-14T05:06:53.298Z"
   },
   {
    "duration": 131,
    "start_time": "2024-10-14T05:07:22.276Z"
   },
   {
    "duration": 120,
    "start_time": "2024-10-14T05:08:50.501Z"
   },
   {
    "duration": 4,
    "start_time": "2024-10-14T05:09:12.587Z"
   },
   {
    "duration": 111,
    "start_time": "2024-10-14T05:09:21.942Z"
   },
   {
    "duration": 927,
    "start_time": "2024-10-14T05:09:49.743Z"
   },
   {
    "duration": 1171,
    "start_time": "2024-10-14T05:13:27.369Z"
   },
   {
    "duration": 912,
    "start_time": "2024-10-14T05:13:53.703Z"
   },
   {
    "duration": 206,
    "start_time": "2024-10-14T05:15:12.820Z"
   },
   {
    "duration": 18,
    "start_time": "2024-10-14T05:15:32.507Z"
   },
   {
    "duration": 1027,
    "start_time": "2024-10-14T05:16:00.518Z"
   },
   {
    "duration": 683,
    "start_time": "2024-10-14T05:17:16.648Z"
   },
   {
    "duration": 133,
    "start_time": "2024-10-14T05:20:07.893Z"
   },
   {
    "duration": 269,
    "start_time": "2024-10-14T05:20:51.266Z"
   },
   {
    "duration": 18,
    "start_time": "2024-10-14T05:23:03.795Z"
   },
   {
    "duration": 128,
    "start_time": "2024-10-14T05:23:08.249Z"
   },
   {
    "duration": 133,
    "start_time": "2024-10-14T05:23:34.699Z"
   },
   {
    "duration": 123,
    "start_time": "2024-10-14T05:24:05.283Z"
   },
   {
    "duration": 121,
    "start_time": "2024-10-14T05:29:19.797Z"
   },
   {
    "duration": 458,
    "start_time": "2024-10-14T22:17:12.639Z"
   },
   {
    "duration": 947,
    "start_time": "2024-10-14T22:17:13.099Z"
   },
   {
    "duration": 11,
    "start_time": "2024-10-14T22:17:14.048Z"
   },
   {
    "duration": 9,
    "start_time": "2024-10-14T22:17:14.061Z"
   },
   {
    "duration": 7,
    "start_time": "2024-10-14T22:17:14.073Z"
   },
   {
    "duration": 7,
    "start_time": "2024-10-14T22:17:14.082Z"
   },
   {
    "duration": 53,
    "start_time": "2024-10-14T22:17:14.091Z"
   },
   {
    "duration": 102,
    "start_time": "2024-10-14T22:17:14.146Z"
   },
   {
    "duration": 92,
    "start_time": "2024-10-14T22:17:14.250Z"
   },
   {
    "duration": 11,
    "start_time": "2024-10-14T22:17:14.344Z"
   },
   {
    "duration": 4,
    "start_time": "2024-10-14T22:17:14.356Z"
   },
   {
    "duration": 125,
    "start_time": "2024-10-14T22:17:14.362Z"
   },
   {
    "duration": 90,
    "start_time": "2024-10-14T22:17:14.489Z"
   },
   {
    "duration": 54,
    "start_time": "2024-10-14T22:17:14.583Z"
   },
   {
    "duration": 20,
    "start_time": "2024-10-14T22:17:14.638Z"
   },
   {
    "duration": 6,
    "start_time": "2024-10-14T22:17:14.660Z"
   },
   {
    "duration": 26,
    "start_time": "2024-10-14T22:17:14.667Z"
   },
   {
    "duration": 42,
    "start_time": "2024-10-14T22:17:14.695Z"
   },
   {
    "duration": 10,
    "start_time": "2024-10-14T22:17:14.739Z"
   },
   {
    "duration": 4,
    "start_time": "2024-10-14T22:17:14.750Z"
   },
   {
    "duration": 9,
    "start_time": "2024-10-14T22:17:14.756Z"
   },
   {
    "duration": 6,
    "start_time": "2024-10-14T22:17:14.768Z"
   },
   {
    "duration": 863,
    "start_time": "2024-10-14T22:17:14.776Z"
   },
   {
    "duration": 730,
    "start_time": "2024-10-14T22:17:15.640Z"
   },
   {
    "duration": 12,
    "start_time": "2024-10-14T22:17:16.373Z"
   },
   {
    "duration": 7,
    "start_time": "2024-10-14T22:17:16.387Z"
   },
   {
    "duration": 8,
    "start_time": "2024-10-14T22:17:16.396Z"
   },
   {
    "duration": 27,
    "start_time": "2024-10-14T22:17:16.406Z"
   },
   {
    "duration": 8,
    "start_time": "2024-10-14T22:17:16.435Z"
   },
   {
    "duration": 5,
    "start_time": "2024-10-14T22:17:16.445Z"
   },
   {
    "duration": 7,
    "start_time": "2024-10-14T22:17:16.451Z"
   },
   {
    "duration": 7,
    "start_time": "2024-10-14T22:17:16.459Z"
   },
   {
    "duration": 7,
    "start_time": "2024-10-14T22:17:16.468Z"
   },
   {
    "duration": 11,
    "start_time": "2024-10-14T22:17:16.477Z"
   },
   {
    "duration": 56,
    "start_time": "2024-10-14T22:17:16.490Z"
   },
   {
    "duration": 41,
    "start_time": "2024-10-14T22:17:16.548Z"
   },
   {
    "duration": 19,
    "start_time": "2024-10-14T22:17:16.591Z"
   },
   {
    "duration": 24,
    "start_time": "2024-10-14T22:17:16.611Z"
   },
   {
    "duration": 26,
    "start_time": "2024-10-14T22:17:16.637Z"
   },
   {
    "duration": 23,
    "start_time": "2024-10-14T22:17:16.665Z"
   },
   {
    "duration": 51,
    "start_time": "2024-10-14T22:17:16.693Z"
   },
   {
    "duration": 28,
    "start_time": "2024-10-14T22:17:16.746Z"
   },
   {
    "duration": 15,
    "start_time": "2024-10-14T22:17:16.776Z"
   },
   {
    "duration": 6,
    "start_time": "2024-10-14T22:17:16.793Z"
   },
   {
    "duration": 5,
    "start_time": "2024-10-14T22:17:16.800Z"
   },
   {
    "duration": 6,
    "start_time": "2024-10-14T22:17:16.831Z"
   },
   {
    "duration": 210,
    "start_time": "2024-10-14T22:17:16.839Z"
   },
   {
    "duration": 6,
    "start_time": "2024-10-14T22:17:17.051Z"
   },
   {
    "duration": 132,
    "start_time": "2024-10-14T22:17:17.059Z"
   },
   {
    "duration": 8,
    "start_time": "2024-10-14T22:17:17.193Z"
   },
   {
    "duration": 212,
    "start_time": "2024-10-14T22:17:17.203Z"
   },
   {
    "duration": 26,
    "start_time": "2024-10-14T22:17:17.416Z"
   },
   {
    "duration": 10,
    "start_time": "2024-10-14T22:17:17.444Z"
   },
   {
    "duration": 252,
    "start_time": "2024-10-14T22:17:17.456Z"
   },
   {
    "duration": 7,
    "start_time": "2024-10-14T22:17:17.709Z"
   },
   {
    "duration": 11,
    "start_time": "2024-10-14T22:17:17.731Z"
   },
   {
    "duration": 142,
    "start_time": "2024-10-14T22:17:17.744Z"
   },
   {
    "duration": 113,
    "start_time": "2024-10-14T22:17:17.887Z"
   },
   {
    "duration": 687,
    "start_time": "2024-10-14T22:20:54.506Z"
   },
   {
    "duration": 11,
    "start_time": "2024-10-14T22:21:10.824Z"
   },
   {
    "duration": 472,
    "start_time": "2024-10-14T22:23:47.740Z"
   },
   {
    "duration": 5,
    "start_time": "2024-10-14T22:24:27.988Z"
   },
   {
    "duration": 483,
    "start_time": "2024-10-14T22:24:33.905Z"
   },
   {
    "duration": 464,
    "start_time": "2024-10-14T22:25:19.233Z"
   },
   {
    "duration": 3,
    "start_time": "2024-10-14T22:40:36.865Z"
   },
   {
    "duration": 5,
    "start_time": "2024-10-14T22:40:54.062Z"
   },
   {
    "duration": 220,
    "start_time": "2024-10-14T22:43:44.860Z"
   },
   {
    "duration": 215,
    "start_time": "2024-10-14T22:44:57.962Z"
   },
   {
    "duration": 286,
    "start_time": "2024-10-14T22:45:16.428Z"
   },
   {
    "duration": 313,
    "start_time": "2024-10-14T22:45:25.701Z"
   },
   {
    "duration": 218,
    "start_time": "2024-10-14T22:45:30.729Z"
   },
   {
    "duration": 11,
    "start_time": "2024-10-14T22:56:28.297Z"
   },
   {
    "duration": 13,
    "start_time": "2024-10-14T23:01:02.960Z"
   },
   {
    "duration": 860,
    "start_time": "2024-10-14T23:02:26.075Z"
   },
   {
    "duration": 902,
    "start_time": "2024-10-14T23:05:15.321Z"
   },
   {
    "duration": 891,
    "start_time": "2024-10-14T23:05:29.530Z"
   },
   {
    "duration": 432,
    "start_time": "2024-10-14T23:07:20.492Z"
   },
   {
    "duration": 14,
    "start_time": "2024-10-14T23:11:41.490Z"
   },
   {
    "duration": 14,
    "start_time": "2024-10-14T23:12:07.788Z"
   },
   {
    "duration": 187,
    "start_time": "2024-10-14T23:12:23.756Z"
   },
   {
    "duration": 186,
    "start_time": "2024-10-14T23:12:36.792Z"
   },
   {
    "duration": 215,
    "start_time": "2024-10-14T23:13:07.806Z"
   },
   {
    "duration": 199,
    "start_time": "2024-10-14T23:13:31.885Z"
   },
   {
    "duration": 211,
    "start_time": "2024-10-14T23:14:28.237Z"
   },
   {
    "duration": 197,
    "start_time": "2024-10-14T23:14:39.187Z"
   },
   {
    "duration": 3,
    "start_time": "2024-10-14T23:15:15.584Z"
   },
   {
    "duration": 3,
    "start_time": "2024-10-14T23:15:30.336Z"
   },
   {
    "duration": 15,
    "start_time": "2024-10-14T23:16:45.419Z"
   },
   {
    "duration": 8,
    "start_time": "2024-10-14T23:22:40.909Z"
   },
   {
    "duration": 509,
    "start_time": "2024-10-14T23:25:02.476Z"
   },
   {
    "duration": 65,
    "start_time": "2024-10-14T23:25:55.009Z"
   },
   {
    "duration": 154,
    "start_time": "2024-10-14T23:27:36.685Z"
   },
   {
    "duration": 402,
    "start_time": "2024-10-14T23:29:49.959Z"
   },
   {
    "duration": 372,
    "start_time": "2024-10-14T23:30:54.659Z"
   },
   {
    "duration": 4,
    "start_time": "2024-10-14T23:31:37.656Z"
   },
   {
    "duration": 4,
    "start_time": "2024-10-14T23:32:02.887Z"
   },
   {
    "duration": 120,
    "start_time": "2024-10-14T23:33:34.964Z"
   },
   {
    "duration": 139,
    "start_time": "2024-10-14T23:35:35.757Z"
   },
   {
    "duration": 195,
    "start_time": "2024-10-14T23:36:26.579Z"
   },
   {
    "duration": 133,
    "start_time": "2024-10-14T23:39:23.631Z"
   },
   {
    "duration": 130,
    "start_time": "2024-10-14T23:39:53.911Z"
   },
   {
    "duration": 151,
    "start_time": "2024-10-14T23:40:47.710Z"
   },
   {
    "duration": 150,
    "start_time": "2024-10-14T23:41:20.364Z"
   },
   {
    "duration": 153,
    "start_time": "2024-10-14T23:41:57.884Z"
   },
   {
    "duration": 149,
    "start_time": "2024-10-14T23:42:14.727Z"
   },
   {
    "duration": 300,
    "start_time": "2024-10-14T23:42:32.379Z"
   },
   {
    "duration": 282,
    "start_time": "2024-10-14T23:43:23.949Z"
   },
   {
    "duration": 248,
    "start_time": "2024-10-14T23:43:35.367Z"
   },
   {
    "duration": 245,
    "start_time": "2024-10-14T23:46:02.112Z"
   },
   {
    "duration": 18,
    "start_time": "2024-10-15T00:07:56.104Z"
   },
   {
    "duration": 504,
    "start_time": "2024-10-15T00:08:29.920Z"
   },
   {
    "duration": 161,
    "start_time": "2024-10-15T02:59:26.826Z"
   },
   {
    "duration": 2220,
    "start_time": "2024-10-15T03:00:26.267Z"
   },
   {
    "duration": 1055,
    "start_time": "2024-10-15T03:00:28.489Z"
   },
   {
    "duration": 12,
    "start_time": "2024-10-15T03:00:29.545Z"
   },
   {
    "duration": 9,
    "start_time": "2024-10-15T03:00:29.560Z"
   },
   {
    "duration": 7,
    "start_time": "2024-10-15T03:00:29.571Z"
   },
   {
    "duration": 8,
    "start_time": "2024-10-15T03:00:29.579Z"
   },
   {
    "duration": 50,
    "start_time": "2024-10-15T03:00:29.589Z"
   },
   {
    "duration": 99,
    "start_time": "2024-10-15T03:00:29.641Z"
   },
   {
    "duration": 90,
    "start_time": "2024-10-15T03:00:29.741Z"
   },
   {
    "duration": 11,
    "start_time": "2024-10-15T03:00:29.834Z"
   },
   {
    "duration": 4,
    "start_time": "2024-10-15T03:00:29.846Z"
   },
   {
    "duration": 107,
    "start_time": "2024-10-15T03:00:29.852Z"
   },
   {
    "duration": 93,
    "start_time": "2024-10-15T03:00:29.960Z"
   },
   {
    "duration": 43,
    "start_time": "2024-10-15T03:00:30.055Z"
   },
   {
    "duration": 34,
    "start_time": "2024-10-15T03:00:30.100Z"
   },
   {
    "duration": 5,
    "start_time": "2024-10-15T03:00:30.135Z"
   },
   {
    "duration": 24,
    "start_time": "2024-10-15T03:00:30.142Z"
   },
   {
    "duration": 17,
    "start_time": "2024-10-15T03:00:30.167Z"
   },
   {
    "duration": 10,
    "start_time": "2024-10-15T03:00:30.186Z"
   },
   {
    "duration": 4,
    "start_time": "2024-10-15T03:00:30.224Z"
   },
   {
    "duration": 9,
    "start_time": "2024-10-15T03:00:30.230Z"
   },
   {
    "duration": 5,
    "start_time": "2024-10-15T03:00:30.241Z"
   },
   {
    "duration": 769,
    "start_time": "2024-10-15T03:00:30.248Z"
   },
   {
    "duration": 662,
    "start_time": "2024-10-15T03:00:31.023Z"
   },
   {
    "duration": 11,
    "start_time": "2024-10-15T03:00:31.687Z"
   },
   {
    "duration": 8,
    "start_time": "2024-10-15T03:00:31.700Z"
   },
   {
    "duration": 7,
    "start_time": "2024-10-15T03:00:31.723Z"
   },
   {
    "duration": 5,
    "start_time": "2024-10-15T03:00:31.737Z"
   },
   {
    "duration": 6,
    "start_time": "2024-10-15T03:00:31.743Z"
   },
   {
    "duration": 5,
    "start_time": "2024-10-15T03:00:31.750Z"
   },
   {
    "duration": 6,
    "start_time": "2024-10-15T03:00:31.756Z"
   },
   {
    "duration": 7,
    "start_time": "2024-10-15T03:00:31.763Z"
   },
   {
    "duration": 6,
    "start_time": "2024-10-15T03:00:31.771Z"
   },
   {
    "duration": 51,
    "start_time": "2024-10-15T03:00:31.778Z"
   },
   {
    "duration": 16,
    "start_time": "2024-10-15T03:00:31.830Z"
   },
   {
    "duration": 28,
    "start_time": "2024-10-15T03:00:31.847Z"
   },
   {
    "duration": 16,
    "start_time": "2024-10-15T03:00:31.877Z"
   },
   {
    "duration": 31,
    "start_time": "2024-10-15T03:00:31.895Z"
   },
   {
    "duration": 24,
    "start_time": "2024-10-15T03:00:31.928Z"
   },
   {
    "duration": 22,
    "start_time": "2024-10-15T03:00:31.954Z"
   },
   {
    "duration": 21,
    "start_time": "2024-10-15T03:00:31.978Z"
   },
   {
    "duration": 25,
    "start_time": "2024-10-15T03:00:32.024Z"
   },
   {
    "duration": 16,
    "start_time": "2024-10-15T03:00:32.050Z"
   },
   {
    "duration": 5,
    "start_time": "2024-10-15T03:00:32.068Z"
   },
   {
    "duration": 5,
    "start_time": "2024-10-15T03:00:32.074Z"
   },
   {
    "duration": 6,
    "start_time": "2024-10-15T03:00:32.081Z"
   },
   {
    "duration": 217,
    "start_time": "2024-10-15T03:00:32.089Z"
   },
   {
    "duration": 5,
    "start_time": "2024-10-15T03:00:32.308Z"
   },
   {
    "duration": 124,
    "start_time": "2024-10-15T03:00:32.314Z"
   },
   {
    "duration": 7,
    "start_time": "2024-10-15T03:00:32.439Z"
   },
   {
    "duration": 242,
    "start_time": "2024-10-15T03:00:32.448Z"
   },
   {
    "duration": 16,
    "start_time": "2024-10-15T03:00:32.692Z"
   },
   {
    "duration": 23,
    "start_time": "2024-10-15T03:00:32.710Z"
   },
   {
    "duration": 233,
    "start_time": "2024-10-15T03:00:32.735Z"
   },
   {
    "duration": 6,
    "start_time": "2024-10-15T03:00:32.970Z"
   },
   {
    "duration": 8,
    "start_time": "2024-10-15T03:00:32.978Z"
   },
   {
    "duration": 155,
    "start_time": "2024-10-15T03:00:32.987Z"
   },
   {
    "duration": 672,
    "start_time": "2024-10-15T03:00:33.145Z"
   },
   {
    "duration": 13,
    "start_time": "2024-10-15T03:00:33.823Z"
   },
   {
    "duration": 458,
    "start_time": "2024-10-15T03:00:33.839Z"
   },
   {
    "duration": 4,
    "start_time": "2024-10-15T03:00:34.299Z"
   },
   {
    "duration": 228,
    "start_time": "2024-10-15T03:00:34.305Z"
   },
   {
    "duration": 814,
    "start_time": "2024-10-15T03:00:34.534Z"
   },
   {
    "duration": 213,
    "start_time": "2024-10-15T03:00:35.350Z"
   },
   {
    "duration": 14,
    "start_time": "2024-10-15T03:00:35.565Z"
   },
   {
    "duration": 443,
    "start_time": "2024-10-15T03:00:35.581Z"
   },
   {
    "duration": 3,
    "start_time": "2024-10-15T03:00:36.026Z"
   },
   {
    "duration": 4,
    "start_time": "2024-10-15T03:00:36.031Z"
   },
   {
    "duration": 247,
    "start_time": "2024-10-15T03:00:36.037Z"
   },
   {
    "duration": 461,
    "start_time": "2024-10-15T03:00:36.286Z"
   },
   {
    "duration": 10,
    "start_time": "2024-10-15T03:00:36.749Z"
   },
   {
    "duration": 181,
    "start_time": "2024-10-15T03:03:18.239Z"
   },
   {
    "duration": 12,
    "start_time": "2024-10-15T03:03:26.872Z"
   },
   {
    "duration": 742,
    "start_time": "2024-10-15T03:05:55.501Z"
   },
   {
    "duration": 11,
    "start_time": "2024-10-15T03:06:02.286Z"
   },
   {
    "duration": 1246,
    "start_time": "2024-10-15T03:08:24.103Z"
   },
   {
    "duration": 1307,
    "start_time": "2024-10-15T03:09:52.275Z"
   },
   {
    "duration": 1184,
    "start_time": "2024-10-15T03:10:09.625Z"
   },
   {
    "duration": 84,
    "start_time": "2024-10-15T03:13:37.325Z"
   },
   {
    "duration": 11,
    "start_time": "2024-10-15T03:21:11.965Z"
   },
   {
    "duration": 9,
    "start_time": "2024-10-15T03:22:31.492Z"
   },
   {
    "duration": 440,
    "start_time": "2024-10-15T03:40:00.523Z"
   },
   {
    "duration": 38,
    "start_time": "2024-10-15T03:41:09.241Z"
   },
   {
    "duration": 4,
    "start_time": "2024-10-15T03:41:30.951Z"
   },
   {
    "duration": 6,
    "start_time": "2024-10-15T03:41:46.420Z"
   },
   {
    "duration": 4,
    "start_time": "2024-10-15T03:44:34.071Z"
   },
   {
    "duration": 640,
    "start_time": "2024-10-15T03:48:02.353Z"
   },
   {
    "duration": 74,
    "start_time": "2024-10-15T03:48:51.162Z"
   },
   {
    "duration": 399,
    "start_time": "2024-10-15T03:49:35.588Z"
   },
   {
    "duration": 931,
    "start_time": "2024-10-15T03:49:35.989Z"
   },
   {
    "duration": 11,
    "start_time": "2024-10-15T03:49:36.922Z"
   },
   {
    "duration": 9,
    "start_time": "2024-10-15T03:49:36.935Z"
   },
   {
    "duration": 7,
    "start_time": "2024-10-15T03:49:36.946Z"
   },
   {
    "duration": 7,
    "start_time": "2024-10-15T03:49:36.955Z"
   },
   {
    "duration": 23,
    "start_time": "2024-10-15T03:49:36.964Z"
   },
   {
    "duration": 123,
    "start_time": "2024-10-15T03:49:36.989Z"
   },
   {
    "duration": 87,
    "start_time": "2024-10-15T03:49:37.113Z"
   },
   {
    "duration": 23,
    "start_time": "2024-10-15T03:49:37.202Z"
   },
   {
    "duration": 3,
    "start_time": "2024-10-15T03:49:37.227Z"
   },
   {
    "duration": 99,
    "start_time": "2024-10-15T03:49:37.232Z"
   },
   {
    "duration": 83,
    "start_time": "2024-10-15T03:49:37.332Z"
   },
   {
    "duration": 49,
    "start_time": "2024-10-15T03:49:37.418Z"
   },
   {
    "duration": 19,
    "start_time": "2024-10-15T03:49:37.469Z"
   },
   {
    "duration": 4,
    "start_time": "2024-10-15T03:49:37.490Z"
   },
   {
    "duration": 57,
    "start_time": "2024-10-15T03:49:37.496Z"
   },
   {
    "duration": 15,
    "start_time": "2024-10-15T03:49:37.555Z"
   },
   {
    "duration": 9,
    "start_time": "2024-10-15T03:49:37.571Z"
   },
   {
    "duration": 5,
    "start_time": "2024-10-15T03:49:37.582Z"
   },
   {
    "duration": 35,
    "start_time": "2024-10-15T03:49:37.589Z"
   },
   {
    "duration": 8,
    "start_time": "2024-10-15T03:49:37.626Z"
   },
   {
    "duration": 794,
    "start_time": "2024-10-15T03:49:37.636Z"
   },
   {
    "duration": 661,
    "start_time": "2024-10-15T03:49:38.432Z"
   },
   {
    "duration": 12,
    "start_time": "2024-10-15T03:49:39.094Z"
   },
   {
    "duration": 20,
    "start_time": "2024-10-15T03:49:39.108Z"
   },
   {
    "duration": 7,
    "start_time": "2024-10-15T03:49:39.129Z"
   },
   {
    "duration": 6,
    "start_time": "2024-10-15T03:49:39.137Z"
   },
   {
    "duration": 5,
    "start_time": "2024-10-15T03:49:39.144Z"
   },
   {
    "duration": 5,
    "start_time": "2024-10-15T03:49:39.151Z"
   },
   {
    "duration": 5,
    "start_time": "2024-10-15T03:49:39.158Z"
   },
   {
    "duration": 7,
    "start_time": "2024-10-15T03:49:39.164Z"
   },
   {
    "duration": 6,
    "start_time": "2024-10-15T03:49:39.172Z"
   },
   {
    "duration": 53,
    "start_time": "2024-10-15T03:49:39.180Z"
   },
   {
    "duration": 15,
    "start_time": "2024-10-15T03:49:39.235Z"
   },
   {
    "duration": 29,
    "start_time": "2024-10-15T03:49:39.252Z"
   },
   {
    "duration": 41,
    "start_time": "2024-10-15T03:49:39.283Z"
   },
   {
    "duration": 7,
    "start_time": "2024-10-15T03:49:39.326Z"
   },
   {
    "duration": 24,
    "start_time": "2024-10-15T03:49:39.335Z"
   },
   {
    "duration": 22,
    "start_time": "2024-10-15T03:49:39.361Z"
   },
   {
    "duration": 42,
    "start_time": "2024-10-15T03:49:39.388Z"
   },
   {
    "duration": 27,
    "start_time": "2024-10-15T03:49:39.432Z"
   },
   {
    "duration": 14,
    "start_time": "2024-10-15T03:49:39.460Z"
   },
   {
    "duration": 5,
    "start_time": "2024-10-15T03:49:39.476Z"
   },
   {
    "duration": 5,
    "start_time": "2024-10-15T03:49:39.482Z"
   },
   {
    "duration": 38,
    "start_time": "2024-10-15T03:49:39.488Z"
   },
   {
    "duration": 183,
    "start_time": "2024-10-15T03:49:39.528Z"
   },
   {
    "duration": 12,
    "start_time": "2024-10-15T03:49:39.712Z"
   },
   {
    "duration": 122,
    "start_time": "2024-10-15T03:49:39.725Z"
   },
   {
    "duration": 7,
    "start_time": "2024-10-15T03:49:39.848Z"
   },
   {
    "duration": 205,
    "start_time": "2024-10-15T03:49:39.857Z"
   },
   {
    "duration": 13,
    "start_time": "2024-10-15T03:49:40.064Z"
   },
   {
    "duration": 9,
    "start_time": "2024-10-15T03:49:40.079Z"
   },
   {
    "duration": 251,
    "start_time": "2024-10-15T03:49:40.090Z"
   },
   {
    "duration": 7,
    "start_time": "2024-10-15T03:49:40.342Z"
   },
   {
    "duration": 9,
    "start_time": "2024-10-15T03:49:40.351Z"
   },
   {
    "duration": 140,
    "start_time": "2024-10-15T03:49:40.361Z"
   },
   {
    "duration": 675,
    "start_time": "2024-10-15T03:49:40.502Z"
   },
   {
    "duration": 21,
    "start_time": "2024-10-15T03:49:41.179Z"
   },
   {
    "duration": 448,
    "start_time": "2024-10-15T03:49:41.201Z"
   },
   {
    "duration": 4,
    "start_time": "2024-10-15T03:49:41.651Z"
   },
   {
    "duration": 228,
    "start_time": "2024-10-15T03:49:41.656Z"
   },
   {
    "duration": 903,
    "start_time": "2024-10-15T03:49:41.887Z"
   },
   {
    "duration": 220,
    "start_time": "2024-10-15T03:49:42.792Z"
   },
   {
    "duration": 19,
    "start_time": "2024-10-15T03:49:43.015Z"
   },
   {
    "duration": 434,
    "start_time": "2024-10-15T03:49:43.036Z"
   },
   {
    "duration": 3,
    "start_time": "2024-10-15T03:49:43.471Z"
   },
   {
    "duration": 3,
    "start_time": "2024-10-15T03:49:43.477Z"
   },
   {
    "duration": 252,
    "start_time": "2024-10-15T03:49:43.482Z"
   },
   {
    "duration": 490,
    "start_time": "2024-10-15T03:49:43.736Z"
   },
   {
    "duration": 641,
    "start_time": "2024-10-15T03:49:44.228Z"
   },
   {
    "duration": 114,
    "start_time": "2024-10-15T03:49:44.871Z"
   },
   {
    "duration": 788,
    "start_time": "2024-10-15T03:49:44.987Z"
   },
   {
    "duration": 674,
    "start_time": "2024-10-15T03:49:45.777Z"
   },
   {
    "duration": 0,
    "start_time": "2024-10-15T03:49:46.453Z"
   },
   {
    "duration": 46,
    "start_time": "2024-10-15T03:53:05.878Z"
   },
   {
    "duration": 4,
    "start_time": "2024-10-15T03:53:09.720Z"
   },
   {
    "duration": 67,
    "start_time": "2024-10-15T03:55:06.006Z"
   },
   {
    "duration": 45,
    "start_time": "2024-10-15T03:56:00.953Z"
   },
   {
    "duration": 4,
    "start_time": "2024-10-15T03:56:19.333Z"
   },
   {
    "duration": 14,
    "start_time": "2024-10-15T03:56:47.070Z"
   },
   {
    "duration": 9,
    "start_time": "2024-10-15T03:57:04.162Z"
   },
   {
    "duration": 185,
    "start_time": "2024-10-16T01:53:51.075Z"
   },
   {
    "duration": 5,
    "start_time": "2024-10-16T01:53:56.174Z"
   },
   {
    "duration": 649,
    "start_time": "2024-10-16T01:58:58.708Z"
   },
   {
    "duration": 935,
    "start_time": "2024-10-16T01:58:59.360Z"
   },
   {
    "duration": 17,
    "start_time": "2024-10-16T01:59:00.297Z"
   },
   {
    "duration": 11,
    "start_time": "2024-10-16T01:59:00.317Z"
   },
   {
    "duration": 8,
    "start_time": "2024-10-16T01:59:00.330Z"
   },
   {
    "duration": 10,
    "start_time": "2024-10-16T01:59:00.340Z"
   },
   {
    "duration": 24,
    "start_time": "2024-10-16T01:59:00.352Z"
   },
   {
    "duration": 148,
    "start_time": "2024-10-16T01:59:00.378Z"
   },
   {
    "duration": 120,
    "start_time": "2024-10-16T01:59:00.528Z"
   },
   {
    "duration": 14,
    "start_time": "2024-10-16T01:59:00.652Z"
   },
   {
    "duration": 4,
    "start_time": "2024-10-16T01:59:00.668Z"
   },
   {
    "duration": 134,
    "start_time": "2024-10-16T01:59:00.674Z"
   },
   {
    "duration": 89,
    "start_time": "2024-10-16T01:59:00.811Z"
   },
   {
    "duration": 50,
    "start_time": "2024-10-16T01:59:00.912Z"
   },
   {
    "duration": 21,
    "start_time": "2024-10-16T01:59:00.963Z"
   },
   {
    "duration": 27,
    "start_time": "2024-10-16T01:59:00.986Z"
   },
   {
    "duration": 25,
    "start_time": "2024-10-16T01:59:01.014Z"
   },
   {
    "duration": 19,
    "start_time": "2024-10-16T01:59:01.041Z"
   },
   {
    "duration": 13,
    "start_time": "2024-10-16T01:59:01.062Z"
   },
   {
    "duration": 5,
    "start_time": "2024-10-16T01:59:01.077Z"
   },
   {
    "duration": 38,
    "start_time": "2024-10-16T01:59:01.084Z"
   },
   {
    "duration": 7,
    "start_time": "2024-10-16T01:59:01.125Z"
   },
   {
    "duration": 932,
    "start_time": "2024-10-16T01:59:01.134Z"
   },
   {
    "duration": 1054,
    "start_time": "2024-10-16T01:59:02.068Z"
   },
   {
    "duration": 11,
    "start_time": "2024-10-16T01:59:03.123Z"
   },
   {
    "duration": 8,
    "start_time": "2024-10-16T01:59:03.136Z"
   },
   {
    "duration": 7,
    "start_time": "2024-10-16T01:59:03.146Z"
   },
   {
    "duration": 7,
    "start_time": "2024-10-16T01:59:03.159Z"
   },
   {
    "duration": 7,
    "start_time": "2024-10-16T01:59:03.167Z"
   },
   {
    "duration": 42,
    "start_time": "2024-10-16T01:59:03.175Z"
   },
   {
    "duration": 6,
    "start_time": "2024-10-16T01:59:03.220Z"
   },
   {
    "duration": 8,
    "start_time": "2024-10-16T01:59:03.228Z"
   },
   {
    "duration": 8,
    "start_time": "2024-10-16T01:59:03.238Z"
   },
   {
    "duration": 12,
    "start_time": "2024-10-16T01:59:03.248Z"
   },
   {
    "duration": 59,
    "start_time": "2024-10-16T01:59:03.261Z"
   },
   {
    "duration": 33,
    "start_time": "2024-10-16T01:59:03.322Z"
   },
   {
    "duration": 18,
    "start_time": "2024-10-16T01:59:03.356Z"
   },
   {
    "duration": 8,
    "start_time": "2024-10-16T01:59:03.376Z"
   },
   {
    "duration": 59,
    "start_time": "2024-10-16T01:59:03.386Z"
   },
   {
    "duration": 22,
    "start_time": "2024-10-16T01:59:03.447Z"
   },
   {
    "duration": 40,
    "start_time": "2024-10-16T01:59:03.472Z"
   },
   {
    "duration": 29,
    "start_time": "2024-10-16T01:59:03.514Z"
   },
   {
    "duration": 16,
    "start_time": "2024-10-16T01:59:03.547Z"
   },
   {
    "duration": 7,
    "start_time": "2024-10-16T01:59:03.565Z"
   },
   {
    "duration": 6,
    "start_time": "2024-10-16T01:59:03.574Z"
   },
   {
    "duration": 34,
    "start_time": "2024-10-16T01:59:03.582Z"
   },
   {
    "duration": 204,
    "start_time": "2024-10-16T01:59:03.617Z"
   },
   {
    "duration": 7,
    "start_time": "2024-10-16T01:59:03.823Z"
   },
   {
    "duration": 161,
    "start_time": "2024-10-16T01:59:03.831Z"
   },
   {
    "duration": 18,
    "start_time": "2024-10-16T01:59:03.994Z"
   },
   {
    "duration": 225,
    "start_time": "2024-10-16T01:59:04.014Z"
   },
   {
    "duration": 16,
    "start_time": "2024-10-16T01:59:04.243Z"
   },
   {
    "duration": 12,
    "start_time": "2024-10-16T01:59:04.261Z"
   },
   {
    "duration": 262,
    "start_time": "2024-10-16T01:59:04.274Z"
   },
   {
    "duration": 9,
    "start_time": "2024-10-16T01:59:04.537Z"
   },
   {
    "duration": 12,
    "start_time": "2024-10-16T01:59:04.549Z"
   },
   {
    "duration": 235,
    "start_time": "2024-10-16T01:59:04.565Z"
   },
   {
    "duration": 819,
    "start_time": "2024-10-16T01:59:04.802Z"
   },
   {
    "duration": 13,
    "start_time": "2024-10-16T01:59:05.622Z"
   },
   {
    "duration": 481,
    "start_time": "2024-10-16T01:59:05.637Z"
   },
   {
    "duration": 4,
    "start_time": "2024-10-16T01:59:06.121Z"
   },
   {
    "duration": 246,
    "start_time": "2024-10-16T01:59:06.127Z"
   },
   {
    "duration": 986,
    "start_time": "2024-10-16T01:59:06.375Z"
   },
   {
    "duration": 223,
    "start_time": "2024-10-16T01:59:07.363Z"
   },
   {
    "duration": 28,
    "start_time": "2024-10-16T01:59:07.588Z"
   },
   {
    "duration": 538,
    "start_time": "2024-10-16T01:59:07.618Z"
   },
   {
    "duration": 3,
    "start_time": "2024-10-16T01:59:08.158Z"
   },
   {
    "duration": 5,
    "start_time": "2024-10-16T01:59:08.163Z"
   },
   {
    "duration": 290,
    "start_time": "2024-10-16T01:59:08.171Z"
   },
   {
    "duration": 509,
    "start_time": "2024-10-16T01:59:08.463Z"
   },
   {
    "duration": 1280,
    "start_time": "2024-10-16T01:59:08.975Z"
   },
   {
    "duration": 129,
    "start_time": "2024-10-16T01:59:10.257Z"
   },
   {
    "duration": 915,
    "start_time": "2024-10-16T01:59:10.388Z"
   },
   {
    "duration": 147,
    "start_time": "2024-10-16T01:59:11.305Z"
   },
   {
    "duration": 5,
    "start_time": "2024-10-16T01:59:11.453Z"
   },
   {
    "duration": 4,
    "start_time": "2024-10-16T01:59:11.460Z"
   },
   {
    "duration": 13,
    "start_time": "2024-10-16T01:59:11.465Z"
   },
   {
    "duration": 9,
    "start_time": "2024-10-16T01:59:11.479Z"
   }
  ],
  "colab": {
   "provenance": []
  },
  "kernelspec": {
   "display_name": "Python 3 (ipykernel)",
   "language": "python",
   "name": "python3"
  },
  "language_info": {
   "codemirror_mode": {
    "name": "ipython",
    "version": 3
   },
   "file_extension": ".py",
   "mimetype": "text/x-python",
   "name": "python",
   "nbconvert_exporter": "python",
   "pygments_lexer": "ipython3",
   "version": "3.9.19"
  },
  "toc": {
   "base_numbering": 1,
   "nav_menu": {},
   "number_sections": true,
   "sideBar": true,
   "skip_h1_title": true,
   "title_cell": "Table of Contents",
   "title_sidebar": "Contents",
   "toc_cell": false,
   "toc_position": {},
   "toc_section_display": true,
   "toc_window_display": false
  },
  "vscode": {
   "interpreter": {
    "hash": "01a7be9ec63e704a62cefc5fe7a4756944464ee731be31632bdf42a4cb4688cf"
   }
  }
 },
 "nbformat": 4,
 "nbformat_minor": 5
}
